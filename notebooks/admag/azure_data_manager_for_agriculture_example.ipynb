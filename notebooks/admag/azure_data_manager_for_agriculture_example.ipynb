{
 "cells": [
  {
   "attachments": {},
   "cell_type": "markdown",
   "id": "19089d37",
   "metadata": {},
   "source": [
    "# Microsoft Azure Data Manager for Agriculture and NDVI summary workflows into a single custom workflow\n",
    "\n",
    "In this notebook, we will explain how to connect FarmVibes.AI with [Microsoft Azure Data Manager for Agriculture](https://aka.ms/farmvibesDMA), and provide an example of how to leverage the FarmVibes.AI workflows using [ADMAg for Agri](https://learn.microsoft.com/en-us/rest/api/data-manager-for-agri/). We will demonstrate how to compose the ADMAg and NDVI summary workflows into a single custom workflow, and check the results for the user's agriculture field. The Notebook use ADMAg version <b>2023-11-01-preview</b> for demonstration."
   ]
  },
  {
   "cell_type": "markdown",
   "metadata": {},
   "source": [
    "### Micromamba environment setup\n",
    "To install the required packages, see [this README file](../README.md). You can activate the environment with the following command:\n",
    "\n",
    "\n",
    "```bash\n",
    "$ micromamba activate farmvibes-ai\n",
    "```"
   ]
  },
  {
   "attachments": {},
   "cell_type": "markdown",
   "id": "e8707625",
   "metadata": {},
   "source": [
    "## Import required modules\n",
    "\n",
    "In this example, we will use basic modules for data manipulation (e.g., pandas, yaml, and datetime) and FarmVibes.AI vibe_core modules (client, and data)."
   ]
  },
  {
   "cell_type": "code",
   "execution_count": 1,
   "id": "b2e34591",
   "metadata": {},
   "outputs": [],
   "source": [
    "import yaml\n",
    "import pandas as pd\n",
    "from datetime import datetime\n",
    "from pprint import pprint\n",
    "\n",
    "from vibe_core.client import get_default_vibe_client\n",
    "from vibe_core.data import ADMAgSeasonalFieldInput"
   ]
  },
  {
   "attachments": {},
   "cell_type": "markdown",
   "id": "72a57598",
   "metadata": {},
   "source": [
    "## Define Azure Data Manager for Agriculture entities\n",
    "\n",
    "We will start by providing the parameters that specify the Azure Data Manager for Agriculture connection (e.g., seasonal field, and farmer identifiers). Please, check Microsoft Azure Data Manager for Agriculture [documentation](https://learn.microsoft.com/en-us/rest/api/data-manager-for-agri/) to check how to obtain these fields.\n",
    "\n",
    "In the next cell, we retrieve the `CLIENT_SECRET` variable from the `data-manager-ag-secret` registered on the FarmVibes.AI cluster. To create a new key on the cluster you may want to use the following command on project's root folder:\n",
    "\n",
    "```\n",
    "$ farmvibes-ai local add-secret data-manager-ag-secret <CLIENT_SECRET_VALUE>\n",
    "```\n",
    "A message like the following, should be prompted.\n",
    "\n",
    "`secret/data-manager-ag-secret created`\n",
    "\n",
    "More details about FarmVibes.AI secrets can be found on the [FarmVibes.AI secrets documentation](https://microsoft.github.io/farmvibes-ai/docfiles/markdown/SECRETS.html)."
   ]
  },
  {
   "cell_type": "code",
   "execution_count": 2,
   "id": "4afec3ab",
   "metadata": {},
   "outputs": [],
   "source": [
    "WORKFLOW_NAME = \"data_ingestion/admag/admag_seasonal_field\"\n",
    "\n",
    "BASE_URL = \"<BASE_URL>\"\n",
    "CLIENT_ID = \"<CLIENT_ID>\"\n",
    "CLIENT_SECRET = \"<CLIENT_SECRET>\"\n",
    "AUTHORITY = \"<AUTHORITY>\"\n",
    "DEFAULT_SCOPE = \"<DEFAULT_SCOPE>\"\n",
    "\n",
    "PARTY_ID = \"<PARTY_ID>\"\n",
    "SEASONAL_FIELD_ID=\"<SEASONAL_FIELD_ID>\""
   ]
  },
  {
   "attachments": {},
   "cell_type": "markdown",
   "id": "88766e29",
   "metadata": {},
   "source": [
    "## Create Seasonal Field input\n",
    "\n",
    "Azure Data Manager for Agriculture uses `party_id` and `seasonal_field_id` to identify a crop during a given season. This triple will be used to create a DataVibe subclass `SeasonalFieldInformation` that contains farm-related operations (e.g., fertilization, harvest, tillage, planting, crop name) that is used as input to the workflow (`data_ingestion/admag/admag_seasonal_field`). "
   ]
  },
  {
   "cell_type": "code",
   "execution_count": 3,
   "id": "f63c1b1b",
   "metadata": {},
   "outputs": [],
   "source": [
    "input_data = ADMAgSeasonalFieldInput(\n",
    "    party_id=PARTY_ID,\n",
    "    seasonal_field_id=SEASONAL_FIELD_ID,\n",
    ")"
   ]
  },
  {
   "attachments": {},
   "cell_type": "markdown",
   "id": "d58b10c9",
   "metadata": {},
   "source": [
    "# Retrieve information from ADMAg\n",
    "\n",
    "The following cells execute the workflow and retrieve the results from FarmVibes.AI cluster."
   ]
  },
  {
   "cell_type": "code",
   "execution_count": 4,
   "id": "ea8f8112",
   "metadata": {},
   "outputs": [],
   "source": [
    "client = get_default_vibe_client()"
   ]
  },
  {
   "cell_type": "code",
   "execution_count": 5,
   "id": "6ad9225c",
   "metadata": {},
   "outputs": [
    {
     "data": {
      "text/html": [
       "<pre style=\"white-space:pre;overflow-x:auto;line-height:normal;font-family:Menlo,'DejaVu Sans Mono',consolas,'Courier New',monospace\"></pre>\n"
      ],
      "text/plain": []
     },
     "metadata": {},
     "output_type": "display_data"
    },
    {
     "data": {
      "text/html": [
       "<pre style=\"white-space:pre;overflow-x:auto;line-height:normal;font-family:Menlo,'DejaVu Sans Mono',consolas,'Courier New',monospace\"><span style=\"color: #008000; text-decoration-color: #008000; font-weight: bold\">Workflow:</span> <span style=\"color: #005fff; text-decoration-color: #005fff; font-weight: bold; text-decoration: underline\">data_ingestion/admag/admag_seasonal_field</span>\n",
       "</pre>\n"
      ],
      "text/plain": [
       "\u001b[1;32mWorkflow:\u001b[0m \u001b[1;4;38;5;27mdata_ingestion/admag/admag_seasonal_field\u001b[0m\n"
      ]
     },
     "metadata": {},
     "output_type": "display_data"
    },
    {
     "data": {
      "text/html": [
       "<pre style=\"white-space:pre;overflow-x:auto;line-height:normal;font-family:Menlo,'DejaVu Sans Mono',consolas,'Courier New',monospace\">\n",
       "<span style=\"color: #008000; text-decoration-color: #008000; font-weight: bold\">Description:</span>\n",
       "</pre>\n"
      ],
      "text/plain": [
       "\n",
       "\u001b[1;32mDescription:\u001b[0m\n"
      ]
     },
     "metadata": {},
     "output_type": "display_data"
    },
    {
     "data": {
      "text/html": [
       "<pre style=\"white-space:pre;overflow-x:auto;line-height:normal;font-family:Menlo,'DejaVu Sans Mono',consolas,'Courier New',monospace\">    Generates SeasonalFieldInformation using ADMAg (Microsoft Azure Data Manager for Agriculture).  \n",
       "    The workflow creates a DataVibe subclass SeasonalFieldInformation that contains farm-related    \n",
       "    operations (e.g., fertilization, harvest, tillage, planting, crop name).                        \n",
       "</pre>\n"
      ],
      "text/plain": [
       "    Generates SeasonalFieldInformation using ADMAg (Microsoft Azure Data Manager for Agriculture).  \n",
       "    The workflow creates a DataVibe subclass SeasonalFieldInformation that contains farm-related    \n",
       "    operations (e.g., fertilization, harvest, tillage, planting, crop name).                        \n"
      ]
     },
     "metadata": {},
     "output_type": "display_data"
    },
    {
     "data": {
      "text/html": [
       "<pre style=\"white-space:pre;overflow-x:auto;line-height:normal;font-family:Menlo,'DejaVu Sans Mono',consolas,'Courier New',monospace\">\n",
       "<span style=\"color: #008000; text-decoration-color: #008000; font-weight: bold\">Sources:</span>\n",
       "</pre>\n"
      ],
      "text/plain": [
       "\n",
       "\u001b[1;32mSources:\u001b[0m\n"
      ]
     },
     "metadata": {},
     "output_type": "display_data"
    },
    {
     "data": {
      "text/html": [
       "<pre style=\"white-space:pre;overflow-x:auto;line-height:normal;font-family:Menlo,'DejaVu Sans Mono',consolas,'Courier New',monospace\">    - <span style=\"font-weight: bold\">admag_input</span> (<span style=\"color: #000080; text-decoration-color: #000080\">vibe_core.data.farm.ADMAgSeasonalFieldInput</span>): Unique identifiers for ADMAg       \n",
       "    seasonal field, and party.                                                                      \n",
       "</pre>\n"
      ],
      "text/plain": [
       "    - \u001b[1madmag_input\u001b[0m (\u001b[34mvibe_core.data.farm.ADMAgSeasonalFieldInput\u001b[0m): Unique identifiers for ADMAg       \n",
       "    seasonal field, and party.                                                                      \n"
      ]
     },
     "metadata": {},
     "output_type": "display_data"
    },
    {
     "data": {
      "text/html": [
       "<pre style=\"white-space:pre;overflow-x:auto;line-height:normal;font-family:Menlo,'DejaVu Sans Mono',consolas,'Courier New',monospace\">\n",
       "<span style=\"color: #008000; text-decoration-color: #008000; font-weight: bold\">Sinks:</span>\n",
       "</pre>\n"
      ],
      "text/plain": [
       "\n",
       "\u001b[1;32mSinks:\u001b[0m\n"
      ]
     },
     "metadata": {},
     "output_type": "display_data"
    },
    {
     "data": {
      "text/html": [
       "<pre style=\"white-space:pre;overflow-x:auto;line-height:normal;font-family:Menlo,'DejaVu Sans Mono',consolas,'Courier New',monospace\">    - <span style=\"font-weight: bold\">seasonal_field</span> (<span style=\"color: #000080; text-decoration-color: #000080\">vibe_core.data.farm.SeasonalFieldInformation</span>): Crop SeasonalFieldInformation  \n",
       "    which contains SeasonalFieldInformation that contains farm-related operations (e.g.,            \n",
       "    fertilization, harvest, tillage, planting, crop name).                                          \n",
       "</pre>\n"
      ],
      "text/plain": [
       "    - \u001b[1mseasonal_field\u001b[0m (\u001b[34mvibe_core.data.farm.SeasonalFieldInformation\u001b[0m): Crop SeasonalFieldInformation  \n",
       "    which contains SeasonalFieldInformation that contains farm-related operations (e.g.,            \n",
       "    fertilization, harvest, tillage, planting, crop name).                                          \n"
      ]
     },
     "metadata": {},
     "output_type": "display_data"
    },
    {
     "data": {
      "text/html": [
       "<pre style=\"white-space:pre;overflow-x:auto;line-height:normal;font-family:Menlo,'DejaVu Sans Mono',consolas,'Courier New',monospace\">\n",
       "<span style=\"color: #008000; text-decoration-color: #008000; font-weight: bold\">Parameters:</span>\n",
       "</pre>\n"
      ],
      "text/plain": [
       "\n",
       "\u001b[1;32mParameters:\u001b[0m\n"
      ]
     },
     "metadata": {},
     "output_type": "display_data"
    },
    {
     "data": {
      "text/html": [
       "<pre style=\"white-space:pre;overflow-x:auto;line-height:normal;font-family:Menlo,'DejaVu Sans Mono',consolas,'Courier New',monospace\">    - <span style=\"font-weight: bold\">base_url</span> (<span style=\"color: #000080; text-decoration-color: #000080\">default: None</span>): Azure Data Manager for Agriculture host. Please visit               \n",
       "    https://aka.ms/farmvibesDMA to check how to get these credentials.                              \n",
       "</pre>\n"
      ],
      "text/plain": [
       "    - \u001b[1mbase_url\u001b[0m (\u001b[34mdefault: None\u001b[0m): Azure Data Manager for Agriculture host. Please visit               \n",
       "    https://aka.ms/farmvibesDMA to check how to get these credentials.                              \n"
      ]
     },
     "metadata": {},
     "output_type": "display_data"
    },
    {
     "data": {
      "text/html": [
       "<pre style=\"white-space:pre;overflow-x:auto;line-height:normal;font-family:Menlo,'DejaVu Sans Mono',consolas,'Courier New',monospace\">    - <span style=\"font-weight: bold\">client_id</span> (<span style=\"color: #000080; text-decoration-color: #000080\">default: None</span>): Azure Data Manager for Agriculture client id. Please visit         \n",
       "    https://aka.ms/farmvibesDMA to check how to get these credentials.                              \n",
       "</pre>\n"
      ],
      "text/plain": [
       "    - \u001b[1mclient_id\u001b[0m (\u001b[34mdefault: None\u001b[0m): Azure Data Manager for Agriculture client id. Please visit         \n",
       "    https://aka.ms/farmvibesDMA to check how to get these credentials.                              \n"
      ]
     },
     "metadata": {},
     "output_type": "display_data"
    },
    {
     "data": {
      "text/html": [
       "<pre style=\"white-space:pre;overflow-x:auto;line-height:normal;font-family:Menlo,'DejaVu Sans Mono',consolas,'Courier New',monospace\">    - <span style=\"font-weight: bold\">client_secret</span> (<span style=\"color: #000080; text-decoration-color: #000080\">default: None</span>): Azure Data Manager for Agriculture client secret. Please visit \n",
       "    https://aka.ms/farmvibesDMA to check how to get these credentials.                              \n",
       "</pre>\n"
      ],
      "text/plain": [
       "    - \u001b[1mclient_secret\u001b[0m (\u001b[34mdefault: None\u001b[0m): Azure Data Manager for Agriculture client secret. Please visit \n",
       "    https://aka.ms/farmvibesDMA to check how to get these credentials.                              \n"
      ]
     },
     "metadata": {},
     "output_type": "display_data"
    },
    {
     "data": {
      "text/html": [
       "<pre style=\"white-space:pre;overflow-x:auto;line-height:normal;font-family:Menlo,'DejaVu Sans Mono',consolas,'Courier New',monospace\">    - <span style=\"font-weight: bold\">authority</span> (<span style=\"color: #000080; text-decoration-color: #000080\">default: None</span>): Azure Data Manager for Agriculture authority. Please visit         \n",
       "    https://aka.ms/farmvibesDMA to check how to get these credentials.                              \n",
       "</pre>\n"
      ],
      "text/plain": [
       "    - \u001b[1mauthority\u001b[0m (\u001b[34mdefault: None\u001b[0m): Azure Data Manager for Agriculture authority. Please visit         \n",
       "    https://aka.ms/farmvibesDMA to check how to get these credentials.                              \n"
      ]
     },
     "metadata": {},
     "output_type": "display_data"
    },
    {
     "data": {
      "text/html": [
       "<pre style=\"white-space:pre;overflow-x:auto;line-height:normal;font-family:Menlo,'DejaVu Sans Mono',consolas,'Courier New',monospace\">    - <span style=\"font-weight: bold\">default_scope</span> (<span style=\"color: #000080; text-decoration-color: #000080\">default: None</span>): Azure Data Manager for Agriculture default scope. Please visit \n",
       "    https://aka.ms/farmvibesDMA to check how to get these credentials.                              \n",
       "</pre>\n"
      ],
      "text/plain": [
       "    - \u001b[1mdefault_scope\u001b[0m (\u001b[34mdefault: None\u001b[0m): Azure Data Manager for Agriculture default scope. Please visit \n",
       "    https://aka.ms/farmvibesDMA to check how to get these credentials.                              \n"
      ]
     },
     "metadata": {},
     "output_type": "display_data"
    },
    {
     "data": {
      "text/html": [
       "<pre style=\"white-space:pre;overflow-x:auto;line-height:normal;font-family:Menlo,'DejaVu Sans Mono',consolas,'Courier New',monospace\">\n",
       "<span style=\"color: #008000; text-decoration-color: #008000; font-weight: bold\">Tasks:</span>\n",
       "</pre>\n"
      ],
      "text/plain": [
       "\n",
       "\u001b[1;32mTasks:\u001b[0m\n"
      ]
     },
     "metadata": {},
     "output_type": "display_data"
    },
    {
     "data": {
      "text/html": [
       "<pre style=\"white-space:pre;overflow-x:auto;line-height:normal;font-family:Menlo,'DejaVu Sans Mono',consolas,'Courier New',monospace\">    - <span style=\"font-weight: bold\">admag_seasonal_field</span>: Establishes the connection with ADMAg and fetches seasonal field        \n",
       "    information.                                                                                    \n",
       "</pre>\n"
      ],
      "text/plain": [
       "    - \u001b[1madmag_seasonal_field\u001b[0m: Establishes the connection with ADMAg and fetches seasonal field        \n",
       "    information.                                                                                    \n"
      ]
     },
     "metadata": {},
     "output_type": "display_data"
    }
   ],
   "source": [
    "client.document_workflow(WORKFLOW_NAME)"
   ]
  },
  {
   "cell_type": "code",
   "execution_count": 6,
   "id": "3ae9e9d6",
   "metadata": {},
   "outputs": [
    {
     "data": {
      "text/html": [
       "<pre style=\"white-space:pre;overflow-x:auto;line-height:normal;font-family:Menlo,'DejaVu Sans Mono',consolas,'Courier New',monospace\"></pre>\n"
      ],
      "text/plain": []
     },
     "metadata": {},
     "output_type": "display_data"
    },
    {
     "data": {
      "text/html": [
       "<pre style=\"white-space:pre;overflow-x:auto;line-height:normal;font-family:Menlo,'DejaVu Sans Mono',consolas,'Courier New',monospace\"></pre>\n"
      ],
      "text/plain": []
     },
     "metadata": {},
     "output_type": "display_data"
    }
   ],
   "source": [
    "run = client.run(\n",
    "    WORKFLOW_NAME,\n",
    "    \"ADMAg Workflow\",\n",
    "    input_data={\"admag_input\": input_data},\n",
    "    parameters={\n",
    "        \"base_url\": BASE_URL,\n",
    "        \"client_id\": CLIENT_ID,\n",
    "        \"client_secret\": CLIENT_SECRET,\n",
    "        \"authority\": AUTHORITY,\n",
    "        \"default_scope\": DEFAULT_SCOPE\n",
    "    }\n",
    ")\n",
    "\n",
    "run.monitor()"
   ]
  },
  {
   "attachments": {},
   "cell_type": "markdown",
   "id": "66583a91",
   "metadata": {},
   "source": [
    "### Check Workflow Output\n",
    "\n",
    "Using the workflow output, we can see what happened in the Farm during the season."
   ]
  },
  {
   "cell_type": "code",
   "execution_count": 7,
   "id": "fdfd9eda",
   "metadata": {},
   "outputs": [
    {
     "data": {
      "text/plain": [
       "SeasonalFieldInformation(id='6ee1f27b-c1b8-4e5a-a5c5-d862745229e4', time_range=(datetime.datetime(2000, 2, 15, 0, 0, tzinfo=datetime.timezone.utc), datetime.datetime(2000, 9, 5, 0, 0, tzinfo=datetime.timezone.utc)), bbox=(-117.04672810633345, 47.03859765371245, -117.04516997816333, 47.039879416641384), geometry={'type': 'MultiPolygon', 'coordinates': [[[[-117.0466947519078, 47.038850194363874], [-117.045889480774, 47.03859765371245], [-117.045889480774, 47.03859765371245], [-117.045889480774, 47.03859765371245], [-117.04516997816333, 47.039188503538426], [-117.04555593651739, 47.039807942872116], [-117.04627543912807, 47.039879416641384], [-117.04672810633345, 47.03963640582586], [-117.0466947519078, 47.038850194363874]]]]}, assets=[], crop_name='Alfalfa', crop_type='annual', properties={'pre_1980': 'Irrigation (Pre 1980s)', 'crp_type': 'None', 'crp_start': '', 'crp_end': '', 'year_1980_2000': 'Irrigated: Annual Crops in Rotation', 'year_1980_2000_tillage': 'Intensive Tillage'}, fertilizers=[], harvests=[{'is_grain': True, 'start_date': '2000-09-05T00:00:00Z', 'end_date': '2000-09-05T00:00:00Z', 'crop_yield': 39.0, 'stray_stover_hay_removal': '0'}, {'is_grain': True, 'start_date': '2000-09-05T00:00:00Z', 'end_date': '2000-09-05T00:00:00Z', 'crop_yield': 39.0, 'stray_stover_hay_removal': '0'}], tillages=[{'start_date': '2000-01-01T00:00:00Z', 'end_date': '2000-01-01T00:00:00Z', 'implement': 'Reduced Tillage'}, {'start_date': '2000-01-01T00:00:00Z', 'end_date': '2000-01-01T00:00:00Z', 'implement': 'Reduced Tillage'}], organic_amendments=[])"
      ]
     },
     "execution_count": 7,
     "metadata": {},
     "output_type": "execute_result"
    }
   ],
   "source": [
    "run.output['seasonal_field'][0]"
   ]
  },
  {
   "attachments": {},
   "cell_type": "markdown",
   "id": "154ce008",
   "metadata": {},
   "source": [
    "## Check field characteristics\n",
    "\n",
    "Users may want to navigate through the `SeasonalFieldInformation` object to evaluate farming data."
   ]
  },
  {
   "cell_type": "code",
   "execution_count": 8,
   "id": "035246fb",
   "metadata": {},
   "outputs": [
    {
     "name": "stdout",
     "output_type": "stream",
     "text": [
      "'Seasonal field planting date: 2000/02/15'\n",
      "'Seasonal field harvest date: 2000/09/05'\n",
      "{'coordinates': [[[[-117.0466947519078, 47.038850194363874],\n",
      "                   [-117.045889480774, 47.03859765371245],\n",
      "                   [-117.045889480774, 47.03859765371245],\n",
      "                   [-117.045889480774, 47.03859765371245],\n",
      "                   [-117.04516997816333, 47.039188503538426],\n",
      "                   [-117.04555593651739, 47.039807942872116],\n",
      "                   [-117.04627543912807, 47.039879416641384],\n",
      "                   [-117.04672810633345, 47.03963640582586],\n",
      "                   [-117.0466947519078, 47.038850194363874]]]],\n",
      " 'type': 'MultiPolygon'}\n"
     ]
    }
   ],
   "source": [
    "seasonal_field = run.output['seasonal_field'][0]\n",
    "\n",
    "pprint(f\"Seasonal field planting date: {seasonal_field.time_range[0].strftime('%Y/%m/%d')}\")\n",
    "pprint(f\"Seasonal field harvest date: {seasonal_field.time_range[1].strftime('%Y/%m/%d')}\")\n",
    "\n",
    "pprint(seasonal_field.geometry)"
   ]
  },
  {
   "attachments": {},
   "cell_type": "markdown",
   "id": "30fb0307",
   "metadata": {},
   "source": [
    "# Composing Workflows\n",
    "\n",
    "In the following cells, we will evaluate Normalized Vegetation Index (NDVI) for a field during the season, whose information is obtained from Azure Data Manager for Agriculture. To do so, we will use the `farm_ai/agriculture/ndvi_summary` workflow:"
   ]
  },
  {
   "cell_type": "code",
   "execution_count": 10,
   "id": "fc0fde75",
   "metadata": {},
   "outputs": [
    {
     "data": {
      "text/html": [
       "<pre style=\"white-space:pre;overflow-x:auto;line-height:normal;font-family:Menlo,'DejaVu Sans Mono',consolas,'Courier New',monospace\"></pre>\n"
      ],
      "text/plain": []
     },
     "metadata": {},
     "output_type": "display_data"
    },
    {
     "data": {
      "text/html": [
       "<pre style=\"white-space:pre;overflow-x:auto;line-height:normal;font-family:Menlo,'DejaVu Sans Mono',consolas,'Courier New',monospace\"><span style=\"color: #008000; text-decoration-color: #008000; font-weight: bold\">Workflow:</span> <span style=\"color: #005fff; text-decoration-color: #005fff; font-weight: bold; text-decoration: underline\">farm_ai/agriculture/ndvi_summary</span>\n",
       "</pre>\n"
      ],
      "text/plain": [
       "\u001b[1;32mWorkflow:\u001b[0m \u001b[1;4;38;5;27mfarm_ai/agriculture/ndvi_summary\u001b[0m\n"
      ]
     },
     "metadata": {},
     "output_type": "display_data"
    },
    {
     "data": {
      "text/html": [
       "<pre style=\"white-space:pre;overflow-x:auto;line-height:normal;font-family:Menlo,'DejaVu Sans Mono',consolas,'Courier New',monospace\">\n",
       "<span style=\"color: #008000; text-decoration-color: #008000; font-weight: bold\">Description:</span>\n",
       "</pre>\n"
      ],
      "text/plain": [
       "\n",
       "\u001b[1;32mDescription:\u001b[0m\n"
      ]
     },
     "metadata": {},
     "output_type": "display_data"
    },
    {
     "data": {
      "text/html": [
       "<pre style=\"white-space:pre;overflow-x:auto;line-height:normal;font-family:Menlo,'DejaVu Sans Mono',consolas,'Courier New',monospace\">    Calculates NDVI statistics (mean, standard deviation, maximum and minimum) for the input        \n",
       "    geometry and time range. The workflow retrieves the relevant Sentinel-2 products with Planetary \n",
       "    Computer (PC) API, forwards them to a cloud detection model and combines the predicted cloud    \n",
       "    mask to the mask obtained from the product. The workflow computes the NDVI for each available   \n",
       "    tile and date, summarizing each with the mean, standard deviation, maximum and minimum values   \n",
       "    for the regions not obscured by clouds. Finally, it outputs a timeseries with such statistics   \n",
       "    for all available dates, ignoring heavily-clouded tiles.                                        \n",
       "</pre>\n"
      ],
      "text/plain": [
       "    Calculates NDVI statistics (mean, standard deviation, maximum and minimum) for the input        \n",
       "    geometry and time range. The workflow retrieves the relevant Sentinel-2 products with Planetary \n",
       "    Computer (PC) API, forwards them to a cloud detection model and combines the predicted cloud    \n",
       "    mask to the mask obtained from the product. The workflow computes the NDVI for each available   \n",
       "    tile and date, summarizing each with the mean, standard deviation, maximum and minimum values   \n",
       "    for the regions not obscured by clouds. Finally, it outputs a timeseries with such statistics   \n",
       "    for all available dates, ignoring heavily-clouded tiles.                                        \n"
      ]
     },
     "metadata": {},
     "output_type": "display_data"
    },
    {
     "data": {
      "text/html": [
       "<pre style=\"white-space:pre;overflow-x:auto;line-height:normal;font-family:Menlo,'DejaVu Sans Mono',consolas,'Courier New',monospace\">\n",
       "<span style=\"color: #008000; text-decoration-color: #008000; font-weight: bold\">Sources:</span>\n",
       "</pre>\n"
      ],
      "text/plain": [
       "\n",
       "\u001b[1;32mSources:\u001b[0m\n"
      ]
     },
     "metadata": {},
     "output_type": "display_data"
    },
    {
     "data": {
      "text/html": [
       "<pre style=\"white-space:pre;overflow-x:auto;line-height:normal;font-family:Menlo,'DejaVu Sans Mono',consolas,'Courier New',monospace\">    - <span style=\"font-weight: bold\">user_input</span> (<span style=\"color: #000080; text-decoration-color: #000080\">vibe_core.data.core_types.DataVibe</span>): Time range and geometry of interest.         \n",
       "</pre>\n"
      ],
      "text/plain": [
       "    - \u001b[1muser_input\u001b[0m (\u001b[34mvibe_core.data.core_types.DataVibe\u001b[0m): Time range and geometry of interest.         \n"
      ]
     },
     "metadata": {},
     "output_type": "display_data"
    },
    {
     "data": {
      "text/html": [
       "<pre style=\"white-space:pre;overflow-x:auto;line-height:normal;font-family:Menlo,'DejaVu Sans Mono',consolas,'Courier New',monospace\">\n",
       "<span style=\"color: #008000; text-decoration-color: #008000; font-weight: bold\">Sinks:</span>\n",
       "</pre>\n"
      ],
      "text/plain": [
       "\n",
       "\u001b[1;32mSinks:\u001b[0m\n"
      ]
     },
     "metadata": {},
     "output_type": "display_data"
    },
    {
     "data": {
      "text/html": [
       "<pre style=\"white-space:pre;overflow-x:auto;line-height:normal;font-family:Menlo,'DejaVu Sans Mono',consolas,'Courier New',monospace\">    - <span style=\"font-weight: bold\">timeseries</span> (<span style=\"color: #000080; text-decoration-color: #000080\">List[vibe_core.data.core_types.TimeSeries]</span>): Aggregated NDVI statistics of the    \n",
       "    retrieved tiles within the input geometry and time range.                                       \n",
       "</pre>\n"
      ],
      "text/plain": [
       "    - \u001b[1mtimeseries\u001b[0m (\u001b[34mList[vibe_core.data.core_types.TimeSeries]\u001b[0m): Aggregated NDVI statistics of the    \n",
       "    retrieved tiles within the input geometry and time range.                                       \n"
      ]
     },
     "metadata": {},
     "output_type": "display_data"
    },
    {
     "data": {
      "text/html": [
       "<pre style=\"white-space:pre;overflow-x:auto;line-height:normal;font-family:Menlo,'DejaVu Sans Mono',consolas,'Courier New',monospace\">\n",
       "<span style=\"color: #008000; text-decoration-color: #008000; font-weight: bold\">Parameters:</span>\n",
       "</pre>\n"
      ],
      "text/plain": [
       "\n",
       "\u001b[1;32mParameters:\u001b[0m\n"
      ]
     },
     "metadata": {},
     "output_type": "display_data"
    },
    {
     "data": {
      "text/html": [
       "<pre style=\"white-space:pre;overflow-x:auto;line-height:normal;font-family:Menlo,'DejaVu Sans Mono',consolas,'Courier New',monospace\">    - <span style=\"font-weight: bold\">pc_key</span> (<span style=\"color: #000080; text-decoration-color: #000080\">default: </span>): Optional Planetary Computer API key.                                      \n",
       "</pre>\n"
      ],
      "text/plain": [
       "    - \u001b[1mpc_key\u001b[0m (\u001b[34mdefault: \u001b[0m): Optional Planetary Computer API key.                                      \n"
      ]
     },
     "metadata": {},
     "output_type": "display_data"
    },
    {
     "data": {
      "text/html": [
       "<pre style=\"white-space:pre;overflow-x:auto;line-height:normal;font-family:Menlo,'DejaVu Sans Mono',consolas,'Courier New',monospace\">\n",
       "<span style=\"color: #008000; text-decoration-color: #008000; font-weight: bold\">Tasks:</span>\n",
       "</pre>\n"
      ],
      "text/plain": [
       "\n",
       "\u001b[1;32mTasks:\u001b[0m\n"
      ]
     },
     "metadata": {},
     "output_type": "display_data"
    },
    {
     "data": {
      "text/html": [
       "<pre style=\"white-space:pre;overflow-x:auto;line-height:normal;font-family:Menlo,'DejaVu Sans Mono',consolas,'Courier New',monospace\">    - <span style=\"font-weight: bold\">s2</span>: Downloads and preprocesses Sentinel-2 imagery that covers the input geometry and time     \n",
       "    range, and computes improved cloud masks using cloud and shadow segmentation models.            \n",
       "</pre>\n"
      ],
      "text/plain": [
       "    - \u001b[1ms2\u001b[0m: Downloads and preprocesses Sentinel-2 imagery that covers the input geometry and time     \n",
       "    range, and computes improved cloud masks using cloud and shadow segmentation models.            \n"
      ]
     },
     "metadata": {},
     "output_type": "display_data"
    },
    {
     "data": {
      "text/html": [
       "<pre style=\"white-space:pre;overflow-x:auto;line-height:normal;font-family:Menlo,'DejaVu Sans Mono',consolas,'Courier New',monospace\">    - <span style=\"font-weight: bold\">compute_ndvi</span>: Computes an index from the bands of an input raster.                            \n",
       "</pre>\n"
      ],
      "text/plain": [
       "    - \u001b[1mcompute_ndvi\u001b[0m: Computes an index from the bands of an input raster.                            \n"
      ]
     },
     "metadata": {},
     "output_type": "display_data"
    },
    {
     "data": {
      "text/html": [
       "<pre style=\"white-space:pre;overflow-x:auto;line-height:normal;font-family:Menlo,'DejaVu Sans Mono',consolas,'Courier New',monospace\">    - <span style=\"font-weight: bold\">summary_timeseries</span>: Computes the mean, standard deviation, maximum, and minimum values of all \n",
       "    regions of the raster considered by the mask and aggregates them into a timeseries.             \n",
       "</pre>\n"
      ],
      "text/plain": [
       "    - \u001b[1msummary_timeseries\u001b[0m: Computes the mean, standard deviation, maximum, and minimum values of all \n",
       "    regions of the raster considered by the mask and aggregates them into a timeseries.             \n"
      ]
     },
     "metadata": {},
     "output_type": "display_data"
    }
   ],
   "source": [
    "client.document_workflow(\"farm_ai/agriculture/ndvi_summary\")"
   ]
  },
  {
   "attachments": {},
   "cell_type": "markdown",
   "id": "0180bde1",
   "metadata": {},
   "source": [
    "## Create and execute the custom workflow\n",
    "\n",
    "Observe the following workflow composed of two tasks (**admag_seasonal_field** and **ndvi_summary**) in the next cell. The first task creates the `SeasonalFieldInformation` object which contains the farming-related data from Azure Data Manager for Agriculture, whereas `ndvi_summary` calculates the NVDI index for this crop during the season (from planting to harvest).\n",
    "\n",
    "Please, observe the edge mapping **admag_seasonal_field.seasonal_field** to **ndvi_summary.user_input**. This enables the `SeasonalFieldInformation` objects to be used for evaluating NDVI the the field."
   ]
  },
  {
   "cell_type": "code",
   "execution_count": 10,
   "id": "ede223f5",
   "metadata": {},
   "outputs": [],
   "source": [
    "custom_workflow = \"\"\"\n",
    "name: custom_admag\n",
    "sources:\n",
    "  admag_input:\n",
    "    - admag_seasonal_field.admag_input\n",
    "sinks:\n",
    "  seasonal_field: admag_seasonal_field.seasonal_field\n",
    "  ndvi_summary: ndvi_summary.timeseries\n",
    "parameters:\n",
    "  base_url:\n",
    "  client_id:\n",
    "  client_secret:\n",
    "  authority:\n",
    "  default_scope:\n",
    "tasks:\n",
    "  admag_seasonal_field:\n",
    "    workflow: data_ingestion/admag/admag_seasonal_field\n",
    "    parameters:\n",
    "      base_url: \"@from(base_url)\"\n",
    "      client_id: \"@from(client_id)\"\n",
    "      client_secret: \"@from(client_secret)\"\n",
    "      authority: \"@from(authority)\"\n",
    "      default_scope: \"@from(default_scope)\"\n",
    "  ndvi_summary:\n",
    "    workflow: farm_ai/agriculture/ndvi_summary\n",
    "edges:\n",
    "  - origin: admag_seasonal_field.seasonal_field\n",
    "    destination:\n",
    "      - ndvi_summary.user_input\n",
    "\"\"\"\n",
    "\n",
    "workflow_dict = yaml.safe_load(custom_workflow)"
   ]
  },
  {
   "cell_type": "code",
   "execution_count": 11,
   "id": "250cb567",
   "metadata": {},
   "outputs": [],
   "source": [
    "run = client.run(\n",
    "    workflow_dict,\n",
    "    \"Seasonal Field NDVI Evaluation\",\n",
    "    input_data={\"admag_input\": input_data},\n",
    "    parameters={\n",
    "        \"base_url\": BASE_URL,\n",
    "        \"client_id\": CLIENT_ID,\n",
    "        \"client_secret\": CLIENT_SECRET,\n",
    "        \"authority\": AUTHORITY,\n",
    "        \"default_scope\": DEFAULT_SCOPE,\n",
    "    }\n",
    ")\n",
    "\n",
    "run.monitor()"
   ]
  },
  {
   "attachments": {},
   "cell_type": "markdown",
   "id": "b93e7437",
   "metadata": {},
   "source": [
    "For the sake of simplicity, we will print only the harvest information of seasonal field. However, the `SeasonalField` returned object may contain data related to fertilization, organic amendments, tillage, and others."
   ]
  },
  {
   "cell_type": "code",
   "execution_count": 12,
   "id": "2b797c26",
   "metadata": {},
   "outputs": [],
   "source": [
    "seasonal_field = run.output['seasonal_field'][0]\n",
    "pprint(seasonal_field.harvests)"
   ]
  },
  {
   "attachments": {},
   "cell_type": "markdown",
   "id": "06b49b2a",
   "metadata": {},
   "source": [
    "Checking the NDVI summary results:"
   ]
  },
  {
   "cell_type": "code",
   "execution_count": 13,
   "id": "98d061af",
   "metadata": {},
   "outputs": [],
   "source": [
    "local_path = run.output[\"ndvi_summary\"][0].assets[0].path_or_url\n",
    "df = pd.read_csv(local_path)\n",
    "df['date'] = pd.to_datetime(df['date'])\n",
    "df['date'] = df['date'].dt.strftime('%Y-%m-%d')\n",
    "df.plot(x=\"date\", y=\"mean\", title=\"NDVI for SeasonalField\", ylabel=\"NDVI Mean\", grid=True)"
   ]
  },
  {
   "attachments": {},
   "cell_type": "markdown",
   "id": "318fda42",
   "metadata": {},
   "source": [
    "Checking the results as a DataFrame:"
   ]
  },
  {
   "cell_type": "code",
   "execution_count": 14,
   "id": "9ab5e280",
   "metadata": {},
   "outputs": [],
   "source": [
    "df"
   ]
  }
 ],
 "metadata": {
  "description": "Connecting FarmVibes.AI and Microsoft Azure Data Manager for Agriculture (ADMAg)",
  "disk_space": "",
  "kernelspec": {
   "display_name": "Python 3 (ipykernel)",
   "language": "python",
   "name": "python3"
  },
  "language_info": {
   "codemirror_mode": {
    "name": "ipython",
    "version": 3
   },
   "file_extension": ".py",
   "mimetype": "text/x-python",
   "name": "python",
   "nbconvert_exporter": "python",
   "pygments_lexer": "ipython3",
   "version": "3.8.15"
  },
  "name": "Integration with ADMAg to compute NDVI summary",
  "running_time": "",
  "tags": [
   "ADMAg - Microsoft Azure Data Manager for Agriculture",
   "Working with Custom Workflows",
   "Crop Analysis"
  ]
 },
 "nbformat": 4,
 "nbformat_minor": 5
}
