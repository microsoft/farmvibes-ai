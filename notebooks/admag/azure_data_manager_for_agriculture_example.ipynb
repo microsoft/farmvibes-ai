{
 "cells": [
  {
   "cell_type": "markdown",
   "id": "19089d37",
   "metadata": {},
   "source": [
    "# Data Manager for Agriculture and NDVI summary workflows into a single custom workflow\n",
    "\n",
    "In this notebook, we will explain how to connect FarmVibes.AI with [Microsoft Data Manager for Agriculture](https://aka.ms/farmvibesDMA), and provide an example of how to leverage the FarmVibes.AI workflows using Data Manager for Agriculture inputs. We will demonstrate how to compose Data Manager for Agriculture workflow and NDVI summary notebook into a single custom workflow, and check the results for the user's agriculture field."
   ]
  },
  {
   "cell_type": "markdown",
   "id": "e8707625",
   "metadata": {},
   "source": [
    "## Import required modules\n",
    "\n",
    "In this example, we will use basic modules for data manipulation (e.g., pandas, yaml, and datetime) and FarmVibes.AI vibe_core modules (client, and data)."
   ]
  },
  {
   "cell_type": "code",
   "execution_count": null,
   "id": "b2e34591",
   "metadata": {},
   "outputs": [],
   "source": [
    "import yaml\n",
    "import pandas as pd\n",
    "from datetime import datetime\n",
    "from pprint import pprint\n",
    "\n",
    "from vibe_core.client import get_default_vibe_client\n",
    "from vibe_core.data import ADMAgSeasonalFieldInput"
   ]
  },
  {
   "cell_type": "markdown",
   "id": "72a57598",
   "metadata": {},
   "source": [
    "## Define Data Manager for Agriculture entities\n",
    "\n",
    "We will start by providing the parameters that specify the Data Manager for Agriculture connection (e.g., seasonal field, boundary, and farmer identifiers). Please, check Data Manager for Agriculture [documentation](https://aka.ms/farmvibesDMA) to check how to obtain these fields.\n",
    "\n",
    "In the next cell, we retrieve the `CLIENT_SECRET` variable from the `data-manager-ag-secret` registered on the FarmVibes.AI cluster. To create a new key on the cluster you may want to use the following command on project's root folder \n",
    "```\n",
    "$ bash farmvibes-ai.sh add-secret data-manager-ag-secret <CLIENT_SECRET_VALUE>\n",
    "```\n",
    "A message like the following, should be prompted.\n",
    "\n",
    "`secret/data-manager-ag-secret created`\n",
    "\n",
    "More details about FarmVibes.AI secrets can be found on the [FarmVibes.AI secrets documentation](https://github.com/microsoft/farmvibes-ai/blob/main/documentation/SECRETS.md)."
   ]
  },
  {
   "cell_type": "code",
   "execution_count": null,
   "id": "4afec3ab",
   "metadata": {},
   "outputs": [],
   "source": [
    "WORKFLOW_NAME = \"farm_ai/admag/admag_seasonal_field\"\n",
    "\n",
    "BASE_URL = \"\"\n",
    "CLIENT_ID = \"\"\n",
    "CLIENT_SECRET = \"@SECRET(eywa-secrets, data-manager-ag-secret)\"\n",
    "AUTHORITY = \"\"\n",
    "DEFAULT_SCOPE = \"\"\n",
    "\n",
    "FARMER_ID = \"\"\n",
    "SEASONAL_FIELD_ID=\"\"\n",
    "BOUNDARY_ID=\"\""
   ]
  },
  {
   "cell_type": "markdown",
   "id": "88766e29",
   "metadata": {},
   "source": [
    "## Create Seasonal Field Input\n",
    "\n",
    "Azure Data Manager for Agriculture uses `farmer_id`, `seasonal_field_id`, and `boundary_id` to identify a crop during a given season. This triple will be used to create a DataVibe subclass `SeasonalFieldInformation` that contains farm-related operations (e.g., fertilization, harvest, tillage, planting, crop name) that is used as input to the workflow (`farm_ai/admag/admag_seasonal_field`). "
   ]
  },
  {
   "cell_type": "code",
   "execution_count": null,
   "id": "f63c1b1b",
   "metadata": {},
   "outputs": [],
   "source": [
    "input_data = ADMAgSeasonalFieldInput(\n",
    "    farmer_id=FARMER_ID,\n",
    "    seasonal_field_id=SEASONAL_FIELD_ID,\n",
    "    boundary_id=BOUNDARY_ID,\n",
    ")"
   ]
  },
  {
   "cell_type": "markdown",
   "id": "d58b10c9",
   "metadata": {},
   "source": [
    "# Retrieve Information from Data Manager for Agriculture\n",
    "\n",
    "The following cells execute the workflow and retrieve the results from FarmVibes.AI cluster."
   ]
  },
  {
   "cell_type": "code",
   "execution_count": null,
   "id": "ea8f8112",
   "metadata": {},
   "outputs": [],
   "source": [
    "client = get_default_vibe_client()"
   ]
  },
  {
   "cell_type": "code",
   "execution_count": null,
   "id": "6ad9225c",
   "metadata": {},
   "outputs": [],
   "source": [
    "client.document_workflow(WORKFLOW_NAME)"
   ]
  },
  {
   "cell_type": "code",
   "execution_count": null,
   "id": "3ae9e9d6",
   "metadata": {},
   "outputs": [],
   "source": [
    "run = client.run(\n",
    "    WORKFLOW_NAME,\n",
    "    \"ADMAg Workflow\",\n",
    "    input_data={\"admag_input\": input_data},\n",
    "    parameters={\n",
    "        \"base_url\": BASE_URL,\n",
    "        \"client_id\": CLIENT_ID,\n",
    "        \"client_secret\": CLIENT_SECRET,\n",
    "        \"authority\": AUTHORITY,\n",
    "        \"default_scope\": DEFAULT_SCOPE\n",
    "    }\n",
    ")\n",
    "\n",
    "run.monitor()"
   ]
  },
  {
   "cell_type": "markdown",
   "id": "66583a91",
   "metadata": {},
   "source": [
    "### Check Workflow Output\n",
    "\n",
    "Using the workflow output, we can see what happened in the Farm during the season."
   ]
  },
  {
   "cell_type": "code",
   "execution_count": null,
   "id": "fdfd9eda",
   "metadata": {},
   "outputs": [],
   "source": [
    "run.output['seasonal_field'][0]"
   ]
  },
  {
   "cell_type": "markdown",
   "id": "154ce008",
   "metadata": {},
   "source": [
    "## Check field characteristics\n",
    "\n",
    "Users may want to navigate through the `SeasonalFieldInformation` object to evaluate farming data."
   ]
  },
  {
   "cell_type": "code",
   "execution_count": null,
   "id": "035246fb",
   "metadata": {},
   "outputs": [],
   "source": [
    "seasonal_field = run.output['seasonal_field'][0]\n",
    "\n",
    "pprint(f\"Seasonal field planting date: {seasonal_field.time_range[0].strftime('%Y/%m/%d')}\")\n",
    "pprint(f\"Seasonal field harvest date: {seasonal_field.time_range[1].strftime('%Y/%m/%d')}\")\n",
    "\n",
    "pprint(seasonal_field.geometry)"
   ]
  },
  {
   "cell_type": "markdown",
   "id": "30fb0307",
   "metadata": {},
   "source": [
    "# Compose Workflows\n",
    "\n",
    "In the following cells, we will evaluate Normalized Vegetation Index (NDVI) for a field during the season, whose information is obtained from Data Manager for Ag. To do so, we will use the `farm_ai/agriculture/ndvi_summary` workflow:"
   ]
  },
  {
   "cell_type": "code",
   "execution_count": null,
   "id": "fc0fde75",
   "metadata": {},
   "outputs": [],
   "source": [
    "client.document_workflow(\"farm_ai/agriculture/ndvi_summary\")"
   ]
  },
  {
   "cell_type": "markdown",
   "id": "0180bde1",
   "metadata": {},
   "source": [
    "## Create and Execute the Custom Workflow.\n",
    "\n",
    "Observe the following workflow composed of two tasks (**admag_seasonal_field** and **ndvi_summary**) in the next cell. The first task creates the `SeasonalFieldInformation` object which contains the farming-related data from Data Manager for Agriculture, whereas `ndvi_summary` calculates the NVDI index for this crop during the season (from planting to harvest).\n",
    "\n",
    "Please, observe the edge mapping **admag_seasonal_field.seasonal_field** to **ndvi_summary.user_input**. This enables the `SeasonalFieldInformation` objects to be used for evaluating NDVI the the field."
   ]
  },
  {
   "cell_type": "code",
   "execution_count": null,
   "id": "ede223f5",
   "metadata": {},
   "outputs": [],
   "source": [
    "custom_workflow = \"\"\"\n",
    "name: custom_admag\n",
    "sources:\n",
    "  admag_input:\n",
    "    - admag_seasonal_field.admag_input\n",
    "sinks:\n",
    "  seasonal_field: admag_seasonal_field.seasonal_field\n",
    "  ndvi_summary: ndvi_summary.timeseries\n",
    "parameters:\n",
    "  base_url:\n",
    "  client_id:\n",
    "  client_secret:\n",
    "  authority:\n",
    "  default_scope:\n",
    "tasks:\n",
    "  admag_seasonal_field:\n",
    "    workflow: farm_ai/admag/admag_seasonal_field\n",
    "    parameters:\n",
    "      base_url: \"@from(base_url)\"\n",
    "      client_id: \"@from(client_id)\"\n",
    "      client_secret: \"@from(client_secret)\"\n",
    "      authority: \"@from(authority)\"\n",
    "      default_scope: \"@from(default_scope)\"\n",
    "  ndvi_summary:\n",
    "    workflow: farm_ai/agriculture/ndvi_summary\n",
    "edges:\n",
    "  - origin: admag_seasonal_field.seasonal_field\n",
    "    destination:\n",
    "      - ndvi_summary.user_input\n",
    "\"\"\"\n",
    "\n",
    "workflow_dict = yaml.safe_load(custom_workflow)"
   ]
  },
  {
   "cell_type": "code",
   "execution_count": null,
   "id": "250cb567",
   "metadata": {},
   "outputs": [],
   "source": [
    "run = client.run(\n",
    "    workflow_dict,\n",
    "    \"Seasonal Field NDVI Evaluation\",\n",
    "    input_data={\"admag_input\": input_data},\n",
    "    parameters={\n",
    "        \"base_url\": BASE_URL,\n",
    "        \"client_id\": CLIENT_ID,\n",
    "        \"client_secret\": CLIENT_SECRET,\n",
    "        \"authority\": AUTHORITY,\n",
    "        \"default_scope\": DEFAULT_SCOPE,\n",
    "    }\n",
    ")\n",
    "\n",
    "run.monitor()"
   ]
  },
  {
   "cell_type": "markdown",
   "id": "b93e7437",
   "metadata": {},
   "source": [
    "For the sake of simplicity, we will print only the harvest information of seasonal field. However, the `SeasonalField` returned object may contain data related to fertilization, organic amendments, tillage, and others."
   ]
  },
  {
   "cell_type": "code",
   "execution_count": null,
   "id": "2b797c26",
   "metadata": {},
   "outputs": [],
   "source": [
    "seasonal_field = run.output['seasonal_field'][0]\n",
    "pprint(seasonal_field.harvests)"
   ]
  },
  {
   "cell_type": "markdown",
   "id": "06b49b2a",
   "metadata": {},
   "source": [
    "Checking the NDVI summary results:"
   ]
  },
  {
   "cell_type": "code",
   "execution_count": null,
   "id": "98d061af",
   "metadata": {},
   "outputs": [],
   "source": [
    "local_path = run.output[\"ndvi_summary\"][0].assets[0].path_or_url\n",
    "df = pd.read_csv(local_path)\n",
    "df['date'] = pd.to_datetime(df['date'])\n",
    "df['date'] = df['date'].dt.strftime('%Y-%m-%d')\n",
    "df.plot(x=\"date\", y=\"mean\", title=\"NDVI for SeasonalField\", ylabel=\"NDVI Mean\", grid=True)"
   ]
  },
  {
   "cell_type": "markdown",
   "id": "318fda42",
   "metadata": {},
   "source": [
    "Checking the results as a DataFrame:"
   ]
  },
  {
   "cell_type": "code",
   "execution_count": null,
   "id": "9ab5e280",
   "metadata": {},
   "outputs": [],
   "source": [
    "df"
   ]
  }
 ],
 "metadata": {
  "description": "Connecting FarmVibes.AI and Microsoft Azure Data Manager for Agriculture (Data Manager for Ag)",
  "disk_space": "",
  "kernelspec": {
   "display_name": "Python 3 (ipykernel)",
   "language": "python",
   "name": "python3"
  },
  "language_info": {
   "codemirror_mode": {
    "name": "ipython",
    "version": 3
   },
   "file_extension": ".py",
   "mimetype": "text/x-python",
   "name": "python",
   "nbconvert_exporter": "python",
   "pygments_lexer": "ipython3",
   "version": "3.8.15"
  },
  "name": "ADMAg Integration",
  "running_time": "",
  "tags": [
   "Data Manager for Ag",
   "Working with Custom Workflows",
   "Crop Analysis"
  ]
 },
 "nbformat": 4,
 "nbformat_minor": 5
}
