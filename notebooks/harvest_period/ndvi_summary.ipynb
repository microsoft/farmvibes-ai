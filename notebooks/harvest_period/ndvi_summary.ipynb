{
 "cells": [
  {
   "cell_type": "markdown",
   "metadata": {},
   "source": [
    "# FarmVibes.AI Harvest Period\n",
    "\n",
    "This notebook demonstrates how to infer germination and harvest periods based on NDVI timeseries. It makes use of an existing workflow that computes a NDVI timeseries for a given area.\n",
    "\n",
    "To install the required packages, see [this README file](../README.md)."
   ]
  },
  {
   "cell_type": "markdown",
   "metadata": {},
   "source": [
    "### Notebook outline\n",
    "The user provides a geographical region and a date range of interest, which are input to a FarmVibes.AI workflow. The workflow consists of fetching Sentinel-2 data for the corresponding region and time, running cloud detection algorithms to obtain cloud-free imagery, and computing daily NDVI indexes at 10m resolution.   \n",
    "\n",
    "Below are the main libraries used for this example and other useful links:\n",
    "- [Shapely](https://github.com/shapely/shapely) is a library for manipulating geometric shapes.\n",
    "- [Pandas](https://pandas.pydata.org/) is a library for manipulating tabular data."
   ]
  },
  {
   "cell_type": "markdown",
   "metadata": {},
   "source": [
    "### Imports & Constants"
   ]
  },
  {
   "cell_type": "code",
   "execution_count": null,
   "metadata": {},
   "outputs": [],
   "source": [
    "# Utility imports\n",
    "from datetime import datetime\n",
    "from shapely import wkt\n",
    "import matplotlib.pyplot as plt\n",
    "import numpy as np\n",
    "import os\n",
    "import pandas as pd\n",
    "\n",
    "# FarmVibes.AI imports\n",
    "from vibe_core.client import get_default_vibe_client\n",
    "\n",
    "# FarmAI workflow name and description\n",
    "WORKFLOW_NAME = \"farm_ai/agriculture/ndvi_summary\"\n",
    "RUN_NAME = \"ndvi summary\""
   ]
  },
  {
   "cell_type": "markdown",
   "metadata": {},
   "source": [
    "### Generate the NDVI dataset with FarmVibes.AI platform"
   ]
  },
  {
   "cell_type": "markdown",
   "metadata": {},
   "source": [
    "Let's define the region and the time range to consider for this task:\n",
    "- **Region:** FarmVibes.AI platform expects a `.wkt` file with the polygon of the ROI (an example `input_region.wkt` is already provided, representing a field chosen at random in Iowa);\n",
    "- **Time Range:** we define the range as a tuple with two datetimes (start and end dates). In the example below, we will analyze NDVI observations from 1st of April until the end of October. Any informed period must cover an entire crop season;"
   ]
  },
  {
   "cell_type": "code",
   "execution_count": null,
   "metadata": {},
   "outputs": [],
   "source": [
    "input_geometry_path = \"./input_region.wkt\"\n",
    "time_range = (datetime(2020, 4, 1), datetime(2020, 10, 30))\n",
    "\n",
    "# Reading the geometry file \n",
    "with open(input_geometry_path) as f:\n",
    "    geometry = wkt.load(f)"
   ]
  },
  {
   "cell_type": "markdown",
   "metadata": {},
   "source": [
    "For the germination and harvest period task, we will run the `farm_ai/agriculture/ndvi_summary` workflow.\n",
    "To build the dataset, we will instantiate the FarmVibes.AI remote client and run the workflow:"
   ]
  },
  {
   "cell_type": "code",
   "execution_count": null,
   "metadata": {},
   "outputs": [],
   "source": [
    "# Instantiate the client\n",
    "client = get_default_vibe_client()"
   ]
  },
  {
   "cell_type": "code",
   "execution_count": null,
   "metadata": {},
   "outputs": [],
   "source": [
    "# Start the workflow\n",
    "wf_run = client.run(WORKFLOW_NAME, RUN_NAME, geometry=geometry, time_range=time_range)"
   ]
  },
  {
   "cell_type": "markdown",
   "metadata": {},
   "source": [
    "`wf_run` is a `VibeWorkflowRun` that holds the information about the workflow execution. A few of its important attributes:\n",
    "- `wf_run.id`: the ID of the run\n",
    "- `wf_run.status`: indicate the status of the run (pending, running, failed, or done)\n",
    "- `wf_run.workflow`: the name of the workflow being executed (i.e., `WORKFLOW_NAME`)\n",
    "- `wf_run.name`: the description provided by `RUN_NAME`\n",
    "- `wf_run.output`: the dictionary with outputs produced by the workflow, indexed by sink names\n",
    "\n",
    "In case you need to retrieve a previous workflow run, you can use `client.list_runs()` to list all existing executions and find the id of the desired run. It can be recovered by running `wf_run = client.get_run_by_id(\"ID-of-the-run\")`.\n",
    "\n",
    "We can also use the method `monitor` from `VibeWorkflowRun` to verify the progress of each op/inner workflow of our run."
   ]
  },
  {
   "cell_type": "code",
   "execution_count": null,
   "metadata": {},
   "outputs": [],
   "source": [
    "wf_run.monitor()"
   ]
  },
  {
   "cell_type": "markdown",
   "metadata": {},
   "source": [
    "Once finished, we can access the generated outputs through `wf_run.output`.\n",
    "\n",
    "The list of outputs of the dataset generation workflow is:"
   ]
  },
  {
   "cell_type": "code",
   "execution_count": null,
   "metadata": {},
   "outputs": [],
   "source": [
    "wf_run.output.keys()"
   ]
  },
  {
   "cell_type": "markdown",
   "metadata": {},
   "source": [
    "To access a specific output, we can do:"
   ]
  },
  {
   "cell_type": "code",
   "execution_count": null,
   "metadata": {},
   "outputs": [],
   "source": [
    "ndvi_timeseries = wf_run.output[\"timeseries\"]"
   ]
  },
  {
   "cell_type": "markdown",
   "metadata": {},
   "source": [
    "### Preprocess data\n",
    "With the NDVI timeseries yielded by FarmVibes.AI, we will infer the germination and harvest periods based on the NDVI difference between two sucessive days. There are three parameters in this section:\n",
    "\n",
    "- `ndvi_threshold`: upper limit for NDVI at the beginning of germination and ending of harvest periods. Default: 0.15\n",
    "- `delta_threshold`: upper limit for NDVI difference between successive observations. Default: 0.1\n",
    "- `rolling_window`: the number of NDVI observations on each rolling window step. Default: 14\n",
    "\n",
    "#### The next steps will:\n",
    "- load the CSV file in a Pandas dataframe\n",
    "- smooth the timeseries using the rolling window method\n",
    "- identify germination and harvest dates by looking for periods of small NDVI values (smaller than **ndvi_threshold**), and small variation between successive observations (df['delta_mean'] < **delta_threshold**). Obs.: select periods that provide at least ten observations.\n"
   ]
  },
  {
   "cell_type": "code",
   "execution_count": null,
   "metadata": {},
   "outputs": [],
   "source": [
    "ndvi_threshold = 0.15\n",
    "delta_threshold = 0.1\n",
    "rolling_window = 14"
   ]
  },
  {
   "cell_type": "code",
   "execution_count": null,
   "metadata": {},
   "outputs": [],
   "source": [
    "timeseries = wf_run.output[\"timeseries\"]\n",
    "df = pd.read_csv(timeseries[0].assets[0].path_or_url)\n",
    "df"
   ]
  },
  {
   "cell_type": "code",
   "execution_count": null,
   "metadata": {},
   "outputs": [],
   "source": [
    "df['rolled_mean'] = df['mean'].rolling(window=3).mean()\n",
    "df['delta_mean'] = df['rolled_mean'].diff()\n",
    "df"
   ]
  },
  {
   "cell_type": "code",
   "execution_count": null,
   "metadata": {},
   "outputs": [],
   "source": [
    "df.loc[(df['rolled_mean'] < ndvi_threshold) & (df['delta_mean'].abs() <= delta_threshold) & (df['delta_mean'] < 0), 'harvest_period'] = ndvi_threshold\n",
    "df.loc[(df['rolled_mean'] < ndvi_threshold) & (df['delta_mean'].abs() < delta_threshold) & (df['delta_mean'] > 0), 'germination_period'] = ndvi_threshold\n",
    "df"
   ]
  },
  {
   "cell_type": "code",
   "execution_count": null,
   "metadata": {},
   "outputs": [],
   "source": [
    "df[['rolled_mean', 'harvest_period', 'germination_period']].plot()"
   ]
  }
 ],
 "metadata": {
  "kernelspec": {
   "display_name": "Python 3.8.10 64-bit",
   "language": "python",
   "name": "python3"
  },
  "language_info": {
   "codemirror_mode": {
    "name": "ipython",
    "version": 3
   },
   "file_extension": ".py",
   "mimetype": "text/x-python",
   "name": "python",
   "nbconvert_exporter": "python",
   "pygments_lexer": "ipython3",
   "version": "3.8.10"
  },
  "vscode": {
   "interpreter": {
    "hash": "e7370f93d1d0cde622a1f8e1c04877d8463912d04d973331ad4851f04de6915a"
   }
  }
 },
 "nbformat": 4,
 "nbformat_minor": 2
}
