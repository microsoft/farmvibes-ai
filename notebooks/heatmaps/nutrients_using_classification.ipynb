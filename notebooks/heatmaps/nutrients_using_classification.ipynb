{
    "cells": [
        {
            "cell_type": "markdown",
            "metadata": {},
            "source": [
                "# FarmVibes.AI Nutrients Heatmap by classification\n",
                "\n",
                "This notebook demonstrates how to run the heatmap workflow using satellite imagery and nutrient information for certain locations. The workflow generate heatmap by computing index specified, defining the number of equal-width bins and allocating index values to the nearest bins. \n",
                "\n",
                "This workflow ingests user data into the cluster. The reference to the data should be accessible via the internet and, for this demo, we assume it is saved in a remote location such as Azure blob storage.\n",
                "\n",
                "\n",
                "### Micromamba environment setup\n",
                "Before running this notebook, let's build a micromamba environment. If you do not have micromamba installed, please follow the instructions from the [micromamba installation guide](https://mamba.readthedocs.io/en/latest/installation/micromamba-installation.html).\n",
                "\n",
                "```bash\n",
                "$ micromamba env create -f ./nutrients.yaml\n",
                "$ micromamba activate nutrients\n",
                "```\n"
            ]
        },
        {
            "cell_type": "markdown",
            "metadata": {},
            "source": [
                "### Useful libraries\n",
                "\n",
                "Below are the main libraries used for this example and other useful links:\n",
                "- [NumPy](https://github.com/numpy/numpy) is a python package that provides powerful N-dimensional array object, broadcasting functions and useful linear algebra, Fourier transform, and random number capabilities.\n",
                "- [pandas](https://github.com/scikit-learn/scikit-learn) is a Python package that provides fast, flexible, and expressive data structures designed to make working with \"relational\" or \"labeled\" data both easy and intuitive.\n",
                "- [rasterio](https://github.com/rasterio/rasterio) is a library for reading and writing geospatial raster data. It is used on torchgeo and rioxarray. It is a good option when reading/writing GeoTIFFs.\n",
                "- [Scikit-Learn](https://github.com/scikit-learn/scikit-learn) is a Python package for machine learning built on top of SciPy. It Simple and efficient tools for predictive data analysis.\n",
                "- [Shapely](https://github.com/shapely/shapely) is a library for manipulating geometric shapes."
            ]
        },
        {
            "cell_type": "markdown",
            "metadata": {},
            "source": [
                "### Imports & API Client"
            ]
        },
        {
            "cell_type": "code",
            "execution_count": 1,
            "metadata": {},
            "outputs": [],
            "source": [
                "from datetime import datetime\n",
                "from vibe_core.client import get_default_vibe_client\n",
                "\n",
                "from notebook_lib import utils"
            ]
        },
        {
            "cell_type": "markdown",
            "metadata": {},
            "source": [
                "## Workflow Inputs\n",
                "The main workflow inputs are as follows:\n",
                "- [farm_boundary](https://geojson.org/): Boundary of the field in geojson format. It is used to clip the satellite imagery to an area of interest and run the workflow. A sample field boundary is provided in the file `./sensor_farm_boundary.geojson`.\n",
                "- [geojson_url](https://geojson.org/): Location to the soil sample data. Should be accessible through the internet and will be downloaded in the FarmVibes.AI cluster. The data should contain points and their associated nutrient values. We provide an example in the file `sensor_samples.geojson`. These samples spaced at 50 feet with nutrients information Carbon (C), Phosphorus (P), Nitrogen (N), pH.\n",
                "- imagery: Satellite imagery with multispectral bands that will be used to generate the heatmap. In this demo we contemplate using Sentinel-2 imagery, which can be ingested by running a FarmVibes.AI workflow or a user provided url.\n",
                "\n",
                "*Note - The provided sample data (sensor_farm_boundary.geojson, sensor_samples.geojson) is intended to help the user understand how to run the workflow and contains mock data.*"
            ]
        },
        {
            "cell_type": "code",
            "execution_count": 2,
            "metadata": {},
            "outputs": [],
            "source": [
                "FARM_BOUNDARY = \"./sensor_farm_boundary.geojson\"\n",
                "GEOJSON_URL = \"<SAS Url>\""
            ]
        },
        {
            "cell_type": "markdown",
            "metadata": {},
            "source": [
                "## Satellite imagery\n",
                "Below we outline two methods for getting a raster that contains the satellite imagery used to generate the heatmap. Run the appropriate section below to ingest the data according to your preference.\n",
                "\n",
                "### 1. Use the FarmVibes.AI workfow\n",
                "FarmVibes.AI has several workflows that will ingest and preprocess data from many sources. Below we demonstrate how to obtain Sentinel-2 imagery for a desired location (our field boundary) and time range (some time around when the field samples were collected)."
            ]
        },
        {
            "cell_type": "code",
            "execution_count": 3,
            "metadata": {},
            "outputs": [],
            "source": [
                "START_DATE=datetime(day=30, month=6, year=2022)\n",
                "END_DATE=datetime(day=2, month=7, year=2022)"
            ]
        },
        {
            "cell_type": "code",
            "execution_count": 4,
            "metadata": {},
            "outputs": [
                {
                    "data": {
                        "text/html": [
                            "<pre style=\"white-space:pre;overflow-x:auto;line-height:normal;font-family:Menlo,'DejaVu Sans Mono',consolas,'Courier New',monospace\"></pre>\n"
                        ],
                        "text/plain": []
                    },
                    "metadata": {},
                    "output_type": "display_data"
                },
                {
                    "data": {
                        "text/html": [
                            "<pre style=\"white-space:pre;overflow-x:auto;line-height:normal;font-family:Menlo,'DejaVu Sans Mono',consolas,'Courier New',monospace\"></pre>\n"
                        ],
                        "text/plain": []
                    },
                    "metadata": {},
                    "output_type": "display_data"
                }
            ],
            "source": [
                "# sr_id: EPSG code for the coordinate system (CRS) used in the GeoJSON file\n",
                "# containing the field boundary\n",
                "# EPSG:4326 is the WGS-84 CRS (lat-lon) usually used in GeoJSON files\n",
                "# Change this if your samples are provided in a different (projected) CRS\n",
                "imagery = utils.get_raster_from_cluster(\n",
                "    farm_boundary=FARM_BOUNDARY,\n",
                "    time_range=(START_DATE, END_DATE),\n",
                "    sr_id=4326\n",
                ")"
            ]
        },
        {
            "cell_type": "markdown",
            "metadata": {},
            "source": [
                "### 2. Ingest user-provided TIFF\n",
                "Run this if you prefer ingesting your own raster into the cluster that already exist in azure storage account. The raster ingesting should have required bands to compute index in next section. \n",
                "\n",
                "For example, if you're ingesting the Sentinel Raster then bands should be mapped as below. It's the format supported by [Spyndex library](https://github.com/awesome-spectral-indices/awesome-spectral-indices#expressions)\n",
                "\n",
                "{'B01': 0, 'B02': 1, 'B03': 2, 'B04': 3, 'B05': 4, 'B06': 5, 'B07': 6, 'B08': 7, 'B8A': 8, 'B09': 9, 'B11': 10, 'B12': 11}\n",
                "\n",
                "If you are ingesting the drone multi spectral raster image that has three bands representing red, blue and nir then bands should be mapped as below.\n",
                "\n",
                "{\"R\": 0, \"B\": 1, \"N\": 2}\n",
                "\n",
                "Note: To map the bands for Sentinel, Landsat etc., look at respective columns in [Spyndex library documentation](https://github.com/awesome-spectral-indices/awesome-spectral-indices#expressions), if column not found then map the bands based on column \"Standard\""
            ]
        },
        {
            "cell_type": "code",
            "execution_count": 1,
            "metadata": {},
            "outputs": [],
            "source": [
                "# Url the cluster will use to access the file, e.g., a signed blob URL\n",
                "IMAGERY_URL = \"<SAS URL>\""
            ]
        },
        {
            "cell_type": "code",
            "execution_count": null,
            "metadata": {},
            "outputs": [],
            "source": [
                "# Ingest the data into the cluster. A `Raster` is returned\n",
                "imagery = utils.get_raster_from_external(imagery_url=IMAGERY_URL, farm_boundary=FARM_BOUNDARY)\n",
                "# Set the bands so that we know which band is what when computing indices\n",
                "# These are the band names for an L2A Sentinel-2 raster\n",
                "imagery.bands = {'B01': 0, 'B02': 1, 'B03': 2, 'B04': 3, 'B05': 4, 'B06': 5, 'B07': 6, 'B08': 7, 'B8A': 8, 'B09': 9, 'B11': 10, 'B12': 11}"
            ]
        },
        {
            "cell_type": "markdown",
            "metadata": {},
            "source": [
                "## Heatmap workflow\n",
                "The heatmap workflow will run the following tasks:\n",
                "- Download sensor samples from the user-provided url. Accuracy of the heatmap will depend on the number of samples.\n",
                "- Compute vegetation indices from the provided raster.\n",
                "- Clip index raster and sensor samples using the field boundary.\n",
                "- Bin sample values.\n",
                "- Train a spatial interpolation model using the vegetation index as input and the sample bin as output.\n",
                "- Predict nutrient for the whole region at the raster resolution.\n",
                "- Generate shapefiles for each bin from the prediction raster.\n",
                "\n",
                "The workflow can be customized via several parameters, the parameters, default values, and their descriptions can be accessed via the client."
            ]
        },
        {
            "cell_type": "code",
            "execution_count": 5,
            "metadata": {},
            "outputs": [
                {
                    "data": {
                        "text/html": [
                            "<pre style=\"white-space:pre;overflow-x:auto;line-height:normal;font-family:Menlo,'DejaVu Sans Mono',consolas,'Courier New',monospace\"></pre>\n"
                        ],
                        "text/plain": []
                    },
                    "metadata": {},
                    "output_type": "display_data"
                },
                {
                    "data": {
                        "text/html": [
                            "<pre style=\"white-space:pre;overflow-x:auto;line-height:normal;font-family:Menlo,'DejaVu Sans Mono',consolas,'Courier New',monospace\"><span style=\"color: #008000; text-decoration-color: #008000; font-weight: bold\">Workflow:</span> <span style=\"color: #005fff; text-decoration-color: #005fff; font-weight: bold; text-decoration: underline\">farm_ai/agriculture/heatmap_using_classification</span>\n",
                            "</pre>\n"
                        ],
                        "text/plain": [
                            "\u001b[1;32mWorkflow:\u001b[0m \u001b[1;4;38;5;27mfarm_ai/agriculture/heatmap_using_classification\u001b[0m\n"
                        ]
                    },
                    "metadata": {},
                    "output_type": "display_data"
                },
                {
                    "data": {
                        "text/html": [
                            "<pre style=\"white-space:pre;overflow-x:auto;line-height:normal;font-family:Menlo,'DejaVu Sans Mono',consolas,'Courier New',monospace\">\n",
                            "<span style=\"color: #008000; text-decoration-color: #008000; font-weight: bold\">Description:</span>\n",
                            "</pre>\n"
                        ],
                        "text/plain": [
                            "\n",
                            "\u001b[1;32mDescription:\u001b[0m\n"
                        ]
                    },
                    "metadata": {},
                    "output_type": "display_data"
                },
                {
                    "data": {
                        "text/html": [
                            "<pre style=\"white-space:pre;overflow-x:auto;line-height:normal;font-family:Menlo,'DejaVu Sans Mono',consolas,'Courier New',monospace\">    The workflow generates a nutrient heatmap for samples provided by user by downloading the       \n",
                            "    samples from user input. The samples provided are related with farm boundary and have required  \n",
                            "    nutrient information to create a heatmap.                                                       \n",
                            "</pre>\n"
                        ],
                        "text/plain": [
                            "    The workflow generates a nutrient heatmap for samples provided by user by downloading the       \n",
                            "    samples from user input. The samples provided are related with farm boundary and have required  \n",
                            "    nutrient information to create a heatmap.                                                       \n"
                        ]
                    },
                    "metadata": {},
                    "output_type": "display_data"
                },
                {
                    "data": {
                        "text/html": [
                            "<pre style=\"white-space:pre;overflow-x:auto;line-height:normal;font-family:Menlo,'DejaVu Sans Mono',consolas,'Courier New',monospace\">\n",
                            "<span style=\"color: #008000; text-decoration-color: #008000; font-weight: bold\">Sources:</span>\n",
                            "</pre>\n"
                        ],
                        "text/plain": [
                            "\n",
                            "\u001b[1;32mSources:\u001b[0m\n"
                        ]
                    },
                    "metadata": {},
                    "output_type": "display_data"
                },
                {
                    "data": {
                        "text/html": [
                            "<pre style=\"white-space:pre;overflow-x:auto;line-height:normal;font-family:Menlo,'DejaVu Sans Mono',consolas,'Courier New',monospace\">    - <span style=\"font-weight: bold\">input_samples</span> (<span style=\"color: #000080; text-decoration-color: #000080\">List[vibe_core.data.core_types.ExternalReferenceList]</span>): External references to \n",
                            "    sensor samples for nutrients.                                                                   \n",
                            "</pre>\n"
                        ],
                        "text/plain": [
                            "    - \u001b[1minput_samples\u001b[0m (\u001b[34mList[vibe_core.data.core_types.ExternalReferenceList]\u001b[0m): External references to \n",
                            "    sensor samples for nutrients.                                                                   \n"
                        ]
                    },
                    "metadata": {},
                    "output_type": "display_data"
                },
                {
                    "data": {
                        "text/html": [
                            "<pre style=\"white-space:pre;overflow-x:auto;line-height:normal;font-family:Menlo,'DejaVu Sans Mono',consolas,'Courier New',monospace\">    - <span style=\"font-weight: bold\">input_raster</span> (<span style=\"color: #000080; text-decoration-color: #000080\">vibe_core.data.rasters.Raster</span>): Input raster for index computation.             \n",
                            "</pre>\n"
                        ],
                        "text/plain": [
                            "    - \u001b[1minput_raster\u001b[0m (\u001b[34mvibe_core.data.rasters.Raster\u001b[0m): Input raster for index computation.             \n"
                        ]
                    },
                    "metadata": {},
                    "output_type": "display_data"
                },
                {
                    "data": {
                        "text/html": [
                            "<pre style=\"white-space:pre;overflow-x:auto;line-height:normal;font-family:Menlo,'DejaVu Sans Mono',consolas,'Courier New',monospace\">\n",
                            "<span style=\"color: #008000; text-decoration-color: #008000; font-weight: bold\">Sinks:</span>\n",
                            "</pre>\n"
                        ],
                        "text/plain": [
                            "\n",
                            "\u001b[1;32mSinks:\u001b[0m\n"
                        ]
                    },
                    "metadata": {},
                    "output_type": "display_data"
                },
                {
                    "data": {
                        "text/html": [
                            "<pre style=\"white-space:pre;overflow-x:auto;line-height:normal;font-family:Menlo,'DejaVu Sans Mono',consolas,'Courier New',monospace\">    - <span style=\"font-weight: bold\">result</span> (<span style=\"color: #000080; text-decoration-color: #000080\">vibe_core.data.core_types.DataVibe</span>): Zip file containing cluster geometries.          \n",
                            "</pre>\n"
                        ],
                        "text/plain": [
                            "    - \u001b[1mresult\u001b[0m (\u001b[34mvibe_core.data.core_types.DataVibe\u001b[0m): Zip file containing cluster geometries.          \n"
                        ]
                    },
                    "metadata": {},
                    "output_type": "display_data"
                },
                {
                    "data": {
                        "text/html": [
                            "<pre style=\"white-space:pre;overflow-x:auto;line-height:normal;font-family:Menlo,'DejaVu Sans Mono',consolas,'Courier New',monospace\">\n",
                            "<span style=\"color: #008000; text-decoration-color: #008000; font-weight: bold\">Parameters:</span>\n",
                            "</pre>\n"
                        ],
                        "text/plain": [
                            "\n",
                            "\u001b[1;32mParameters:\u001b[0m\n"
                        ]
                    },
                    "metadata": {},
                    "output_type": "display_data"
                },
                {
                    "data": {
                        "text/html": [
                            "<pre style=\"white-space:pre;overflow-x:auto;line-height:normal;font-family:Menlo,'DejaVu Sans Mono',consolas,'Courier New',monospace\">    - <span style=\"font-weight: bold\">attribute_name</span> (<span style=\"color: #000080; text-decoration-color: #000080\">default: C</span>): Nutrient property name in sensor samples geojson file. For       \n",
                            "    example CARBON (C), Nitrogen (N), Phosphorus (P) etc.,                                          \n",
                            "</pre>\n"
                        ],
                        "text/plain": [
                            "    - \u001b[1mattribute_name\u001b[0m (\u001b[34mdefault: C\u001b[0m): Nutrient property name in sensor samples geojson file. For       \n",
                            "    example CARBON (C), Nitrogen (N), Phosphorus (P) etc.,                                          \n"
                        ]
                    },
                    "metadata": {},
                    "output_type": "display_data"
                },
                {
                    "data": {
                        "text/html": [
                            "<pre style=\"white-space:pre;overflow-x:auto;line-height:normal;font-family:Menlo,'DejaVu Sans Mono',consolas,'Courier New',monospace\">    - <span style=\"font-weight: bold\">buffer</span> (<span style=\"color: #000080; text-decoration-color: #000080\">default: 3</span>): Offset distance from sample to perform interpolate operations with       \n",
                            "    raster.                                                                                         \n",
                            "</pre>\n"
                        ],
                        "text/plain": [
                            "    - \u001b[1mbuffer\u001b[0m (\u001b[34mdefault: 3\u001b[0m): Offset distance from sample to perform interpolate operations with       \n",
                            "    raster.                                                                                         \n"
                        ]
                    },
                    "metadata": {},
                    "output_type": "display_data"
                },
                {
                    "data": {
                        "text/html": [
                            "<pre style=\"white-space:pre;overflow-x:auto;line-height:normal;font-family:Menlo,'DejaVu Sans Mono',consolas,'Courier New',monospace\">    - <span style=\"font-weight: bold\">index</span> (<span style=\"color: #000080; text-decoration-color: #000080\">default: ndvi</span>): Type of index to be used to generate heatmap. For example - evi, pri   \n",
                            "    etc.,                                                                                           \n",
                            "</pre>\n"
                        ],
                        "text/plain": [
                            "    - \u001b[1mindex\u001b[0m (\u001b[34mdefault: ndvi\u001b[0m): Type of index to be used to generate heatmap. For example - evi, pri   \n",
                            "    etc.,                                                                                           \n"
                        ]
                    },
                    "metadata": {},
                    "output_type": "display_data"
                },
                {
                    "data": {
                        "text/html": [
                            "<pre style=\"white-space:pre;overflow-x:auto;line-height:normal;font-family:Menlo,'DejaVu Sans Mono',consolas,'Courier New',monospace\">    - <span style=\"font-weight: bold\">bins</span> (<span style=\"color: #000080; text-decoration-color: #000080\">default: 4</span>): Possible number of groups used to move value to nearest group using [numpy \n",
                            "    histogram](https://numpy.org/doc/stable/reference/generated/numpy.histogram.html) and to        \n",
                            "    pre-process the data to support model training with classification .                            \n",
                            "</pre>\n"
                        ],
                        "text/plain": [
                            "    - \u001b[1mbins\u001b[0m (\u001b[34mdefault: 4\u001b[0m): Possible number of groups used to move value to nearest group using [numpy \n",
                            "    histogram](https://numpy.org/doc/stable/reference/generated/numpy.histogram.html) and to        \n",
                            "    pre-process the data to support model training with classification .                            \n"
                        ]
                    },
                    "metadata": {},
                    "output_type": "display_data"
                },
                {
                    "data": {
                        "text/html": [
                            "<pre style=\"white-space:pre;overflow-x:auto;line-height:normal;font-family:Menlo,'DejaVu Sans Mono',consolas,'Courier New',monospace\">    - <span style=\"font-weight: bold\">simplify</span> (<span style=\"color: #000080; text-decoration-color: #000080\">default: simplify</span>): Replace small polygons in input with value of their largest     \n",
                            "    neighbor after converting from raster to vector. Accepts 'simplify' or 'convex' or 'none'.      \n",
                            "</pre>\n"
                        ],
                        "text/plain": [
                            "    - \u001b[1msimplify\u001b[0m (\u001b[34mdefault: simplify\u001b[0m): Replace small polygons in input with value of their largest     \n",
                            "    neighbor after converting from raster to vector. Accepts 'simplify' or 'convex' or 'none'.      \n"
                        ]
                    },
                    "metadata": {},
                    "output_type": "display_data"
                },
                {
                    "data": {
                        "text/html": [
                            "<pre style=\"white-space:pre;overflow-x:auto;line-height:normal;font-family:Menlo,'DejaVu Sans Mono',consolas,'Courier New',monospace\">    - <span style=\"font-weight: bold\">tolerance</span> (<span style=\"color: #000080; text-decoration-color: #000080\">default: 1.0</span>): All parts of a [simplified                                          \n",
                            "    geometry](https://geopandas.org/en/stable/docs/reference/api/geopandas.GeoSeries.simplify.html) \n",
                            "    will be no more than tolerance distance from the original. It has the same units as the         \n",
                            "    coordinate reference system of the GeoSeries. For example, using tolerance=100 in a projected   \n",
                            "    CRS with meters as units means a distance of 100 meters in reality.                             \n",
                            "</pre>\n"
                        ],
                        "text/plain": [
                            "    - \u001b[1mtolerance\u001b[0m (\u001b[34mdefault: 1.0\u001b[0m): All parts of a [simplified                                          \n",
                            "    geometry](https://geopandas.org/en/stable/docs/reference/api/geopandas.GeoSeries.simplify.html) \n",
                            "    will be no more than tolerance distance from the original. It has the same units as the         \n",
                            "    coordinate reference system of the GeoSeries. For example, using tolerance=100 in a projected   \n",
                            "    CRS with meters as units means a distance of 100 meters in reality.                             \n"
                        ]
                    },
                    "metadata": {},
                    "output_type": "display_data"
                },
                {
                    "data": {
                        "text/html": [
                            "<pre style=\"white-space:pre;overflow-x:auto;line-height:normal;font-family:Menlo,'DejaVu Sans Mono',consolas,'Courier New',monospace\">    - <span style=\"font-weight: bold\">data_scale</span> (<span style=\"color: #000080; text-decoration-color: #000080\">default: False</span>): Accepts True or False. Default is False. On True, it scale data  \n",
                            "    using [StandardScalar]                                                                          \n",
                            "    (https://scikit-learn.org/stable/modules/generated/sklearn.preprocessing.StandardScaler.html)   \n",
                            "    from scikit-learn package.  It Standardize features by removing the mean and scaling to unit    \n",
                            "    variance.                                                                                       \n",
                            "</pre>\n"
                        ],
                        "text/plain": [
                            "    - \u001b[1mdata_scale\u001b[0m (\u001b[34mdefault: False\u001b[0m): Accepts True or False. Default is False. On True, it scale data  \n",
                            "    using [StandardScalar]                                                                          \n",
                            "    (https://scikit-learn.org/stable/modules/generated/sklearn.preprocessing.StandardScaler.html)   \n",
                            "    from scikit-learn package.  It Standardize features by removing the mean and scaling to unit    \n",
                            "    variance.                                                                                       \n"
                        ]
                    },
                    "metadata": {},
                    "output_type": "display_data"
                },
                {
                    "data": {
                        "text/html": [
                            "<pre style=\"white-space:pre;overflow-x:auto;line-height:normal;font-family:Menlo,'DejaVu Sans Mono',consolas,'Courier New',monospace\">    - <span style=\"font-weight: bold\">max_depth</span> (<span style=\"color: #000080; text-decoration-color: #000080\">default: 50</span>): The maximum depth of the tree. If None, then nodes are expanded until\n",
                            "    all leaves are pure or until all leaves contain less than min_samples_split samples. For more   \n",
                            "    details refer to                                                                                \n",
                            "    (https://scikit-learn.org/stable/modules/generated/sklearn.ensemble.RandomForestClassifier.html)\n",
                            "</pre>\n"
                        ],
                        "text/plain": [
                            "    - \u001b[1mmax_depth\u001b[0m (\u001b[34mdefault: 50\u001b[0m): The maximum depth of the tree. If None, then nodes are expanded until\n",
                            "    all leaves are pure or until all leaves contain less than min_samples_split samples. For more   \n",
                            "    details refer to                                                                                \n",
                            "    (https://scikit-learn.org/stable/modules/generated/sklearn.ensemble.RandomForestClassifier.html)\n"
                        ]
                    },
                    "metadata": {},
                    "output_type": "display_data"
                },
                {
                    "data": {
                        "text/html": [
                            "<pre style=\"white-space:pre;overflow-x:auto;line-height:normal;font-family:Menlo,'DejaVu Sans Mono',consolas,'Courier New',monospace\">    - <span style=\"font-weight: bold\">n_estimators</span> (<span style=\"color: #000080; text-decoration-color: #000080\">default: 25</span>): The number of trees in the forest. For more details refer to      \n",
                            "    (https://scikit-learn.org/stable/modules/generated/sklearn.ensemble.RandomForestClassifier.html)\n",
                            "</pre>\n"
                        ],
                        "text/plain": [
                            "    - \u001b[1mn_estimators\u001b[0m (\u001b[34mdefault: 25\u001b[0m): The number of trees in the forest. For more details refer to      \n",
                            "    (https://scikit-learn.org/stable/modules/generated/sklearn.ensemble.RandomForestClassifier.html)\n"
                        ]
                    },
                    "metadata": {},
                    "output_type": "display_data"
                },
                {
                    "data": {
                        "text/html": [
                            "<pre style=\"white-space:pre;overflow-x:auto;line-height:normal;font-family:Menlo,'DejaVu Sans Mono',consolas,'Courier New',monospace\">    - <span style=\"font-weight: bold\">random_state</span> (<span style=\"color: #000080; text-decoration-color: #000080\">default: 100</span>): Controls both the randomness of the bootstrapping of the samples \n",
                            "    used when building trees (if bootstrap=True) and the sampling of the features to consider when  \n",
                            "    looking for the best split at each node (if max_features &lt; n_features). For more details refer  \n",
                            "    to                                                                                              \n",
                            "    (https://scikit-learn.org/stable/modules/generated/sklearn.ensemble.RandomForestClassifier.html)\n",
                            "</pre>\n"
                        ],
                        "text/plain": [
                            "    - \u001b[1mrandom_state\u001b[0m (\u001b[34mdefault: 100\u001b[0m): Controls both the randomness of the bootstrapping of the samples \n",
                            "    used when building trees (if bootstrap=True) and the sampling of the features to consider when  \n",
                            "    looking for the best split at each node (if max_features < n_features). For more details refer  \n",
                            "    to                                                                                              \n",
                            "    (https://scikit-learn.org/stable/modules/generated/sklearn.ensemble.RandomForestClassifier.html)\n"
                        ]
                    },
                    "metadata": {},
                    "output_type": "display_data"
                },
                {
                    "data": {
                        "text/html": [
                            "<pre style=\"white-space:pre;overflow-x:auto;line-height:normal;font-family:Menlo,'DejaVu Sans Mono',consolas,'Courier New',monospace\">\n",
                            "<span style=\"color: #008000; text-decoration-color: #008000; font-weight: bold\">Tasks:</span>\n",
                            "</pre>\n"
                        ],
                        "text/plain": [
                            "\n",
                            "\u001b[1;32mTasks:\u001b[0m\n"
                        ]
                    },
                    "metadata": {},
                    "output_type": "display_data"
                },
                {
                    "data": {
                        "text/html": [
                            "<pre style=\"white-space:pre;overflow-x:auto;line-height:normal;font-family:Menlo,'DejaVu Sans Mono',consolas,'Courier New',monospace\">    - <span style=\"font-weight: bold\">download_samples</span>: Adds user geometries into the cluster storage, allowing for them to be used \n",
                            "    on workflows.                                                                                   \n",
                            "</pre>\n"
                        ],
                        "text/plain": [
                            "    - \u001b[1mdownload_samples\u001b[0m: Adds user geometries into the cluster storage, allowing for them to be used \n",
                            "    on workflows.                                                                                   \n"
                        ]
                    },
                    "metadata": {},
                    "output_type": "display_data"
                },
                {
                    "data": {
                        "text/html": [
                            "<pre style=\"white-space:pre;overflow-x:auto;line-height:normal;font-family:Menlo,'DejaVu Sans Mono',consolas,'Courier New',monospace\">    - <span style=\"font-weight: bold\">soil_sample_heatmap_classification</span>: Utilizes input Sentinel-2 satellite imagery &amp; the sensor  \n",
                            "    samples as labeled data that contain nutrient information (Nitrogen, Carbon, pH, Phosphorus) to \n",
                            "    train a model using Random Forest classifier. The inference operation predicts nutrients in soil\n",
                            "    for the chosen farm boundary.                                                                   \n",
                            "                                                                                                    \n",
                            "</pre>\n"
                        ],
                        "text/plain": [
                            "    - \u001b[1msoil_sample_heatmap_classification\u001b[0m: Utilizes input Sentinel-2 satellite imagery & the sensor  \n",
                            "    samples as labeled data that contain nutrient information (Nitrogen, Carbon, pH, Phosphorus) to \n",
                            "    train a model using Random Forest classifier. The inference operation predicts nutrients in soil\n",
                            "    for the chosen farm boundary.                                                                   \n",
                            "                                                                                                    \n"
                        ]
                    },
                    "metadata": {},
                    "output_type": "display_data"
                }
            ],
            "source": [
                "client = get_default_vibe_client()\n",
                "client.document_workflow(\"farm_ai/agriculture/heatmap_using_classification\")"
            ]
        },
        {
            "cell_type": "markdown",
            "metadata": {},
            "source": [
                "## Generating a Nitrogen heatmap\n",
                "We demonstrate how to generate a nitrogen heatmap using the Enhanced Vegetation Index (EVI). In the provided sample file, the sensor samples have nitrogen information in attribute \"N\". Parameters for a workflow run are defined in a dict as shown below."
            ]
        },
        {
            "cell_type": "code",
            "execution_count": 6,
            "metadata": {},
            "outputs": [
                {
                    "data": {
                        "text/html": [
                            "<pre style=\"white-space:pre;overflow-x:auto;line-height:normal;font-family:Menlo,'DejaVu Sans Mono',consolas,'Courier New',monospace\"></pre>\n"
                        ],
                        "text/plain": []
                    },
                    "metadata": {},
                    "output_type": "display_data"
                },
                {
                    "data": {
                        "text/html": [
                            "<pre style=\"white-space:pre;overflow-x:auto;line-height:normal;font-family:Menlo,'DejaVu Sans Mono',consolas,'Courier New',monospace\"></pre>\n"
                        ],
                        "text/plain": []
                    },
                    "metadata": {},
                    "output_type": "display_data"
                }
            ],
            "source": [
                "# input parameters\n",
                "parameters = {\n",
                "    \"index\": \"evi\",\n",
                "    \"attribute_name\": \"N\",\n",
                "    \"buffer\": 3,\n",
                "    \"bins\": 4,\n",
                "    \"simplify\": \"simplify\",\n",
                "    \"tolerance\": 0.32,\n",
                "    \"data_scale\": True,\n",
                "}\n",
                "\n",
                "archive_path = utils.create_heatmap(\n",
                "        imagery= imagery, \n",
                "        geojson_url = GEOJSON_URL, \n",
                "        farm_boundary = FARM_BOUNDARY, \n",
                "        parameters = parameters\n",
                ")"
            ]
        },
        {
            "cell_type": "markdown",
            "metadata": {},
            "source": [
                "### Output visualization\n",
                "We use matplotlib and geopandas to display the results of the workflow from the shapefiles. This is a quick way to get a high level view the workflow output. To get a more detailed look, we recommend opening the generated files and input raster in a geographic analysis platform, such as [QGIS](https://www.qgis.org/en/site/). This will allow you to zoom in and more closely examine the results."
            ]
        },
        {
            "cell_type": "code",
            "execution_count": 7,
            "metadata": {},
            "outputs": [
                {
                    "data": {
                        "image/png": "[encoded data removed]",
                        "text/plain": [
                            "<Figure size 700x600 with 2 Axes>"
                        ]
                    },
                    "metadata": {},
                    "output_type": "display_data"
                }
            ],
            "source": [
                "utils.view_output(archive_path, title=\"Heatmap for Nitrogen\")"
            ]
        },
        {
            "cell_type": "markdown",
            "metadata": {},
            "source": [
                "## Generating a Carbon heatmap\n",
                "The carbon information is available in the attribute `C`, so we change the parameter accordingly. We also use EVI for this parameter."
            ]
        },
        {
            "cell_type": "code",
            "execution_count": 8,
            "metadata": {},
            "outputs": [
                {
                    "data": {
                        "text/html": [
                            "<pre style=\"white-space:pre;overflow-x:auto;line-height:normal;font-family:Menlo,'DejaVu Sans Mono',consolas,'Courier New',monospace\"></pre>\n"
                        ],
                        "text/plain": []
                    },
                    "metadata": {},
                    "output_type": "display_data"
                },
                {
                    "data": {
                        "text/html": [
                            "<pre style=\"white-space:pre;overflow-x:auto;line-height:normal;font-family:Menlo,'DejaVu Sans Mono',consolas,'Courier New',monospace\"></pre>\n"
                        ],
                        "text/plain": []
                    },
                    "metadata": {},
                    "output_type": "display_data"
                }
            ],
            "source": [
                "# input parameters\n",
                "parameters = {\n",
                "    \"index\": \"evi\",\n",
                "    \"attribute_name\": \"C\",\n",
                "    \"buffer\": 3,\n",
                "    \"bins\": 2,\n",
                "    \"simplify\": \"simplify\",\n",
                "    \"tolerance\": 0.28,\n",
                "    \"data_scale\": False,\n",
                "}\n",
                "\n",
                "archive_path = utils.create_heatmap(\n",
                "        imagery=imagery, \n",
                "        geojson_url = GEOJSON_URL, \n",
                "        farm_boundary = FARM_BOUNDARY, \n",
                "        parameters = parameters\n",
                ")"
            ]
        },
        {
            "cell_type": "code",
            "execution_count": 9,
            "metadata": {},
            "outputs": [
                {
                    "data": {
                        "image/png": "[encoded data removed]",
                        "text/plain": [
                            "<Figure size 700x600 with 2 Axes>"
                        ]
                    },
                    "metadata": {},
                    "output_type": "display_data"
                }
            ],
            "source": [
                "utils.view_output(archive_path, title=\"Heatmap for Carbon\")"
            ]
        },
        {
            "cell_type": "markdown",
            "metadata": {},
            "source": [
                "## Generating a Phosphorus heatmap\n",
                "The information about phosphorus is available in the attribute `P`, so we change the parameter accordingly. We also use EVI for this parameter."
            ]
        },
        {
            "cell_type": "code",
            "execution_count": 10,
            "metadata": {},
            "outputs": [
                {
                    "data": {
                        "text/html": [
                            "<pre style=\"white-space:pre;overflow-x:auto;line-height:normal;font-family:Menlo,'DejaVu Sans Mono',consolas,'Courier New',monospace\"></pre>\n"
                        ],
                        "text/plain": []
                    },
                    "metadata": {},
                    "output_type": "display_data"
                },
                {
                    "data": {
                        "text/html": [
                            "<pre style=\"white-space:pre;overflow-x:auto;line-height:normal;font-family:Menlo,'DejaVu Sans Mono',consolas,'Courier New',monospace\"></pre>\n"
                        ],
                        "text/plain": []
                    },
                    "metadata": {},
                    "output_type": "display_data"
                }
            ],
            "source": [
                "# input parameters\n",
                "parameters = {\n",
                "    \"index\":\"evi\",\n",
                "    \"attribute_name\": \"P\",\n",
                "    \"buffer\": 4,\n",
                "    \"bins\": 3,\n",
                "    \"simplify\": \"simplify\",\n",
                "    \"tolerance\": 0.2,\n",
                "    \"data_scale\": True,\n",
                "}\n",
                "\n",
                "archive_path = utils.create_heatmap(\n",
                "        imagery= imagery, \n",
                "        geojson_url = GEOJSON_URL, \n",
                "        farm_boundary = FARM_BOUNDARY, \n",
                "        parameters = parameters\n",
                ")"
            ]
        },
        {
            "cell_type": "code",
            "execution_count": 11,
            "metadata": {},
            "outputs": [
                {
                    "data": {
                        "image/png": "[encoded data removed]",
                        "text/plain": [
                            "<Figure size 700x600 with 2 Axes>"
                        ]
                    },
                    "metadata": {},
                    "output_type": "display_data"
                }
            ],
            "source": [
                "utils.view_output(archive_path, title=\"Heatmap for Phosphorus\")"
            ]
        },
        {
            "cell_type": "markdown",
            "metadata": {},
            "source": [
                "## Generating a pH heatmap\n",
                "The information about pH is available in the attribute `pH`, so we change the parameter accordingly. We found that the Photochemical Reflectance Index (PRI) has better correlation with pH values, so we adjust the index as well."
            ]
        },
        {
            "cell_type": "code",
            "execution_count": 12,
            "metadata": {},
            "outputs": [
                {
                    "data": {
                        "text/html": [
                            "<pre style=\"white-space:pre;overflow-x:auto;line-height:normal;font-family:Menlo,'DejaVu Sans Mono',consolas,'Courier New',monospace\"></pre>\n"
                        ],
                        "text/plain": []
                    },
                    "metadata": {},
                    "output_type": "display_data"
                },
                {
                    "data": {
                        "text/html": [
                            "<pre style=\"white-space:pre;overflow-x:auto;line-height:normal;font-family:Menlo,'DejaVu Sans Mono',consolas,'Courier New',monospace\"></pre>\n"
                        ],
                        "text/plain": []
                    },
                    "metadata": {},
                    "output_type": "display_data"
                }
            ],
            "source": [
                "# input parameters\n",
                "parameters = {\n",
                "    \"index\": \"pri\",\n",
                "    \"attribute_name\": \"pH\",\n",
                "    \"buffer\": 3,\n",
                "    \"bins\": 4,\n",
                "    \"simplify\": \"simplify\",\n",
                "    \"tolerance\": 0.2,\n",
                "    \"data_scale\": False,\n",
                "}\n",
                "\n",
                "archive_path = utils.create_heatmap(\n",
                "        imagery=imagery, \n",
                "        geojson_url = GEOJSON_URL, \n",
                "        farm_boundary = FARM_BOUNDARY, \n",
                "        parameters = parameters\n",
                ")"
            ]
        },
        {
            "cell_type": "code",
            "execution_count": 13,
            "metadata": {},
            "outputs": [
                {
                    "data": {
                        "image/png": "[encoded data removed]",
                        "text/plain": [
                            "<Figure size 700x600 with 2 Axes>"
                        ]
                    },
                    "metadata": {},
                    "output_type": "display_data"
                }
            ],
            "source": [
                "utils.view_output(archive_path, title=\"Heatmap for Phosphorus\")"
            ]
        }
    ],
    "metadata": {
        "description": "Using soil samples from a farm, train a Random Forest model to estimate a heatmap of soil nutrients.",
        "disk_space": "",
        "kernelspec": {
            "display_name": "Python 3 (ipykernel)",
            "language": "python",
            "name": "python3"
        },
        "language_info": {
            "codemirror_mode": {
                "name": "ipython",
                "version": 3
            },
            "file_extension": ".py",
            "mimetype": "text/x-python",
            "name": "python",
            "nbconvert_exporter": "python",
            "pygments_lexer": "ipython3",
            "version": "3.8.15"
        },
        "name": "Nutrient Heatmap Estimation - Classification",
        "running_time": "",
        "tags": [
            "Sustainability",
            "Index Computation",
            "Model Training",
            "Sentinel",
            "Working with Custom Workflows"
        ],
        "vscode": {
            "interpreter": {
                "hash": "2aa0580ea024b7f7eb69f04a32a9c9b086c2434662745a322e5dbb797c6875b3"
            }
        }
    },
    "nbformat": 4,
    "nbformat_minor": 2
}
