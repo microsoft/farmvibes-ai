{
    "cells": [
        {
            "cell_type": "markdown",
            "metadata": {},
            "source": [
                "# FarmVibes.AI Nutrients Heatmap using optimal sensor/sample locations\n",
                "\n",
                "This notebook is enhanced version of existing notebook [nutrients_using_classification.ipynb](). It generates the heatmap using the neighbor data points. The soil property data points were identified by optimal sensor/sample locations workflow. This notebook [notebooks/sensor/optimal_sample_collection.ipynb]() demonstrates generating a heatmap based on input imagery and nutrient information collected for the optimal sensor/sample locations.\n",
                "\n",
                "This workflow ingests user data into the cluster. The reference to the data should be accessible via the internet and, for this demo, we assume it is saved in a remote location such as Azure blob storage.\n",
                "\n",
                "### Conda environment setup\n",
                "We provide a conda environment with the package requirements to run this notebook. If you do not have conda installed, please follow the instructions from [Conda User Guide](https://docs.conda.io/projects/conda/en/latest/user-guide/index.html).\n",
                "\n",
                "The conda environment can be created and activated using the commands below:\n",
                "```\n",
                "$ conda env create -f ./nutrients.yaml\n",
                "$ conda activate nutrients\n",
                "```"
            ]
        },
        {
            "cell_type": "markdown",
            "metadata": {},
            "source": [
                "### Useful libraries\n",
                "\n",
                "Below are the main libraries used for this example and other useful links:\n",
                "- [NumPy](https://github.com/numpy/numpy) is a python package that provides powerful N-dimensional array object, broadcasting functions and useful linear algebra, Fourier transform, and random number capabilities.\n",
                "- [pandas](https://github.com/scikit-learn/scikit-learn) is a Python package that provides fast, flexible, and expressive data structures designed to make working with \"relational\" or \"labeled\" data both easy and intuitive.\n",
                "- [rasterio](https://github.com/rasterio/rasterio) is a library for reading and writing geospatial raster data. It is used on torchgeo and rioxarray. It is a good option when reading/writing GeoTIFFs.\n",
                "- [Scikit-Learn](https://github.com/scikit-learn/scikit-learn) is a Python package for machine learning built on top of SciPy. It Simple and efficient tools for predictive data analysis.\n",
                "- [Shapely](https://github.com/shapely/shapely) is a library for manipulating geometric shapes."
            ]
        },
        {
            "cell_type": "markdown",
            "metadata": {},
            "source": [
                "### Imports & API Client"
            ]
        },
        {
            "cell_type": "code",
            "execution_count": 1,
            "metadata": {},
            "outputs": [],
            "source": [
                "from datetime import datetime\n",
                "from vibe_core.client import get_default_vibe_client\n",
                "import geopandas as gpd\n",
                "from matplotlib import pyplot as plt\n",
                "from notebook_lib import utils"
            ]
        },
        {
            "cell_type": "markdown",
            "metadata": {},
            "source": [
                "## Workflow Inputs\n",
                "The main workflow inputs are as follows:\n",
                "- [farm_boundary](https://geojson.org/): Boundary of the field in geojson format. It is used to clip the satellite imagery to an area of interest and run the workflow. A sample field boundary is provided in the file `./sensor_farm_boundary.geojson`.\n",
                "\n",
                "- imagery: Satellite imagery with multispectral bands to create raster indices. In this demo we are using Sentinel-2 imagery, which can be ingested by running a FarmVibes.AI workflow or a user provided url.\n",
                "\n",
                "*Note - The provided sample data (sensor_farm_boundary.geojson, sensor_samples.geojson) is intended to help the user understand how to run the workflow and contains mock data.*"
            ]
        },
        {
            "cell_type": "code",
            "execution_count": 3,
            "metadata": {},
            "outputs": [],
            "source": [
                "FARM_BOUNDARY = \"./sensor_farm_boundary.geojson\""
            ]
        },
        {
            "cell_type": "markdown",
            "metadata": {},
            "source": [
                "## Satellite imagery\n",
                "Below we outline two methods for getting a raster that contains the satellite imagery used to generate the heatmap. Run the appropriate section below to ingest the data according to your preference.\n",
                "\n",
                "### 1. Use the FarmVibes.AI workfow\n",
                "FarmVibes.AI has several workflows that will ingest and preprocess data from many sources. Below we demonstrate how to obtain Sentinel-2 imagery for a desired location (our field boundary) and time range (some time around when the field samples were collected)."
            ]
        },
        {
            "cell_type": "code",
            "execution_count": 4,
            "metadata": {},
            "outputs": [],
            "source": [
                "START_DATE=datetime(day=30, month=6, year=2022)\n",
                "END_DATE=datetime(day=2, month=7, year=2022)"
            ]
        },
        {
            "cell_type": "code",
            "execution_count": 5,
            "metadata": {},
            "outputs": [
                {
                    "data": {
                        "text/html": [
                            "<pre style=\"white-space:pre;overflow-x:auto;line-height:normal;font-family:Menlo,'DejaVu Sans Mono',consolas,'Courier New',monospace\"></pre>\n"
                        ],
                        "text/plain": []
                    },
                    "metadata": {},
                    "output_type": "display_data"
                },
                {
                    "data": {
                        "text/html": [
                            "<pre style=\"white-space:pre;overflow-x:auto;line-height:normal;font-family:Menlo,'DejaVu Sans Mono',consolas,'Courier New',monospace\"></pre>\n"
                        ],
                        "text/plain": []
                    },
                    "metadata": {},
                    "output_type": "display_data"
                }
            ],
            "source": [
                "# sr_id: EPSG code for the coordinate system (CRS) used in the GeoJSON file\n",
                "# containing the field boundary\n",
                "# EPSG:4326 is the WGS-84 CRS (lat-lon) usually used in GeoJSON files\n",
                "# Change this if your samples are provided in a different (projected) CRS\n",
                "imagery = utils.get_raster_from_cluster(\n",
                "    farm_boundary=FARM_BOUNDARY,\n",
                "    time_range=(START_DATE, END_DATE),\n",
                "    sr_id=4326\n",
                ")"
            ]
        },
        {
            "cell_type": "markdown",
            "metadata": {},
            "source": [
                "### 2. Ingest user-provided TIFF\n",
                "Run this if you prefer ingesting your own raster into the cluster that already exist in azure storage account. The raster ingesting should have required bands to compute index in next section. \n",
                "\n",
                "For example, if you're ingesting the Sentinel Raster then bands should be mapped as below. It's the format supported by [Spyndex library](https://github.com/awesome-spectral-indices/awesome-spectral-indices#expressions)\n",
                "\n",
                "{'B01': 0, 'B02': 1, 'B03': 2, 'B04': 3, 'B05': 4, 'B06': 5, 'B07': 6, 'B08': 7, 'B8A': 8, 'B09': 9, 'B11': 10, 'B12': 11}\n",
                "\n",
                "If you are ingesting the custom multi spectral raster image that has three bands representing red, blue and nir then bands should be mapped as below.\n",
                "\n",
                "{\"R\": 0, \"B\": 1, \"N\": 2}\n",
                "\n",
                "Note: To map the bands for Sentinel, Landsat etc., look at respective columns in [Spyndex library documentation](https://github.com/awesome-spectral-indices/awesome-spectral-indices#expressions), if column not found then map the bands based on column \"Standard\"\n"
            ]
        },
        {
            "cell_type": "code",
            "execution_count": 5,
            "metadata": {},
            "outputs": [],
            "source": [
                "# Url the cluster will use to access the file, e.g., a signed blob URL\n",
                "IMAGERY_URL = \"<SAS URL>\""
            ]
        },
        {
            "cell_type": "code",
            "execution_count": 6,
            "metadata": {},
            "outputs": [],
            "source": [
                "# Ingest the data into the cluster. A `Raster` is returned\n",
                "imagery = utils.get_raster_from_external(imagery_url=IMAGERY_URL, farm_boundary=FARM_BOUNDARY)\n",
                "# Set the bands so that we know which band is what when computing indices\n",
                "# These are the band names for an L2A Sentinel-2 raster\n",
                "imagery.bands = {'B01': 0, 'B02': 1, 'B03': 2, 'B04': 3, 'B05': 4, 'B06': 5, 'B07': 6, 'B08': 7, 'B8A': 8, 'B09': 9, 'B11': 10, 'B12': 11}"
            ]
        },
        {
            "cell_type": "markdown",
            "metadata": {},
            "source": [
                "### Optimal Locations with nutrient information\n",
                "\n",
                "Upload the nutrients associated with optimal sensor/sample locations and cluster_boundaries to storage account and get the SAS url. The SAS url generated should be accessible through the internet since it will be downloaded from FarmVibes.AI cluster.\n",
                "\n",
                "We provide an example of attribute and geometry information in the file `sensor_samples.geojson`."
            ]
        },
        {
            "cell_type": "code",
            "execution_count": 21,
            "metadata": {},
            "outputs": [],
            "source": [
                "cluster_boundaries_url = \"<SAS URL>\"\n",
                "nutrients_url = \"<SAS URL>\""
            ]
        },
        {
            "cell_type": "markdown",
            "metadata": {},
            "source": [
                "## Heatmap workflow"
            ]
        },
        {
            "cell_type": "code",
            "execution_count": 2,
            "metadata": {},
            "outputs": [
                {
                    "data": {
                        "text/html": [
                            "<pre style=\"white-space:pre;overflow-x:auto;line-height:normal;font-family:Menlo,'DejaVu Sans Mono',consolas,'Courier New',monospace\"></pre>\n"
                        ],
                        "text/plain": []
                    },
                    "metadata": {},
                    "output_type": "display_data"
                },
                {
                    "data": {
                        "text/html": [
                            "<pre style=\"white-space:pre;overflow-x:auto;line-height:normal;font-family:Menlo,'DejaVu Sans Mono',consolas,'Courier New',monospace\"><span style=\"color: #008000; text-decoration-color: #008000; font-weight: bold\">Workflow:</span> <span style=\"color: #005fff; text-decoration-color: #005fff; font-weight: bold; text-decoration: underline\">farm_ai/agriculture/heatmap_using_neighboring_data_points</span>\n",
                            "</pre>\n"
                        ],
                        "text/plain": [
                            "\u001b[1;32mWorkflow:\u001b[0m \u001b[1;4;38;5;27mfarm_ai/agriculture/heatmap_using_neighboring_data_points\u001b[0m\n"
                        ]
                    },
                    "metadata": {},
                    "output_type": "display_data"
                },
                {
                    "data": {
                        "text/html": [
                            "<pre style=\"white-space:pre;overflow-x:auto;line-height:normal;font-family:Menlo,'DejaVu Sans Mono',consolas,'Courier New',monospace\">\n",
                            "<span style=\"color: #008000; text-decoration-color: #008000; font-weight: bold\">Description:</span>\n",
                            "</pre>\n"
                        ],
                        "text/plain": [
                            "\n",
                            "\u001b[1;32mDescription:\u001b[0m\n"
                        ]
                    },
                    "metadata": {},
                    "output_type": "display_data"
                },
                {
                    "data": {
                        "text/html": [
                            "<pre style=\"white-space:pre;overflow-x:auto;line-height:normal;font-family:Menlo,'DejaVu Sans Mono',consolas,'Courier New',monospace\">    Create heatmap using the neighbors by performing spatial interpolation operations. It utilize   \n",
                            "    soil information collected at optimal sensor/sample locations and downloaded sentinel satellite \n",
                            "    imagery. The optimal location of nutrient samples are identified using workflow                 \n",
                            "    &lt;farm_ai/sensor/optimal_locations&gt;. The quantity of samples define the accuracy of the heatmap  \n",
                            "    generation. During the research performed testing using sample count approximately 20, 80, 130, \n",
                            "    600. The research concluded samples count 20 provided decent results, also accuracy of nutrient \n",
                            "    information improved with increase in sample count.                                             \n",
                            "</pre>\n"
                        ],
                        "text/plain": [
                            "    Create heatmap using the neighbors by performing spatial interpolation operations. It utilize   \n",
                            "    soil information collected at optimal sensor/sample locations and downloaded sentinel satellite \n",
                            "    imagery. The optimal location of nutrient samples are identified using workflow                 \n",
                            "    <farm_ai/sensor/optimal_locations>. The quantity of samples define the accuracy of the heatmap  \n",
                            "    generation. During the research performed testing using sample count approximately 20, 80, 130, \n",
                            "    600. The research concluded samples count 20 provided decent results, also accuracy of nutrient \n",
                            "    information improved with increase in sample count.                                             \n"
                        ]
                    },
                    "metadata": {},
                    "output_type": "display_data"
                },
                {
                    "data": {
                        "text/html": [
                            "<pre style=\"white-space:pre;overflow-x:auto;line-height:normal;font-family:Menlo,'DejaVu Sans Mono',consolas,'Courier New',monospace\">\n",
                            "<span style=\"color: #008000; text-decoration-color: #008000; font-weight: bold\">Sources:</span>\n",
                            "</pre>\n"
                        ],
                        "text/plain": [
                            "\n",
                            "\u001b[1;32mSources:\u001b[0m\n"
                        ]
                    },
                    "metadata": {},
                    "output_type": "display_data"
                },
                {
                    "data": {
                        "text/html": [
                            "<pre style=\"white-space:pre;overflow-x:auto;line-height:normal;font-family:Menlo,'DejaVu Sans Mono',consolas,'Courier New',monospace\">    - <span style=\"font-weight: bold\">input_raster</span> (<span style=\"color: #000080; text-decoration-color: #000080\">vibe_core.data.rasters.Raster</span>): sentinel 2 satellite imagery.                   \n",
                            "</pre>\n"
                        ],
                        "text/plain": [
                            "    - \u001b[1minput_raster\u001b[0m (\u001b[34mvibe_core.data.rasters.Raster\u001b[0m): sentinel 2 satellite imagery.                   \n"
                        ]
                    },
                    "metadata": {},
                    "output_type": "display_data"
                },
                {
                    "data": {
                        "text/html": [
                            "<pre style=\"white-space:pre;overflow-x:auto;line-height:normal;font-family:Menlo,'DejaVu Sans Mono',consolas,'Courier New',monospace\">    - <span style=\"font-weight: bold\">input_samples</span> (<span style=\"color: #000080; text-decoration-color: #000080\">List[vibe_core.data.core_types.ExternalReferenceList]</span>): Sensor samples with    \n",
                            "    nutrient information.                                                                           \n",
                            "</pre>\n"
                        ],
                        "text/plain": [
                            "    - \u001b[1minput_samples\u001b[0m (\u001b[34mList[vibe_core.data.core_types.ExternalReferenceList]\u001b[0m): Sensor samples with    \n",
                            "    nutrient information.                                                                           \n"
                        ]
                    },
                    "metadata": {},
                    "output_type": "display_data"
                },
                {
                    "data": {
                        "text/html": [
                            "<pre style=\"white-space:pre;overflow-x:auto;line-height:normal;font-family:Menlo,'DejaVu Sans Mono',consolas,'Courier New',monospace\">    - <span style=\"font-weight: bold\">input_sample_clusters</span> (<span style=\"color: #000080; text-decoration-color: #000080\">List[vibe_core.data.core_types.ExternalReferenceList]</span>): Clusters       \n",
                            "    boundaries of sensor samples locations.                                                         \n",
                            "</pre>\n"
                        ],
                        "text/plain": [
                            "    - \u001b[1minput_sample_clusters\u001b[0m (\u001b[34mList[vibe_core.data.core_types.ExternalReferenceList]\u001b[0m): Clusters       \n",
                            "    boundaries of sensor samples locations.                                                         \n"
                        ]
                    },
                    "metadata": {},
                    "output_type": "display_data"
                },
                {
                    "data": {
                        "text/html": [
                            "<pre style=\"white-space:pre;overflow-x:auto;line-height:normal;font-family:Menlo,'DejaVu Sans Mono',consolas,'Courier New',monospace\">\n",
                            "<span style=\"color: #008000; text-decoration-color: #008000; font-weight: bold\">Sinks:</span>\n",
                            "</pre>\n"
                        ],
                        "text/plain": [
                            "\n",
                            "\u001b[1;32mSinks:\u001b[0m\n"
                        ]
                    },
                    "metadata": {},
                    "output_type": "display_data"
                },
                {
                    "data": {
                        "text/html": [
                            "<pre style=\"white-space:pre;overflow-x:auto;line-height:normal;font-family:Menlo,'DejaVu Sans Mono',consolas,'Courier New',monospace\">    - <span style=\"font-weight: bold\">result</span> (<span style=\"color: #000080; text-decoration-color: #000080\">vibe_core.data.core_types.DataVibe</span>): Zip file containing heatmap output as shape      \n",
                            "    files.                                                                                          \n",
                            "</pre>\n"
                        ],
                        "text/plain": [
                            "    - \u001b[1mresult\u001b[0m (\u001b[34mvibe_core.data.core_types.DataVibe\u001b[0m): Zip file containing heatmap output as shape      \n",
                            "    files.                                                                                          \n"
                        ]
                    },
                    "metadata": {},
                    "output_type": "display_data"
                },
                {
                    "data": {
                        "text/html": [
                            "<pre style=\"white-space:pre;overflow-x:auto;line-height:normal;font-family:Menlo,'DejaVu Sans Mono',consolas,'Courier New',monospace\">\n",
                            "<span style=\"color: #008000; text-decoration-color: #008000; font-weight: bold\">Parameters:</span>\n",
                            "</pre>\n"
                        ],
                        "text/plain": [
                            "\n",
                            "\u001b[1;32mParameters:\u001b[0m\n"
                        ]
                    },
                    "metadata": {},
                    "output_type": "display_data"
                },
                {
                    "data": {
                        "text/html": [
                            "<pre style=\"white-space:pre;overflow-x:auto;line-height:normal;font-family:Menlo,'DejaVu Sans Mono',consolas,'Courier New',monospace\">    - <span style=\"font-weight: bold\">attribute_name</span> (<span style=\"color: #000080; text-decoration-color: #000080\">default: C</span>): Nutrient property name in sensor samples geojson file. For       \n",
                            "    example: CARBON (C), Nitrogen (N), Phosphorus (P) etc.,                                         \n",
                            "</pre>\n"
                        ],
                        "text/plain": [
                            "    - \u001b[1mattribute_name\u001b[0m (\u001b[34mdefault: C\u001b[0m): Nutrient property name in sensor samples geojson file. For       \n",
                            "    example: CARBON (C), Nitrogen (N), Phosphorus (P) etc.,                                         \n"
                        ]
                    },
                    "metadata": {},
                    "output_type": "display_data"
                },
                {
                    "data": {
                        "text/html": [
                            "<pre style=\"white-space:pre;overflow-x:auto;line-height:normal;font-family:Menlo,'DejaVu Sans Mono',consolas,'Courier New',monospace\">    - <span style=\"font-weight: bold\">simplify</span> (<span style=\"color: #000080; text-decoration-color: #000080\">default: simplify</span>): Replace small polygons in input with value of their largest     \n",
                            "    neighbor after converting from raster to vector. Accepts 'simplify' or 'convex' or 'none'.      \n",
                            "</pre>\n"
                        ],
                        "text/plain": [
                            "    - \u001b[1msimplify\u001b[0m (\u001b[34mdefault: simplify\u001b[0m): Replace small polygons in input with value of their largest     \n",
                            "    neighbor after converting from raster to vector. Accepts 'simplify' or 'convex' or 'none'.      \n"
                        ]
                    },
                    "metadata": {},
                    "output_type": "display_data"
                },
                {
                    "data": {
                        "text/html": [
                            "<pre style=\"white-space:pre;overflow-x:auto;line-height:normal;font-family:Menlo,'DejaVu Sans Mono',consolas,'Courier New',monospace\">    - <span style=\"font-weight: bold\">tolerance</span> (<span style=\"color: #000080; text-decoration-color: #000080\">default: 1.0</span>): All parts of a [simplified                                          \n",
                            "    geometry](https://geopandas.org/en/stable/docs/reference/api/geopandas.GeoSeries.simplify.html) \n",
                            "    will be no more than tolerance distance from the original. It has the same units as the         \n",
                            "    coordinate reference system of the GeoSeries. For example, using tolerance=100 in a projected   \n",
                            "    CRS with meters as units means a distance of 100 meters in reality.                             \n",
                            "</pre>\n"
                        ],
                        "text/plain": [
                            "    - \u001b[1mtolerance\u001b[0m (\u001b[34mdefault: 1.0\u001b[0m): All parts of a [simplified                                          \n",
                            "    geometry](https://geopandas.org/en/stable/docs/reference/api/geopandas.GeoSeries.simplify.html) \n",
                            "    will be no more than tolerance distance from the original. It has the same units as the         \n",
                            "    coordinate reference system of the GeoSeries. For example, using tolerance=100 in a projected   \n",
                            "    CRS with meters as units means a distance of 100 meters in reality.                             \n"
                        ]
                    },
                    "metadata": {},
                    "output_type": "display_data"
                },
                {
                    "data": {
                        "text/html": [
                            "<pre style=\"white-space:pre;overflow-x:auto;line-height:normal;font-family:Menlo,'DejaVu Sans Mono',consolas,'Courier New',monospace\">    - <span style=\"font-weight: bold\">algorithm</span> (<span style=\"color: #000080; text-decoration-color: #000080\">default: nearest neighbor</span>): Algorithm used to identify nearest neighbors. Accepts  \n",
                            "    'cluster overlap' or 'nearest neighbor' or 'kriging neighbor'.                                  \n",
                            "</pre>\n"
                        ],
                        "text/plain": [
                            "    - \u001b[1malgorithm\u001b[0m (\u001b[34mdefault: nearest neighbor\u001b[0m): Algorithm used to identify nearest neighbors. Accepts  \n",
                            "    'cluster overlap' or 'nearest neighbor' or 'kriging neighbor'.                                  \n"
                        ]
                    },
                    "metadata": {},
                    "output_type": "display_data"
                },
                {
                    "data": {
                        "text/html": [
                            "<pre style=\"white-space:pre;overflow-x:auto;line-height:normal;font-family:Menlo,'DejaVu Sans Mono',consolas,'Courier New',monospace\">    - <span style=\"font-weight: bold\">resolution</span> (<span style=\"color: #000080; text-decoration-color: #000080\">default: 5</span>): Resolution of the heatmap, units of resolution should match units of \n",
                            "    input raster.                                                                                   \n",
                            "</pre>\n"
                        ],
                        "text/plain": [
                            "    - \u001b[1mresolution\u001b[0m (\u001b[34mdefault: 5\u001b[0m): Resolution of the heatmap, units of resolution should match units of \n",
                            "    input raster.                                                                                   \n"
                        ]
                    },
                    "metadata": {},
                    "output_type": "display_data"
                },
                {
                    "data": {
                        "text/html": [
                            "<pre style=\"white-space:pre;overflow-x:auto;line-height:normal;font-family:Menlo,'DejaVu Sans Mono',consolas,'Courier New',monospace\">    - <span style=\"font-weight: bold\">distribute_output</span> (<span style=\"color: #000080; text-decoration-color: #000080\">default: True</span>): Increases the output variance to avoid output polygon in   \n",
                            "    shape file grouped into single large polygon.                                                   \n",
                            "</pre>\n"
                        ],
                        "text/plain": [
                            "    - \u001b[1mdistribute_output\u001b[0m (\u001b[34mdefault: True\u001b[0m): Increases the output variance to avoid output polygon in   \n",
                            "    shape file grouped into single large polygon.                                                   \n"
                        ]
                    },
                    "metadata": {},
                    "output_type": "display_data"
                },
                {
                    "data": {
                        "text/html": [
                            "<pre style=\"white-space:pre;overflow-x:auto;line-height:normal;font-family:Menlo,'DejaVu Sans Mono',consolas,'Courier New',monospace\">    - <span style=\"font-weight: bold\">bins</span> (<span style=\"color: #000080; text-decoration-color: #000080\">default: 5</span>): it defines the number of equal-width bins in the given range.Refer to this \n",
                            "    article to learn more about bins                                                                \n",
                            "    https://numpy.org/doc/stable/reference/generated/numpy.histogram.html                           \n",
                            "</pre>\n"
                        ],
                        "text/plain": [
                            "    - \u001b[1mbins\u001b[0m (\u001b[34mdefault: 5\u001b[0m): it defines the number of equal-width bins in the given range.Refer to this \n",
                            "    article to learn more about bins                                                                \n",
                            "    https://numpy.org/doc/stable/reference/generated/numpy.histogram.html                           \n"
                        ]
                    },
                    "metadata": {},
                    "output_type": "display_data"
                },
                {
                    "data": {
                        "text/html": [
                            "<pre style=\"white-space:pre;overflow-x:auto;line-height:normal;font-family:Menlo,'DejaVu Sans Mono',consolas,'Courier New',monospace\">\n",
                            "<span style=\"color: #008000; text-decoration-color: #008000; font-weight: bold\">Tasks:</span>\n",
                            "</pre>\n"
                        ],
                        "text/plain": [
                            "\n",
                            "\u001b[1;32mTasks:\u001b[0m\n"
                        ]
                    },
                    "metadata": {},
                    "output_type": "display_data"
                },
                {
                    "data": {
                        "text/html": [
                            "<pre style=\"white-space:pre;overflow-x:auto;line-height:normal;font-family:Menlo,'DejaVu Sans Mono',consolas,'Courier New',monospace\">    - <span style=\"font-weight: bold\">download_samples</span>: Adds user geometries into the cluster storage, allowing for them to be used \n",
                            "    on workflows.                                                                                   \n",
                            "</pre>\n"
                        ],
                        "text/plain": [
                            "    - \u001b[1mdownload_samples\u001b[0m: Adds user geometries into the cluster storage, allowing for them to be used \n",
                            "    on workflows.                                                                                   \n"
                        ]
                    },
                    "metadata": {},
                    "output_type": "display_data"
                },
                {
                    "data": {
                        "text/html": [
                            "<pre style=\"white-space:pre;overflow-x:auto;line-height:normal;font-family:Menlo,'DejaVu Sans Mono',consolas,'Courier New',monospace\">    - <span style=\"font-weight: bold\">download_sample_clusters</span>: Adds user geometries into the cluster storage, allowing for them to \n",
                            "    be used on workflows.                                                                           \n",
                            "</pre>\n"
                        ],
                        "text/plain": [
                            "    - \u001b[1mdownload_sample_clusters\u001b[0m: Adds user geometries into the cluster storage, allowing for them to \n",
                            "    be used on workflows.                                                                           \n"
                        ]
                    },
                    "metadata": {},
                    "output_type": "display_data"
                },
                {
                    "data": {
                        "text/html": [
                            "<pre style=\"white-space:pre;overflow-x:auto;line-height:normal;font-family:Menlo,'DejaVu Sans Mono',consolas,'Courier New',monospace\">    - <span style=\"font-weight: bold\">soil_sample_heatmap</span>: Generate heatmap for nutrients using satellite or spaceEye imagery.      \n",
                            "</pre>\n"
                        ],
                        "text/plain": [
                            "    - \u001b[1msoil_sample_heatmap\u001b[0m: Generate heatmap for nutrients using satellite or spaceEye imagery.      \n"
                        ]
                    },
                    "metadata": {},
                    "output_type": "display_data"
                }
            ],
            "source": [
                "client = get_default_vibe_client()\n",
                "client.document_workflow(\"farm_ai/agriculture/heatmap_using_neighboring_data_points\")"
            ]
        },
        {
            "cell_type": "markdown",
            "metadata": {},
            "source": [
                "## Generating a Carbon heatmap\n",
                "We demonstrate how to generate a carbon heatmap using the Enhanced Vegetation Index (EVI). In the provided sample file, the sensor samples have carbon information in attribute \"C\". Parameters for a workflow run are defined in a dict as shown below."
            ]
        },
        {
            "cell_type": "code",
            "execution_count": 22,
            "metadata": {},
            "outputs": [
                {
                    "data": {
                        "text/html": [
                            "<pre style=\"white-space:pre;overflow-x:auto;line-height:normal;font-family:Menlo,'DejaVu Sans Mono',consolas,'Courier New',monospace\"></pre>\n"
                        ],
                        "text/plain": []
                    },
                    "metadata": {},
                    "output_type": "display_data"
                },
                {
                    "data": {
                        "text/html": [
                            "<pre style=\"white-space:pre;overflow-x:auto;line-height:normal;font-family:Menlo,'DejaVu Sans Mono',consolas,'Courier New',monospace\"></pre>\n"
                        ],
                        "text/plain": []
                    },
                    "metadata": {},
                    "output_type": "display_data"
                }
            ],
            "source": [
                "# input parameters\n",
                "parameters = {\n",
                "        \"attribute_name\": \"C\",\n",
                "        \"simplify\": \"simplify\",\n",
                "        \"tolerance\": 1,\n",
                "        \"algorithm\":\"cluster overlap\",\n",
                "        \"resolution\": 3,\n",
                "        \"distribute_output\": False,\n",
                "        \"bins\":5\n",
                "        }\n",
                "\n",
                "shape_file_path, raster_path = utils.create_heatmap_using_neighbors(\n",
                "        imagery=imagery,\n",
                "        samples_boundary_url=cluster_boundaries_url,\n",
                "        samples_url=nutrients_url,\n",
                "        farm_boundary = FARM_BOUNDARY,\n",
                "        parameters = parameters\n",
                ")"
            ]
        },
        {
            "cell_type": "code",
            "execution_count": 23,
            "metadata": {},
            "outputs": [
                {
                    "data": {
                        "text/html": [
                            "<pre style=\"white-space:pre;overflow-x:auto;line-height:normal;font-family:Menlo,'DejaVu Sans Mono',consolas,'Courier New',monospace\"></pre>\n"
                        ],
                        "text/plain": []
                    },
                    "metadata": {},
                    "output_type": "display_data"
                },
                {
                    "data": {
                        "text/html": [
                            "<pre style=\"white-space:pre;overflow-x:auto;line-height:normal;font-family:Menlo,'DejaVu Sans Mono',consolas,'Courier New',monospace\"></pre>\n"
                        ],
                        "text/plain": []
                    },
                    "metadata": {},
                    "output_type": "display_data"
                },
                {
                    "data": {
                        "text/plain": [
                            "{'mae': 0.0001480257315825597,\n",
                            " 'rmse': 0.00031069752978528945,\n",
                            " 'relative_error': 0.0022180167504714664}"
                        ]
                    },
                    "execution_count": 23,
                    "metadata": {},
                    "output_type": "execute_result"
                }
            ],
            "source": [
                "utils.calculate_accuracy(nutrients_url, FARM_BOUNDARY, raster_path, \"C\")"
            ]
        },
        {
            "cell_type": "markdown",
            "metadata": {},
            "source": [
                "### Output visualization\n",
                "We use matplotlib and geopandas to display the results of the workflow from the shapefiles. This is a quick way to get a high level view the workflow output. To get a more detailed look, we recommend opening the generated files and input raster in a geographic analysis platform, such as [QGIS](https://www.qgis.org/en/site/). This will allow you to zoom in and more closely examine the results."
            ]
        },
        {
            "cell_type": "code",
            "execution_count": 24,
            "metadata": {},
            "outputs": [
                {
                    "data": {
                        "image/png": "[encoded data removed]",
                        "text/plain": [
                            "<Figure size 700x600 with 2 Axes>"
                        ]
                    },
                    "metadata": {},
                    "output_type": "display_data"
                }
            ],
            "source": [
                "utils.view_output(shape_file_path, title=\"Heatmap for Carbon\")"
            ]
        },
        {
            "cell_type": "markdown",
            "metadata": {},
            "source": [
                "## Generating a Nitrogen heatmap\n",
                "We demonstrate how to generate a nitrogen heatmap using the Enhanced Vegetation Index (EVI). In the provided sample file, the sensor samples have nitrogen information in attribute \"N\". Parameters for a workflow run are defined in a dict as shown below."
            ]
        },
        {
            "cell_type": "code",
            "execution_count": 138,
            "metadata": {},
            "outputs": [
                {
                    "data": {
                        "text/html": [
                            "<pre style=\"white-space:pre;overflow-x:auto;line-height:normal;font-family:Menlo,'DejaVu Sans Mono',consolas,'Courier New',monospace\"></pre>\n"
                        ],
                        "text/plain": []
                    },
                    "metadata": {},
                    "output_type": "display_data"
                },
                {
                    "data": {
                        "text/html": [
                            "<pre style=\"white-space:pre;overflow-x:auto;line-height:normal;font-family:Menlo,'DejaVu Sans Mono',consolas,'Courier New',monospace\"></pre>\n"
                        ],
                        "text/plain": []
                    },
                    "metadata": {},
                    "output_type": "display_data"
                }
            ],
            "source": [
                "# input parameters\n",
                "parameters = {\n",
                "        \"attribute_name\": \"N\",\n",
                "        \"simplify\": \"simplify\",\n",
                "        \"tolerance\": 1,\n",
                "        \"algorithm\":\"nearest neighbor\",\n",
                "        \"resolution\": 5,\n",
                "        \"distribute_output\": False,\n",
                "        \"bins\":5\n",
                "        }\n",
                "\n",
                "shape_file_path, raster_path = utils.create_heatmap_using_neighbors(\n",
                "        imagery=imagery, \n",
                "        samples_boundary_url=cluster_boundaries_url,\n",
                "        samples_url=nutrients_url,\n",
                "        farm_boundary = FARM_BOUNDARY,\n",
                "        parameters = parameters\n",
                ")"
            ]
        },
        {
            "cell_type": "markdown",
            "metadata": {},
            "source": [
                "### Output visualization\n",
                "We use matplotlib and geopandas to display the results of the workflow from the shapefiles. This is a quick way to get a high level view the workflow output. To get a more detailed look, we recommend opening the generated files and input raster in a geographic analysis platform, such as [QGIS](https://www.qgis.org/en/site/). This will allow you to zoom in and more closely examine the results."
            ]
        },
        {
            "cell_type": "code",
            "execution_count": 139,
            "metadata": {},
            "outputs": [
                {
                    "data": {
                        "image/png": "[encoded data removed]",
                        "text/plain": [
                            "<Figure size 700x600 with 2 Axes>"
                        ]
                    },
                    "metadata": {},
                    "output_type": "display_data"
                }
            ],
            "source": [
                "utils.view_output(shape_file_path, title=\"Heatmap for Nitrogen\")"
            ]
        },
        {
            "cell_type": "code",
            "execution_count": 140,
            "metadata": {},
            "outputs": [
                {
                    "data": {
                        "text/html": [
                            "<pre style=\"white-space:pre;overflow-x:auto;line-height:normal;font-family:Menlo,'DejaVu Sans Mono',consolas,'Courier New',monospace\"></pre>\n"
                        ],
                        "text/plain": []
                    },
                    "metadata": {},
                    "output_type": "display_data"
                },
                {
                    "data": {
                        "text/html": [
                            "<pre style=\"white-space:pre;overflow-x:auto;line-height:normal;font-family:Menlo,'DejaVu Sans Mono',consolas,'Courier New',monospace\"></pre>\n"
                        ],
                        "text/plain": []
                    },
                    "metadata": {},
                    "output_type": "display_data"
                },
                {
                    "data": {
                        "text/plain": [
                            "{'mae': 0.20921648387340408,\n",
                            " 'rmse': 0.5420335800524969,\n",
                            " 'relative_error': 0.005774186670234012}"
                        ]
                    },
                    "execution_count": 140,
                    "metadata": {},
                    "output_type": "execute_result"
                }
            ],
            "source": [
                "utils.calculate_accuracy(nutrients_url, FARM_BOUNDARY, raster_path, \"N\")"
            ]
        },
        {
            "cell_type": "markdown",
            "metadata": {},
            "source": [
                "## Generating a Phosphorus heatmap\n",
                "The information about phosphorus is available in the attribute `P`, so we change the parameter accordingly. We also use EVI for this parameter."
            ]
        },
        {
            "cell_type": "code",
            "execution_count": 144,
            "metadata": {},
            "outputs": [
                {
                    "data": {
                        "text/html": [
                            "<pre style=\"white-space:pre;overflow-x:auto;line-height:normal;font-family:Menlo,'DejaVu Sans Mono',consolas,'Courier New',monospace\"></pre>\n"
                        ],
                        "text/plain": []
                    },
                    "metadata": {},
                    "output_type": "display_data"
                },
                {
                    "data": {
                        "text/html": [
                            "<pre style=\"white-space:pre;overflow-x:auto;line-height:normal;font-family:Menlo,'DejaVu Sans Mono',consolas,'Courier New',monospace\"></pre>\n"
                        ],
                        "text/plain": []
                    },
                    "metadata": {},
                    "output_type": "display_data"
                }
            ],
            "source": [
                "# input parameters\n",
                "parameters = {\n",
                "        \"attribute_name\": \"P\",\n",
                "        \"simplify\": \"simplify\",\n",
                "        \"tolerance\": 1,\n",
                "        \"algorithm\":\"nearest neighbor\",\n",
                "        \"resolution\": 5,\n",
                "        \"distribute_output\": False,\n",
                "        \"bins\":5\n",
                "        }\n",
                "\n",
                "shape_file_path, raster_path = utils.create_heatmap_using_neighbors(\n",
                "        imagery=imagery, \n",
                "        samples_boundary_url=cluster_boundaries_url,\n",
                "        samples_url=nutrients_url,\n",
                "        farm_boundary = FARM_BOUNDARY,\n",
                "        parameters = parameters\n",
                ")"
            ]
        },
        {
            "cell_type": "code",
            "execution_count": 145,
            "metadata": {},
            "outputs": [
                {
                    "data": {
                        "image/png": "[encoded data removed]",
                        "text/plain": [
                            "<Figure size 700x600 with 2 Axes>"
                        ]
                    },
                    "metadata": {},
                    "output_type": "display_data"
                }
            ],
            "source": [
                "utils.view_output(shape_file_path, title=\"Heatmap for Phosphorus\")"
            ]
        },
        {
            "cell_type": "code",
            "execution_count": 146,
            "metadata": {},
            "outputs": [
                {
                    "data": {
                        "text/html": [
                            "<pre style=\"white-space:pre;overflow-x:auto;line-height:normal;font-family:Menlo,'DejaVu Sans Mono',consolas,'Courier New',monospace\"></pre>\n"
                        ],
                        "text/plain": []
                    },
                    "metadata": {},
                    "output_type": "display_data"
                },
                {
                    "data": {
                        "text/html": [
                            "<pre style=\"white-space:pre;overflow-x:auto;line-height:normal;font-family:Menlo,'DejaVu Sans Mono',consolas,'Courier New',monospace\"></pre>\n"
                        ],
                        "text/plain": []
                    },
                    "metadata": {},
                    "output_type": "display_data"
                },
                {
                    "data": {
                        "text/plain": [
                            "{'mae': 1.1603435184289237,\n",
                            " 'rmse': 2.22361920087616,\n",
                            " 'relative_error': 0.08910255273466096}"
                        ]
                    },
                    "execution_count": 146,
                    "metadata": {},
                    "output_type": "execute_result"
                }
            ],
            "source": [
                "utils.calculate_accuracy(nutrients_url, FARM_BOUNDARY, raster_path, \"P\")"
            ]
        },
        {
            "cell_type": "markdown",
            "metadata": {},
            "source": [
                "## Generating a pH heatmap\n",
                "We found that the Photochemical Reflectance Index (PRI) has better correlation with pH values, so we adjust the index as well. Get sample location for index PRI. For identified latitude & longitude of sample locations derive nutrient information. Upload derived information and sample location boundaries to storage account and get SAS Url."
            ]
        },
        {
            "cell_type": "code",
            "execution_count": 161,
            "metadata": {},
            "outputs": [],
            "source": [
                "cluster_boundaries_url = \"<SAS URL>\"\n",
                "nutrients_url = \"<SAS URL>\""
            ]
        },
        {
            "cell_type": "code",
            "execution_count": 163,
            "metadata": {},
            "outputs": [
                {
                    "data": {
                        "text/html": [
                            "<pre style=\"white-space:pre;overflow-x:auto;line-height:normal;font-family:Menlo,'DejaVu Sans Mono',consolas,'Courier New',monospace\"></pre>\n"
                        ],
                        "text/plain": []
                    },
                    "metadata": {},
                    "output_type": "display_data"
                },
                {
                    "data": {
                        "text/html": [
                            "<pre style=\"white-space:pre;overflow-x:auto;line-height:normal;font-family:Menlo,'DejaVu Sans Mono',consolas,'Courier New',monospace\"></pre>\n"
                        ],
                        "text/plain": []
                    },
                    "metadata": {},
                    "output_type": "display_data"
                }
            ],
            "source": [
                "# input parameters\n",
                "parameters = {\n",
                "        \"attribute_name\": \"pH\",\n",
                "        \"simplify\": \"simplify\",\n",
                "        \"tolerance\": 1,\n",
                "        \"algorithm\":\"nearest neighbor\",\n",
                "        \"resolution\": 5,\n",
                "        \"distribute_output\": True,\n",
                "        \"bins\":5\n",
                "        }\n",
                "\n",
                "shape_file_path, raster_path = utils.create_heatmap_using_neighbors(\n",
                "        imagery=imagery, \n",
                "        samples_boundary_url=cluster_boundaries_url,\n",
                "        samples_url=nutrients_url,\n",
                "        farm_boundary = FARM_BOUNDARY,\n",
                "        parameters = parameters\n",
                ")"
            ]
        },
        {
            "cell_type": "code",
            "execution_count": 164,
            "metadata": {},
            "outputs": [
                {
                    "data": {
                        "image/png": "[encoded data removed]",
                        "text/plain": [
                            "<Figure size 700x600 with 2 Axes>"
                        ]
                    },
                    "metadata": {},
                    "output_type": "display_data"
                }
            ],
            "source": [
                "utils.view_output(shape_file_path, title=\"Heatmap for pH\")"
            ]
        },
        {
            "cell_type": "code",
            "execution_count": 165,
            "metadata": {},
            "outputs": [
                {
                    "data": {
                        "text/html": [
                            "<pre style=\"white-space:pre;overflow-x:auto;line-height:normal;font-family:Menlo,'DejaVu Sans Mono',consolas,'Courier New',monospace\"></pre>\n"
                        ],
                        "text/plain": []
                    },
                    "metadata": {},
                    "output_type": "display_data"
                },
                {
                    "data": {
                        "text/html": [
                            "<pre style=\"white-space:pre;overflow-x:auto;line-height:normal;font-family:Menlo,'DejaVu Sans Mono',consolas,'Courier New',monospace\"></pre>\n"
                        ],
                        "text/plain": []
                    },
                    "metadata": {},
                    "output_type": "display_data"
                },
                {
                    "data": {
                        "text/plain": [
                            "{'mae': 0.0023103997688737055,\n",
                            " 'rmse': 0.0029111248437515497,\n",
                            " 'relative_error': 0.000321365933524303}"
                        ]
                    },
                    "execution_count": 165,
                    "metadata": {},
                    "output_type": "execute_result"
                }
            ],
            "source": [
                "utils.calculate_accuracy(nutrients_url, FARM_BOUNDARY, raster_path, \"pH\")"
            ]
        }
    ],
    "metadata": {
        "description": "Using soil samples from a farm, train a Random Forest model to estimate a heatmap of soil nutrients.",
        "disk_space": "",
        "kernelspec": {
            "display_name": "Python 3 (ipykernel)",
            "language": "python",
            "name": "python3"
        },
        "language_info": {
            "codemirror_mode": {
                "name": "ipython",
                "version": 3
            },
            "file_extension": ".py",
            "mimetype": "text/x-python",
            "name": "python",
            "nbconvert_exporter": "python",
            "pygments_lexer": "ipython3",
            "version": "3.8.15"
        },
        "name": "Nutrient Heatmap Estimation",
        "running_time": "",
        "tags": [
            "Sustainability",
            "Index Computation",
            "Model Training",
            "Sentinel",
            "Working with Custom Workflows"
        ],
        "vscode": {
            "interpreter": {
                "hash": "2aa0580ea024b7f7eb69f04a32a9c9b086c2434662745a322e5dbb797c6875b3"
            }
        }
    },
    "nbformat": 4,
    "nbformat_minor": 2
}
