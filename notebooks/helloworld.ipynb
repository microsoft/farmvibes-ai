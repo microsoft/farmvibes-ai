{
 "cells": [
  {
   "cell_type": "markdown",
   "metadata": {},
   "source": [
    "# Hello World!\n",
    "Simple example of how to instantiate a client and run a workflow in the FarmVibes.AI cluster. To install the required packages, see [this README file](README.md)."
   ]
  },
  {
   "cell_type": "code",
   "execution_count": null,
   "metadata": {},
   "outputs": [],
   "source": [
    "from vibe_core.client import get_default_vibe_client\n",
    "import rasterio\n",
    "import matplotlib.pyplot as plt\n",
    "from datetime import datetime\n",
    "from shapely import geometry as shpg"
   ]
  },
  {
   "cell_type": "code",
   "execution_count": null,
   "metadata": {},
   "outputs": [],
   "source": [
    "client = get_default_vibe_client()\n",
    "# Recife - Brazil\n",
    "geometry = shpg.Point(-34.9, -8.05).buffer(.1)\n",
    "time_range = (datetime.now(), datetime.now())\n",
    "run = client.run(\"helloworld\", \"Hello world! 👋\", geometry=geometry, time_range=time_range)\n",
    "run.monitor()"
   ]
  },
  {
   "cell_type": "code",
   "execution_count": null,
   "metadata": {},
   "outputs": [],
   "source": [
    "with rasterio.open(run.output[\"raster\"][0].raster_asset.url) as src:\n",
    "    data_ar = src.read()\n",
    "\n",
    "plt.figure(figsize=(12, 6))\n",
    "plt.imshow(data_ar.transpose((1, 2, 0)))\n",
    "plt.show()"
   ]
  }
 ],
 "metadata": {
  "kernelspec": {
   "display_name": "Python 3.8.12 ('eywa-dev')",
   "language": "python",
   "name": "python3"
  },
  "language_info": {
   "codemirror_mode": {
    "name": "ipython",
    "version": 3
   },
   "file_extension": ".py",
   "mimetype": "text/x-python",
   "name": "python",
   "nbconvert_exporter": "python",
   "pygments_lexer": "ipython3",
   "version": "3.8.12"
  },
  "orig_nbformat": 4,
  "vscode": {
   "interpreter": {
    "hash": "c3afbcd674f01dbe99f517668d03e48b91e064c61586fe19845e53435e7dd554"
   }
  }
 },
 "nbformat": 4,
 "nbformat_minor": 2
}
