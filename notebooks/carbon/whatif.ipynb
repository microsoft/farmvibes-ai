{
    "cells": [
        {
            "attachments": {},
            "cell_type": "markdown",
            "metadata": {},
            "source": [
                "# What-if scenario evaluation for carbon sequestration\n",
                "\n",
                "This notebook uses the [COMET-Farm API](https://gitlab.com/comet-api/api-docs/-/tree/master/) to derive carbon sequestration information for agricultural fields.\n",
                "\n",
                "### Conda environment setup\n",
                "\n",
                "To install the required packages, see [this README file](../README.md).\n",
                "\n",
                "### Required files\n",
                "\n",
                "To perform the analysis, the API requires some JSON files with information about the fields. They are:\n",
                "\n",
                " * [`baseline.json`](./baseline.json): Contains information about agriculture activities performed during previous seasons. The previous seasons' information should be repeated from the year 2000 to the (current calendar year - 2).\n",
                " * [`historical.json`](./historical.json): Contains details of crop history.\n",
                " * [`scenario.json`](./scenario.json): Contains information about agriculture activities to be performed for the **two calendar years** following the seasons in `baseline.json`. This will be used by the COMET-Farm API to generate the analysis results.\n",
                " * [`boundary.json`](./boundary.json): Contains details about the agriculture farmland.\n",
                "\n",
                "Examples for all the files mentioned above are available alongside this notebook, and the names of the files themselves are clickable, allowing exploration of the values.\n",
                "\n",
                "In code cells below, we will use these examples to evaluate a scenario."
            ]
        },
        {
            "cell_type": "code",
            "execution_count": null,
            "metadata": {},
            "outputs": [],
            "source": [
                "import json\n",
                "from vibe_core.data import CarbonScenario\n",
                "from vibe_core.data.carbon import Baseline, CBoundary, Historical, Scenario\n",
                "\n",
                "historical_file = \"./historical.json\"\n",
                "with open(historical_file) as json_file:\n",
                "    c_historcical = Historical(**json.load(json_file))\n",
                "\n",
                "baseline_file = \"./baseline.json\"\n",
                "with open(baseline_file) as json_file:\n",
                "    c_baseline = Baseline(**json.load(json_file))\n",
                "\n",
                "scenario_file = \"./scenario.json\"\n",
                "with open(scenario_file) as json_file:\n",
                "    c_scenario = Scenario(**json.load(json_file))\n",
                "\n",
                "boundary_file = \"./boundary.json\"\n",
                "with open(boundary_file) as json_file:\n",
                "    c_boundary = CBoundary(**json.load(json_file))\n",
                "\n",
                "inputs = CarbonScenario(\n",
                "    boundary=c_boundary,\n",
                "    scenario=c_scenario,\n",
                "    baseline=c_baseline,\n",
                "    historical=c_historcical\n",
                ")"
            ]
        },
        {
            "cell_type": "markdown",
            "metadata": {},
            "source": [
                "## Details about the output of the COMET-Farm API\n",
                "\n",
                "1. All greenhouse gas models in the COMET-Farm platform (Example: DayCent, rice\n",
                "   methane, residue burning, liming, urea fertilizer, etc.) are run against the\n",
                "   baseline scenario and then against each conservation scenario, on each unique\n",
                "   combination of soil map units found within each parcel or point for each model\n",
                "   run.\n",
                "\n",
                "2.\tAggregated Baseline and Scenario results totals for all models are also\n",
                "    returned, named \"Baseline\" and \"Scenario\".\n",
                "\n",
                "An example output follows:\n",
                "\n",
                "```json\n",
                "{\n",
                "    \"@name\": \"scenario: 21/07/2022 10:34:05\",\n",
                "    \"Carbon\": {\n",
                "        \"SoilCarbon\": \"-1679.9\",\n",
                "        \"BiomassBurningCarbon\": \"0\",\n",
                "        \"SoilCarbonStock2000\": \"5511.312\",\n",
                "        \"SoilCarbonStockBegin\": \"5753.6314\",\n",
                "        \"SoilCarbonStockEnd\": \"5759.8725\"\n",
                "    },\n",
                "    \"CO2\": {\n",
                "        \"LimingCO2\": \"0\",\n",
                "        \"UreaFertilizationCO2\": \"8.5587\",\n",
                "        \"DrainedOrganicSoilsCO2\": \"0\"\n",
                "    },\n",
                "    \"N2O\": {\n",
                "        \"SoilN2O\": \"536.1286\",\n",
                "        \"SoilN2O_Direct\": \"451.9349\",\n",
                "        \"SoilN2O_Indirect_Volatilization\": \"84.1937\",\n",
                "        \"SoilN2O_Indirect_Leaching\": \"0\",\n",
                "        \"WetlandRiceCultivationN2O\": \"0\",\n",
                "        \"BiomassBurningN2O\": \"0\",\n",
                "        \"DrainedOrganicSoilsN2O\": \"0\"\n",
                "    },\n",
                "    \"CH4\": {\n",
                "        \"SoilCH4\": \"0\",\n",
                "        \"WetlandRiceCultivationCH4\": \"0\",\n",
                "        \"BiomassBurningCH4\": \"0\"\n",
                "    }\n",
                "}\n",
                "```"
            ]
        },
        {
            "cell_type": "markdown",
            "metadata": {},
            "source": [
                "## Pre-requisites to run this notebook\n",
                "\n",
                "1. Sign up with https://comet-farm.com/. The email registered there will be used when there are error messages, or a request fails.\n",
                "2. Sign up with https://dashboard.ngrok.com/ to allow the TerraVibes carbon endpoint to be accessible by COMET-Farm API's webhooks.\n",
                "   1. Navigate to \"Getting Started\"/\"Your Auth token\" and copy the Auth token\n",
                "   2. Update copied auth token in variable \"NGROK_AUTH_TOKEN\" in next cell"
            ]
        },
        {
            "cell_type": "code",
            "execution_count": null,
            "metadata": {},
            "outputs": [],
            "source": [
                "NGROK_AUTH_TOKEN = \"\"\n",
                "COMET_REGISTERED_EMAIL = \"\""
            ]
        },
        {
            "cell_type": "code",
            "execution_count": null,
            "metadata": {},
            "outputs": [],
            "source": [
                "import os\n",
                "from datetime import datetime, timezone\n",
                "\n",
                "from vibe_core.datamodel import RunStatus\n",
                "from vibe_core.client import FarmvibesAiClient, get_default_vibe_client, get_local_service_url"
            ]
        },
        {
            "cell_type": "markdown",
            "metadata": {},
            "source": [
                "### On running this workflow\n",
                "\n",
                "*Note*: Running this workflow will expose an endpoint within the FarmVibes.AI worker container publicly. This connection will exist for as long as the workflow is running, and will be closed as soon as the workflow completes.\n",
                "\n",
                "This is a required step for receiving results from the COMET-Farm API. Failure to do so, will prevent the workflow from completing."
            ]
        },
        {
            "cell_type": "code",
            "execution_count": null,
            "metadata": {},
            "outputs": [],
            "source": [
                "client: FarmvibesAiClient = get_default_vibe_client()\n",
                "\n",
                "parameters = {\n",
                "  \"ngrok_token\": NGROK_AUTH_TOKEN,\n",
                "  \"comet_support_email\": COMET_REGISTERED_EMAIL\n",
                "}\n",
                "\n",
                "run = client.run(\"farm_ai/carbon_local/carbon_whatif\", name=\"whatif_carbon_seq\", input_data=inputs, parameters=parameters)\n",
                "run.monitor()"
            ]
        },
        {
            "cell_type": "markdown",
            "metadata": {},
            "source": [
                "Unless the workflow completed under 30s, which requires a response from the COMET-Farm API, the output of the workflow will not be available yet.\n",
                "\n",
                "Use the cells below to inspect the running workflow.\n",
                "\n",
                "Depending on the COMET-Farm API resources availability, workflows will take longer to complete.\n",
                "\n",
                "If the workflow does not complete withing 2 (two) hours and the workflow is still running, use the COMET-Farm support at appnrel@colostate.edu.\n",
                "\n",
                "On failure to execute the COMET-Farm request, error information will be sent to the email registered with COMET."
            ]
        },
        {
            "cell_type": "code",
            "execution_count": null,
            "metadata": {},
            "outputs": [],
            "source": [
                "client.describe_run(run.id)"
            ]
        }
    ],
    "metadata": {
        "kernelspec": {
            "display_name": "Python 3.10.6 ('farmvibes-ai')",
            "language": "python",
            "name": "python3"
        },
        "language_info": {
            "codemirror_mode": {
                "name": "ipython",
                "version": 3
            },
            "file_extension": ".py",
            "mimetype": "text/x-python",
            "name": "python",
            "nbconvert_exporter": "python",
            "pygments_lexer": "ipython3",
            "version": "3.8.15"
        },
        "orig_nbformat": 4,
        "vscode": {
            "interpreter": {
                "hash": "c33f7eccc2e9a334585066468810d983e0954bfd57ca3c5a434b1adc3986f2e0"
            }
        }
    },
    "nbformat": 4,
    "nbformat_minor": 2
}
