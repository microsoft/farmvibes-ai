{
 "cells": [
  {
   "cell_type": "markdown",
   "metadata": {},
   "source": [
    "# What-if scenario evaluation for carbon sequestration\n",
    "\n",
    "This notebook uses the [COMET-Farm API](https://gitlab.com/comet-api/api-docs/-/tree/master/) to derive soil carbon sequestration information for agricultural fields.\n",
    "\n",
    "### Conda environment setup\n",
    "\n",
    "To install the required packages, please refer to our [documentation](https://github.com/microsoft/farmvibes-ai).\n",
    "\n",
    "### Required Input\n",
    "\n",
    "FarmVibes.AI relies on [`SeasonalFieldInformation`](https://github.com/microsoft/farmvibes-ai/tree/main/src/vibe_core/vibe_core/data/farm.py) objects to represent farm practices for a field in a given season. It \n",
    "contains information related to harvest, planting, tillage, organic amendments, and fetilization applications. These objects contain information related to harvest, planting, tillage, organic amendments, and fertilization applications. In order to estimate the amount of soil carbon sequestered by a given farm, we need to provide two lists of `SeasonalFieldInformation` objects:\n",
    "\n",
    " * `baseline_seasonal_fields: List[SeasonalFieldInformation]`: Containing information about past agriculture activities on a given management field. Each `SeasonalFieldInformation` object that represents one year of crop information and it is recommended to use **ten calendar years** to represent the baseline carbon information.\n",
    " * `scenario_seasonal_fields: List[SeasonalFieldInformation]`: Containing information about agriculture activities to be performed for at least **two calendar years** following seasons after `baseline_seasonal_fields`. Similar to the baseline_seasonal_fields, each `SeasonalFieldInformation` object stores farming information for each crop year.\n",
    "\n",
    "\n",
    "The objects are stored in files  [`baseline_seasonal_fields.json`](./baseline_seasonal_fields.json) and [`scenario_seasonal_fields.json`](./scenario_seasonal_fields.json) in JSON format and are loaded in memory in the next cells."
   ]
  },
  {
   "cell_type": "markdown",
   "metadata": {},
   "source": [
    "### Import required packages"
   ]
  },
  {
   "cell_type": "code",
   "execution_count": null,
   "metadata": {},
   "outputs": [],
   "source": [
    "import json\n",
    "from datetime import datetime\n",
    "from typing import Dict, Any\n",
    "\n",
    "from vibe_core.data import (\n",
    "    ADMAgSeasonalFieldInput,\n",
    "    SeasonalFieldInformation,\n",
    "    HarvestInformation,\n",
    "    TillageInformation,\n",
    "    OrganicAmendmentInformation,\n",
    "    FertilizerInformation\n",
    ")"
   ]
  },
  {
   "cell_type": "code",
   "execution_count": null,
   "metadata": {},
   "outputs": [],
   "source": [
    "def seasonal_field_from_dict(data: Dict[str, Any]) -> SeasonalFieldInformation:\n",
    "    harvests = [HarvestInformation(**h) for h in data[\"harvests\"]]\n",
    "    tillages = [TillageInformation(**t) for t in data[\"tillages\"]]\n",
    "    organic_amendments = [OrganicAmendmentInformation(**o) for o in data[\"organic_amendments\"]]\n",
    "    fertilizers = [FertilizerInformation(**f) for f in data[\"fertilizers\"]]\n",
    "\n",
    "    return SeasonalFieldInformation(\n",
    "        id=data[\"id\"],\n",
    "        time_range=(\n",
    "            datetime.fromisoformat(data[\"time_range\"][0]),\n",
    "            datetime.fromisoformat(data[\"time_range\"][1]),\n",
    "        ),\n",
    "        geometry=data[\"geometry\"],\n",
    "        assets=data[\"assets\"],\n",
    "        crop_name=data[\"crop_name\"],\n",
    "        crop_type=data[\"crop_type\"],\n",
    "        properties=data[\"properties\"],\n",
    "        fertilizers=fertilizers,\n",
    "        harvests=harvests,\n",
    "        tillages=tillages,\n",
    "        organic_amendments=organic_amendments,\n",
    "    )\n"
   ]
  },
  {
   "cell_type": "markdown",
   "metadata": {},
   "source": [
    "### Load FarmVibes.AI SeasonFieldInformationObjects objects\n",
    "\n",
    "The next cell loads two lists of seasonal field objects stored in files [`baseline_seasonal_fields.json`](./baseline_seasonal_fields.json) and [`scenario_seasonal_fields.json`](./scenario_seasonal_fields.json) that are required for soil carbon sequestration estimation."
   ]
  },
  {
   "cell_type": "code",
   "execution_count": null,
   "metadata": {},
   "outputs": [],
   "source": [
    "baseline_fields_file = \"./baseline_seasonal_fields.json\"\n",
    "with open(baseline_fields_file) as json_file:\n",
    "    baseline_seasonal_fields = [\n",
    "        seasonal_field_from_dict(seasonal_field_dict)\n",
    "        for seasonal_field_dict in json.load(json_file)\n",
    "    ]\n",
    "\n",
    "scenario_fields_file = \"./scenario_seasonal_fields.json\"\n",
    "with open(scenario_fields_file) as json_file:\n",
    "    scenario_seasonal_fields = [\n",
    "        seasonal_field_from_dict(seasonal_field_dict)\n",
    "        for seasonal_field_dict in json.load(json_file)\n",
    "\n",
    "]"
   ]
  },
  {
   "cell_type": "markdown",
   "metadata": {},
   "source": [
    "## Details about the output of the COMET-Farm API\n",
    "\n",
    "1. All greenhouse gas models in the COMET-Farm platform (Example: DayCent, rice\n",
    "   methane, residue burning, liming, urea fertilizer, etc.) are run against the\n",
    "   baseline scenario and then against each conservation scenario, on each unique\n",
    "   combination of soil map units found within each parcel or point for each model\n",
    "   run.\n",
    "\n",
    "2.\tAggregated Baseline and Scenario results totals for all models are also\n",
    "    returned, named \"Baseline\" and \"Scenario\".\n",
    "\n",
    "An example output follows:\n",
    "\n",
    "```json\n",
    "{\n",
    "    \"@name\": \"scenario: 21/07/2022 10:34:05\",\n",
    "    \"Carbon\": {\n",
    "        \"SoilCarbon\": \"-1679.9\",\n",
    "        \"BiomassBurningCarbon\": \"0\",\n",
    "        \"SoilCarbonStock2000\": \"5511.312\",\n",
    "        \"SoilCarbonStockBegin\": \"5753.6314\",\n",
    "        \"SoilCarbonStockEnd\": \"5759.8725\"\n",
    "    },\n",
    "    \"CO2\": {\n",
    "        \"LimingCO2\": \"0\",\n",
    "        \"UreaFertilizationCO2\": \"8.5587\",\n",
    "        \"DrainedOrganicSoilsCO2\": \"0\"\n",
    "    },\n",
    "    \"N2O\": {\n",
    "        \"SoilN2O\": \"536.1286\",\n",
    "        \"SoilN2O_Direct\": \"451.9349\",\n",
    "        \"SoilN2O_Indirect_Volatilization\": \"84.1937\",\n",
    "        \"SoilN2O_Indirect_Leaching\": \"0\",\n",
    "        \"WetlandRiceCultivationN2O\": \"0\",\n",
    "        \"BiomassBurningN2O\": \"0\",\n",
    "        \"DrainedOrganicSoilsN2O\": \"0\"\n",
    "    },\n",
    "    \"CH4\": {\n",
    "        \"SoilCH4\": \"0\",\n",
    "        \"WetlandRiceCultivationCH4\": \"0\",\n",
    "        \"BiomassBurningCH4\": \"0\"\n",
    "    }\n",
    "}\n",
    "```"
   ]
  },
  {
   "cell_type": "markdown",
   "metadata": {},
   "source": [
    "## Pre-requisites to run this notebook\n",
    "\n",
    "1. Sign up with https://comet-farm.com/. The email registered there will be used when there are error messages, or when a request fails.\n",
    "2. Sign up with https://dashboard.ngrok.com/ to allow the TerraVibes carbon endpoint to be accessible by COMET-Farm API's webhooks.\n",
    "   1. Navigate to \"Getting Started\"/\"Your Auth token\" and copy the Auth token\n",
    "   2. Update copied auth token in variable \"NGROK_AUTH_TOKEN\" in next cell"
   ]
  },
  {
   "cell_type": "code",
   "execution_count": null,
   "metadata": {},
   "outputs": [],
   "source": [
    "COMET_REGISTERED_EMAIL = \"\"\n",
    "NGROK_AUTH_TOKEN = \"\""
   ]
  },
  {
   "cell_type": "code",
   "execution_count": null,
   "metadata": {},
   "outputs": [],
   "source": [
    "import os\n",
    "from datetime import datetime, timezone\n",
    "\n",
    "from vibe_core.datamodel import RunStatus\n",
    "from vibe_core.client import FarmvibesAiClient, get_default_vibe_client, get_local_service_url"
   ]
  },
  {
   "cell_type": "markdown",
   "metadata": {},
   "source": [
    "### On running this workflow\n",
    "\n",
    "*Note*: Running this workflow will expose an endpoint within the FarmVibes.AI worker container publicly. This connection will exist for as long as the workflow is running, and will be closed as soon as the workflow completes.\n",
    "\n",
    "This is a required step for receiving results from the COMET-Farm API. Incorrect ngrok configuration will cause the workflow to fail."
   ]
  },
  {
   "cell_type": "code",
   "execution_count": null,
   "metadata": {},
   "outputs": [],
   "source": [
    "client: FarmvibesAiClient = get_default_vibe_client()\n",
    "WORKFLOW_NAME = \"farm_ai/carbon_local/carbon_whatif\""
   ]
  },
  {
   "cell_type": "code",
   "execution_count": null,
   "metadata": {},
   "outputs": [],
   "source": [
    "client.document_workflow(WORKFLOW_NAME)"
   ]
  },
  {
   "cell_type": "code",
   "execution_count": null,
   "metadata": {},
   "outputs": [],
   "source": [
    "parameters = {\n",
    "  \"ngrok_token\": NGROK_AUTH_TOKEN,\n",
    "  \"comet_support_email\": COMET_REGISTERED_EMAIL\n",
    "}\n",
    "\n",
    "run = client.run(\n",
    "    WORKFLOW_NAME,\n",
    "    name=\"whatif_carbon_seq\",\n",
    "    input_data={\n",
    "        \"baseline_seasonal_fields\": baseline_seasonal_fields,\n",
    "        \"scenario_seasonal_fields\": scenario_seasonal_fields,\n",
    "    },\n",
    "    parameters=parameters\n",
    ")\n",
    "run.monitor()"
   ]
  },
  {
   "cell_type": "markdown",
   "metadata": {},
   "source": [
    "Use the cells below to inspect the running workflow.\n",
    "\n",
    "Depending on the COMET-Farm API resources availability, workflows will take longer to complete.\n",
    "\n",
    "If the workflow does not complete within 2 (two) hours and the workflow is still running, use the COMET-Farm support at appnrel@colostate.edu. On failure, error information will be sent to the email registered with COMET."
   ]
  },
  {
   "cell_type": "code",
   "execution_count": null,
   "metadata": {},
   "outputs": [],
   "source": [
    "carbon_offset_info = run.output[\"carbon_output\"][0]\n",
    "print(f\"Estimated carbon offset is {carbon_offset_info.carbon}\")"
   ]
  },
  {
   "cell_type": "code",
   "execution_count": null,
   "metadata": {},
   "outputs": [],
   "source": []
  }
 ],
 "metadata": {
  "description": "Derive carbon sequestration information with COMET-Farm API for agricultural fields.",
  "disk_space": "",
  "kernelspec": {
   "display_name": "Python 3 (ipykernel)",
   "language": "python",
   "name": "python3"
  },
  "language_info": {
   "codemirror_mode": {
    "name": "ipython",
    "version": 3
   },
   "file_extension": ".py",
   "mimetype": "text/x-python",
   "name": "python",
   "nbconvert_exporter": "python",
   "pygments_lexer": "ipython3",
   "version": "3.8.15"
  },
  "name": "What-if analysis of carbon sequestration",
  "running_time": "",
  "tags": [
   "Sustainability",
   "What-if Analysis"
  ],
  "vscode": {
   "interpreter": {
    "hash": "c33f7eccc2e9a334585066468810d983e0954bfd57ca3c5a434b1adc3986f2e0"
   }
  }
 },
 "nbformat": 4,
 "nbformat_minor": 2
}
