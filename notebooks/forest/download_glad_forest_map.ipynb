{
    "cells": [
        {
            "cell_type": "markdown",
            "id": "3c0a2457",
            "metadata": {},
            "source": [
                "#  Download GLAD Forest Extent Dataset\n",
                "\n",
                "Here's a simple example of how to download  [GLAD forest extent maps](https://glad.umd.edu/dataset/GLCLUC2020) on FarmVibes. Just like the other FarmVibes.AI notebooks, you can refer to [this README file](README.md) to see how to install the required packages"
            ]
        },
        {
            "cell_type": "code",
            "execution_count": 1,
            "id": "d12f59be",
            "metadata": {},
            "outputs": [],
            "source": [
                "from vibe_core.client import get_default_vibe_client"
            ]
        },
        {
            "cell_type": "markdown",
            "id": "10cf50ca",
            "metadata": {},
            "source": [
                "### Create vibe client and document the GLAD download workflow\n",
                "\n",
                "The following cell creates a new FarmVibes.AI client which is able to communicate with the FarmVibes.AI backend. Next, it documents \n",
                "the `glad_forest_extent_download_merge` workflow."
            ]
        },
        {
            "cell_type": "code",
            "execution_count": 2,
            "id": "88bdcacb",
            "metadata": {},
            "outputs": [
                {
                    "data": {
                        "text/html": [
                            "<pre style=\"white-space:pre;overflow-x:auto;line-height:normal;font-family:Menlo,'DejaVu Sans Mono',consolas,'Courier New',monospace\"></pre>\n"
                        ],
                        "text/plain": []
                    },
                    "metadata": {},
                    "output_type": "display_data"
                },
                {
                    "data": {
                        "text/html": [
                            "<pre style=\"white-space:pre;overflow-x:auto;line-height:normal;font-family:Menlo,'DejaVu Sans Mono',consolas,'Courier New',monospace\"><span style=\"color: #008000; text-decoration-color: #008000; font-weight: bold\">Workflow:</span> <span style=\"color: #005fff; text-decoration-color: #005fff; font-weight: bold; text-decoration: underline\">data_ingestion/glad/glad_forest_extent_download_merge</span>\n",
                            "</pre>\n"
                        ],
                        "text/plain": [
                            "\u001b[1;32mWorkflow:\u001b[0m \u001b[1;4;38;5;27mdata_ingestion/glad/glad_forest_extent_download_merge\u001b[0m\n"
                        ]
                    },
                    "metadata": {},
                    "output_type": "display_data"
                },
                {
                    "data": {
                        "text/html": [
                            "<pre style=\"white-space:pre;overflow-x:auto;line-height:normal;font-family:Menlo,'DejaVu Sans Mono',consolas,'Courier New',monospace\">\n",
                            "<span style=\"color: #008000; text-decoration-color: #008000; font-weight: bold\">Description:</span>\n",
                            "</pre>\n"
                        ],
                        "text/plain": [
                            "\n",
                            "\u001b[1;32mDescription:\u001b[0m\n"
                        ]
                    },
                    "metadata": {},
                    "output_type": "display_data"
                },
                {
                    "data": {
                        "text/html": [
                            "<pre style=\"white-space:pre;overflow-x:auto;line-height:normal;font-family:Menlo,'DejaVu Sans Mono',consolas,'Courier New',monospace\">    Downloads Global Land Analysis (GLAD) forest extent data and merges them into a single raster.  \n",
                            "    The workflow lists the GLAD forest products that intersect with the input geometry and time     \n",
                            "    range, and downloads the filtered products. The downloaded products are merged into a single    \n",
                            "    raster and classified. The result tiles have pixel values categorized into two classes - 0      \n",
                            "    (non-forest) and 1 (forest). This workflow uses the same forest definition as the Food and      \n",
                            "    Agriculture Organization of the United Nations (FAO).                                           \n",
                            "</pre>\n"
                        ],
                        "text/plain": [
                            "    Downloads Global Land Analysis (GLAD) forest extent data and merges them into a single raster.  \n",
                            "    The workflow lists the GLAD forest products that intersect with the input geometry and time     \n",
                            "    range, and downloads the filtered products. The downloaded products are merged into a single    \n",
                            "    raster and classified. The result tiles have pixel values categorized into two classes - 0      \n",
                            "    (non-forest) and 1 (forest). This workflow uses the same forest definition as the Food and      \n",
                            "    Agriculture Organization of the United Nations (FAO).                                           \n"
                        ]
                    },
                    "metadata": {},
                    "output_type": "display_data"
                },
                {
                    "data": {
                        "text/html": [
                            "<pre style=\"white-space:pre;overflow-x:auto;line-height:normal;font-family:Menlo,'DejaVu Sans Mono',consolas,'Courier New',monospace\">\n",
                            "<span style=\"color: #008000; text-decoration-color: #008000; font-weight: bold\">Sources:</span>\n",
                            "</pre>\n"
                        ],
                        "text/plain": [
                            "\n",
                            "\u001b[1;32mSources:\u001b[0m\n"
                        ]
                    },
                    "metadata": {},
                    "output_type": "display_data"
                },
                {
                    "data": {
                        "text/html": [
                            "<pre style=\"white-space:pre;overflow-x:auto;line-height:normal;font-family:Menlo,'DejaVu Sans Mono',consolas,'Courier New',monospace\">    - <span style=\"font-weight: bold\">input_item</span> (<span style=\"color: #000080; text-decoration-color: #000080\">vibe_core.data.core_types.DataVibe</span>): Geometry of interest for which to download   \n",
                            "    the GLAD forest extent data.                                                                    \n",
                            "</pre>\n"
                        ],
                        "text/plain": [
                            "    - \u001b[1minput_item\u001b[0m (\u001b[34mvibe_core.data.core_types.DataVibe\u001b[0m): Geometry of interest for which to download   \n",
                            "    the GLAD forest extent data.                                                                    \n"
                        ]
                    },
                    "metadata": {},
                    "output_type": "display_data"
                },
                {
                    "data": {
                        "text/html": [
                            "<pre style=\"white-space:pre;overflow-x:auto;line-height:normal;font-family:Menlo,'DejaVu Sans Mono',consolas,'Courier New',monospace\">\n",
                            "<span style=\"color: #008000; text-decoration-color: #008000; font-weight: bold\">Sinks:</span>\n",
                            "</pre>\n"
                        ],
                        "text/plain": [
                            "\n",
                            "\u001b[1;32mSinks:\u001b[0m\n"
                        ]
                    },
                    "metadata": {},
                    "output_type": "display_data"
                },
                {
                    "data": {
                        "text/html": [
                            "<pre style=\"white-space:pre;overflow-x:auto;line-height:normal;font-family:Menlo,'DejaVu Sans Mono',consolas,'Courier New',monospace\">    - <span style=\"font-weight: bold\">merged_product</span> (<span style=\"color: #000080; text-decoration-color: #000080\">vibe_core.data.rasters.Raster</span>): Merged GLAD forest extent product to geometry \n",
                            "    of interest.                                                                                    \n",
                            "</pre>\n"
                        ],
                        "text/plain": [
                            "    - \u001b[1mmerged_product\u001b[0m (\u001b[34mvibe_core.data.rasters.Raster\u001b[0m): Merged GLAD forest extent product to geometry \n",
                            "    of interest.                                                                                    \n"
                        ]
                    },
                    "metadata": {},
                    "output_type": "display_data"
                },
                {
                    "data": {
                        "text/html": [
                            "<pre style=\"white-space:pre;overflow-x:auto;line-height:normal;font-family:Menlo,'DejaVu Sans Mono',consolas,'Courier New',monospace\">    - <span style=\"font-weight: bold\">categorical_raster</span> (<span style=\"color: #000080; text-decoration-color: #000080\">vibe_core.data.rasters.Raster</span>): Raster with the GLAD forest extent data.  \n",
                            "</pre>\n"
                        ],
                        "text/plain": [
                            "    - \u001b[1mcategorical_raster\u001b[0m (\u001b[34mvibe_core.data.rasters.Raster\u001b[0m): Raster with the GLAD forest extent data.  \n"
                        ]
                    },
                    "metadata": {},
                    "output_type": "display_data"
                },
                {
                    "data": {
                        "text/html": [
                            "<pre style=\"white-space:pre;overflow-x:auto;line-height:normal;font-family:Menlo,'DejaVu Sans Mono',consolas,'Courier New',monospace\">\n",
                            "<span style=\"color: #008000; text-decoration-color: #008000; font-weight: bold\">Tasks:</span>\n",
                            "</pre>\n"
                        ],
                        "text/plain": [
                            "\n",
                            "\u001b[1;32mTasks:\u001b[0m\n"
                        ]
                    },
                    "metadata": {},
                    "output_type": "display_data"
                },
                {
                    "data": {
                        "text/html": [
                            "<pre style=\"white-space:pre;overflow-x:auto;line-height:normal;font-family:Menlo,'DejaVu Sans Mono',consolas,'Courier New',monospace\">    - <span style=\"font-weight: bold\">glad_forest_extent_download</span>: Downloads Global Land Analysis (GLAD) forest extent data.        \n",
                            "</pre>\n"
                        ],
                        "text/plain": [
                            "    - \u001b[1mglad_forest_extent_download\u001b[0m: Downloads Global Land Analysis (GLAD) forest extent data.        \n"
                        ]
                    },
                    "metadata": {},
                    "output_type": "display_data"
                },
                {
                    "data": {
                        "text/html": [
                            "<pre style=\"white-space:pre;overflow-x:auto;line-height:normal;font-family:Menlo,'DejaVu Sans Mono',consolas,'Courier New',monospace\">    - <span style=\"font-weight: bold\">group_rasters_by_time</span>: This op groups rasters in time according to 'criterion'.               \n",
                            "</pre>\n"
                        ],
                        "text/plain": [
                            "    - \u001b[1mgroup_rasters_by_time\u001b[0m: This op groups rasters in time according to 'criterion'.               \n"
                        ]
                    },
                    "metadata": {},
                    "output_type": "display_data"
                },
                {
                    "data": {
                        "text/html": [
                            "<pre style=\"white-space:pre;overflow-x:auto;line-height:normal;font-family:Menlo,'DejaVu Sans Mono',consolas,'Courier New',monospace\">    - <span style=\"font-weight: bold\">merge</span>: Merges rasters in a sequence to a single raster.                                       \n",
                            "</pre>\n"
                        ],
                        "text/plain": [
                            "    - \u001b[1mmerge\u001b[0m: Merges rasters in a sequence to a single raster.                                       \n"
                        ]
                    },
                    "metadata": {},
                    "output_type": "display_data"
                }
            ],
            "source": [
                "client = get_default_vibe_client()\n",
                "\n",
                "WORKFLOW_NAME = \"data_ingestion/glad/glad_forest_extent_download_merge\"\n",
                "client.document_workflow(WORKFLOW_NAME)"
            ]
        },
        {
            "cell_type": "markdown",
            "id": "696f2717",
            "metadata": {},
            "source": [
                "### Create sample geometry and time range\n",
                "\n",
                "Like most FarmVibes.AI workflows, the user input involves a geometry and a time-range. The following cell creates a `shapely` geometry and a time range object to be provided as the workflow input."
            ]
        },
        {
            "cell_type": "code",
            "execution_count": 9,
            "id": "868a2720",
            "metadata": {},
            "outputs": [],
            "source": [
                "from shapely import geometry as shpg\n",
                "from datetime import datetime\n",
                "\n",
                "# GeoJSON data\n",
                "geo_json = {\n",
                "    \"type\": \"Feature\",\n",
                "    \"geometry\": {\n",
                "        \"type\": \"Polygon\",\n",
                "        \"coordinates\": [\n",
                "            [\n",
                "                [-86.773827, 14.575498],\n",
                "                [-86.770459, 14.579301],\n",
                "                [-86.764283, 14.575102],\n",
                "                [-86.769591, 14.567595],\n",
                "                [-86.773827, 14.575497],\n",
                "            ]\n",
                "        ],\n",
                "    },\n",
                "    \"properties\": {},\n",
                "}\n",
                "\n",
                "geom = shpg.shape(geo_json[\"geometry\"])\n",
                "time_range = datetime(2020, 1, 1), datetime(2020, 1, 2)"
            ]
        },
        {
            "cell_type": "markdown",
            "id": "c2604106",
            "metadata": {},
            "source": [
                "### Execute FarmVibes.AI to download the GLAD Forest extent tiles"
            ]
        },
        {
            "cell_type": "code",
            "execution_count": 5,
            "id": "bc8ffe3a",
            "metadata": {},
            "outputs": [
                {
                    "data": {
                        "text/html": [
                            "<pre style=\"white-space:pre;overflow-x:auto;line-height:normal;font-family:Menlo,'DejaVu Sans Mono',consolas,'Courier New',monospace\"></pre>\n"
                        ],
                        "text/plain": []
                    },
                    "metadata": {},
                    "output_type": "display_data"
                },
                {
                    "data": {
                        "application/vnd.jupyter.widget-view+json": {
                            "model_id": "9e1e6f1ff0bd4d87828384a5e88db045",
                            "version_major": 2,
                            "version_minor": 0
                        },
                        "text/plain": [
                            "Output()"
                        ]
                    },
                    "metadata": {},
                    "output_type": "display_data"
                },
                {
                    "data": {
                        "text/html": [
                            "<pre style=\"white-space:pre;overflow-x:auto;line-height:normal;font-family:Menlo,'DejaVu Sans Mono',consolas,'Courier New',monospace\"></pre>\n"
                        ],
                        "text/plain": []
                    },
                    "metadata": {},
                    "output_type": "display_data"
                }
            ],
            "source": [
                "run = client.run(\n",
                "    WORKFLOW_NAME,\n",
                "    \"Download GLAD Forest Map\",\n",
                "    geometry=geom,\n",
                "    time_range=time_range,\n",
                ")\n",
                "run.monitor()"
            ]
        },
        {
            "cell_type": "markdown",
            "id": "57a4c441",
            "metadata": {},
            "source": [
                "### Visualize the Resulting data cropped to the input geometry with some Buffer\n",
                "\n",
                "In the next cell, we use the user-provided geometry to read the output raster and create some buffer around it. Next, we plot the raster image and the user geometry in red."
            ]
        },
        {
            "cell_type": "code",
            "execution_count": 13,
            "id": "4ccd5569",
            "metadata": {},
            "outputs": [
                {
                    "data": {
                        "image/png": "[encoded data removed]",
                        "text/plain": [
                            "<Figure size 640x480 with 1 Axes>"
                        ]
                    },
                    "metadata": {},
                    "output_type": "display_data"
                }
            ],
            "source": [
                "from shapely.geometry import box\n",
                "import matplotlib.pyplot as plt\n",
                "from vibe_core.data import CategoricalRaster, Raster\n",
                "from typing import cast\n",
                "\n",
                "import sys\n",
                "sys.path.append(\"../\")\n",
                "from shared_nb_lib.raster import read_raster\n",
                "\n",
                "\n",
                "# Define your geometry\n",
                "bounding_box = box(*  geom.buffer(0.01).bounds)\n",
                "\n",
                "# Get the bounds of the geometry\n",
                "minx, miny, maxx, maxy = bounding_box.bounds\n",
                "\n",
                "merged_raster = cast(Raster, run.output[\"merged_product\"][0])\n",
                "categories = cast(CategoricalRaster, run.output[\"categorical_raster\"][0]).categories\n",
                "\n",
                "out_image = read_raster(merged_raster, bounding_box)[0]\n",
                "\n",
                "cmap = plt.get_cmap(\"Greens\", len(categories))\n",
                "\n",
                "# Plot the cropped image with latitude and longitude in the axes\n",
                "plt.imshow(out_image[0], cmap=cmap, extent=[minx, maxx, miny, maxy])\n",
                "\n",
                "# Add a legend\n",
                "legend = plt.legend(\n",
                "    handles=[\n",
                "        plt.Rectangle((0, 0), 1, 1, color=cmap(0)),\n",
                "        plt.Rectangle((0, 0), 1, 1, color=cmap(1)),\n",
                "    ],\n",
                "    labels=categories,\n",
                ")\n",
                "\n",
                "# Plot geom on top of the cropped image\n",
                "plt.plot(*geom.exterior.xy, color=\"red\")\n",
                "\n",
                "plt.title(\"GLAD Forest Map\")\n",
                "plt.xlabel(\"Longitude\")\n",
                "plt.ylabel(\"Latitude\")\n",
                "\n",
                "\n",
                "plt.show()"
            ]
        }
    ],
    "metadata": {
        "description": "This notebook downloads the Global Land Analysis (GLAD) forest extent maps.",
        "disk_space": "",
        "kernelspec": {
            "display_name": "Python 3 (ipykernel)",
            "language": "python",
            "name": "python3"
        },
        "language_info": {
            "codemirror_mode": {
                "name": "ipython",
                "version": 3
            },
            "file_extension": ".py",
            "mimetype": "text/x-python",
            "name": "python",
            "nbconvert_exporter": "python",
            "pygments_lexer": "ipython3",
            "version": "3.8.15"
        },
        "name": "Download Glad Forest Map",
        "running_time": "",
        "tags": [
            "Remote Sensing",
            "Deforestation",
            "Sustainability"
        ]
    },
    "nbformat": 4,
    "nbformat_minor": 5
}