{
    "cells": [
        {
            "cell_type": "markdown",
            "metadata": {},
            "source": [
                "# Download ALOS Forest Extent Dataset\n",
                "In this notebook, we download an [ALOS Forest Extent](https://planetarycomputer.microsoft.com/dataset/alos-fnf-mosaic) map using FarmVibes.AI, and visualize it.\n",
                "\n",
                "The ALOS PALSAR/PALSAR-2 Annual Mosaic is a dataset that provides annual observations of forest extent produced by JAXA's ALOS and ALOS-2 satellites. The dataset spans from 2015 to 2020 and covers the whole globe. Each dataset (provided as Rasters) contains the following categories:\n",
                "```txt\n",
                "0 - No data\n",
                "1 - Forest (>90% canopy cover)\n",
                "2 - Forest (10-90% canopy cover)\n",
                "3 - Non-forest\n",
                "4 - Water\n",
                "```\n",
                "\n",
                "The download process involves the following steps:\n",
                "1. Listing of the products that intersect with the user-provided geometry and time range.\n",
                "2. Downloading each raster listed in the previous step.\n",
                "\n",
                "The output is provided as the categorical rasters listed in step 1.\n",
                "\n",
                "NOTE: To install the required packages used in this notebook, see [this README file](../README.md)."
            ]
        },
        {
            "cell_type": "code",
            "execution_count": 1,
            "metadata": {},
            "outputs": [],
            "source": [
                "from vibe_core.client import get_default_vibe_client"
            ]
        },
        {
            "cell_type": "markdown",
            "metadata": {},
            "source": [
                "### Create Vibe client and document the ALOS download workflow\n",
                "\n",
                "Before executing the [workflow](https://microsoft.github.io/farmvibes-ai/docfiles/markdown/WORKFLOWS.html), let's observe its documentation using a FarmVibes.AI python client."
            ]
        },
        {
            "cell_type": "code",
            "execution_count": 2,
            "metadata": {},
            "outputs": [
                {
                    "data": {
                        "text/html": [
                            "<pre style=\"white-space:pre;overflow-x:auto;line-height:normal;font-family:Menlo,'DejaVu Sans Mono',consolas,'Courier New',monospace\"></pre>\n"
                        ],
                        "text/plain": []
                    },
                    "metadata": {},
                    "output_type": "display_data"
                },
                {
                    "data": {
                        "text/html": [
                            "<pre style=\"white-space:pre;overflow-x:auto;line-height:normal;font-family:Menlo,'DejaVu Sans Mono',consolas,'Courier New',monospace\"><span style=\"color: #008000; text-decoration-color: #008000; font-weight: bold\">Workflow:</span> <span style=\"color: #005fff; text-decoration-color: #005fff; font-weight: bold; text-decoration: underline\">data_ingestion/alos/alos_forest_extent_download_merge</span>\n",
                            "</pre>\n"
                        ],
                        "text/plain": [
                            "\u001b[1;32mWorkflow:\u001b[0m \u001b[1;4;38;5;27mdata_ingestion/alos/alos_forest_extent_download_merge\u001b[0m\n"
                        ]
                    },
                    "metadata": {},
                    "output_type": "display_data"
                },
                {
                    "data": {
                        "text/html": [
                            "<pre style=\"white-space:pre;overflow-x:auto;line-height:normal;font-family:Menlo,'DejaVu Sans Mono',consolas,'Courier New',monospace\">\n",
                            "<span style=\"color: #008000; text-decoration-color: #008000; font-weight: bold\">Description:</span>\n",
                            "</pre>\n"
                        ],
                        "text/plain": [
                            "\n",
                            "\u001b[1;32mDescription:\u001b[0m\n"
                        ]
                    },
                    "metadata": {},
                    "output_type": "display_data"
                },
                {
                    "data": {
                        "text/html": [
                            "<pre style=\"white-space:pre;overflow-x:auto;line-height:normal;font-family:Menlo,'DejaVu Sans Mono',consolas,'Courier New',monospace\">    Downloads Advanced Land Observing Satellite (ALOS) forest/non-forest classification map and     \n",
                            "    merges it into a single raster. The workflow lists the ALOS forest/non-forest classification    \n",
                            "    products that intersect with the input geometry and time range (available range 2015-2020), and \n",
                            "    downloads the filtered products. The workflow processes the downloaded products and merge them  \n",
                            "    into a single raster.                                                                           \n",
                            "</pre>\n"
                        ],
                        "text/plain": [
                            "    Downloads Advanced Land Observing Satellite (ALOS) forest/non-forest classification map and     \n",
                            "    merges it into a single raster. The workflow lists the ALOS forest/non-forest classification    \n",
                            "    products that intersect with the input geometry and time range (available range 2015-2020), and \n",
                            "    downloads the filtered products. The workflow processes the downloaded products and merge them  \n",
                            "    into a single raster.                                                                           \n"
                        ]
                    },
                    "metadata": {},
                    "output_type": "display_data"
                },
                {
                    "data": {
                        "text/html": [
                            "<pre style=\"white-space:pre;overflow-x:auto;line-height:normal;font-family:Menlo,'DejaVu Sans Mono',consolas,'Courier New',monospace\">\n",
                            "<span style=\"color: #008000; text-decoration-color: #008000; font-weight: bold\">Sources:</span>\n",
                            "</pre>\n"
                        ],
                        "text/plain": [
                            "\n",
                            "\u001b[1;32mSources:\u001b[0m\n"
                        ]
                    },
                    "metadata": {},
                    "output_type": "display_data"
                },
                {
                    "data": {
                        "text/html": [
                            "<pre style=\"white-space:pre;overflow-x:auto;line-height:normal;font-family:Menlo,'DejaVu Sans Mono',consolas,'Courier New',monospace\">    - <span style=\"font-weight: bold\">user_input</span> (<span style=\"color: #000080; text-decoration-color: #000080\">vibe_core.data.core_types.DataVibe</span>): Geometry of interest for which to download   \n",
                            "    the ALOS forest/non-forest classification map.                                                  \n",
                            "</pre>\n"
                        ],
                        "text/plain": [
                            "    - \u001b[1muser_input\u001b[0m (\u001b[34mvibe_core.data.core_types.DataVibe\u001b[0m): Geometry of interest for which to download   \n",
                            "    the ALOS forest/non-forest classification map.                                                  \n"
                        ]
                    },
                    "metadata": {},
                    "output_type": "display_data"
                },
                {
                    "data": {
                        "text/html": [
                            "<pre style=\"white-space:pre;overflow-x:auto;line-height:normal;font-family:Menlo,'DejaVu Sans Mono',consolas,'Courier New',monospace\">\n",
                            "<span style=\"color: #008000; text-decoration-color: #008000; font-weight: bold\">Sinks:</span>\n",
                            "</pre>\n"
                        ],
                        "text/plain": [
                            "\n",
                            "\u001b[1;32mSinks:\u001b[0m\n"
                        ]
                    },
                    "metadata": {},
                    "output_type": "display_data"
                },
                {
                    "data": {
                        "text/html": [
                            "<pre style=\"white-space:pre;overflow-x:auto;line-height:normal;font-family:Menlo,'DejaVu Sans Mono',consolas,'Courier New',monospace\">    - <span style=\"font-weight: bold\">merged_raster</span> (<span style=\"color: #000080; text-decoration-color: #000080\">vibe_core.data.rasters.Raster</span>): ALOS forest/non-forest classification products \n",
                            "    converted to raster and merged.                                                                 \n",
                            "</pre>\n"
                        ],
                        "text/plain": [
                            "    - \u001b[1mmerged_raster\u001b[0m (\u001b[34mvibe_core.data.rasters.Raster\u001b[0m): ALOS forest/non-forest classification products \n",
                            "    converted to raster and merged.                                                                 \n"
                        ]
                    },
                    "metadata": {},
                    "output_type": "display_data"
                },
                {
                    "data": {
                        "text/html": [
                            "<pre style=\"white-space:pre;overflow-x:auto;line-height:normal;font-family:Menlo,'DejaVu Sans Mono',consolas,'Courier New',monospace\">    - <span style=\"font-weight: bold\">categorical_raster</span> (<span style=\"color: #000080; text-decoration-color: #000080\">vibe_core.data.rasters.CategoricalRaster</span>): ALOS forest/non-forest         \n",
                            "    classification products that intersect with the input geometry &amp; time range.                    \n",
                            "</pre>\n"
                        ],
                        "text/plain": [
                            "    - \u001b[1mcategorical_raster\u001b[0m (\u001b[34mvibe_core.data.rasters.CategoricalRaster\u001b[0m): ALOS forest/non-forest         \n",
                            "    classification products that intersect with the input geometry & time range.                    \n"
                        ]
                    },
                    "metadata": {},
                    "output_type": "display_data"
                },
                {
                    "data": {
                        "text/html": [
                            "<pre style=\"white-space:pre;overflow-x:auto;line-height:normal;font-family:Menlo,'DejaVu Sans Mono',consolas,'Courier New',monospace\">\n",
                            "<span style=\"color: #008000; text-decoration-color: #008000; font-weight: bold\">Parameters:</span>\n",
                            "</pre>\n"
                        ],
                        "text/plain": [
                            "\n",
                            "\u001b[1;32mParameters:\u001b[0m\n"
                        ]
                    },
                    "metadata": {},
                    "output_type": "display_data"
                },
                {
                    "data": {
                        "text/html": [
                            "<pre style=\"white-space:pre;overflow-x:auto;line-height:normal;font-family:Menlo,'DejaVu Sans Mono',consolas,'Courier New',monospace\">    - <span style=\"font-weight: bold\">pc_key</span> (<span style=\"color: #000080; text-decoration-color: #000080\">default: </span>): Planetary computer API key.                                               \n",
                            "</pre>\n"
                        ],
                        "text/plain": [
                            "    - \u001b[1mpc_key\u001b[0m (\u001b[34mdefault: \u001b[0m): Planetary computer API key.                                               \n"
                        ]
                    },
                    "metadata": {},
                    "output_type": "display_data"
                },
                {
                    "data": {
                        "text/html": [
                            "<pre style=\"white-space:pre;overflow-x:auto;line-height:normal;font-family:Menlo,'DejaVu Sans Mono',consolas,'Courier New',monospace\">\n",
                            "<span style=\"color: #008000; text-decoration-color: #008000; font-weight: bold\">Tasks:</span>\n",
                            "</pre>\n"
                        ],
                        "text/plain": [
                            "\n",
                            "\u001b[1;32mTasks:\u001b[0m\n"
                        ]
                    },
                    "metadata": {},
                    "output_type": "display_data"
                },
                {
                    "data": {
                        "text/html": [
                            "<pre style=\"white-space:pre;overflow-x:auto;line-height:normal;font-family:Menlo,'DejaVu Sans Mono',consolas,'Courier New',monospace\">    - <span style=\"font-weight: bold\">alos_forest_extent_download</span>: Downloads Advanced Land Observing Satellite (ALOS)               \n",
                            "    forest/non-forest classification map.                                                           \n",
                            "</pre>\n"
                        ],
                        "text/plain": [
                            "    - \u001b[1malos_forest_extent_download\u001b[0m: Downloads Advanced Land Observing Satellite (ALOS)               \n",
                            "    forest/non-forest classification map.                                                           \n"
                        ]
                    },
                    "metadata": {},
                    "output_type": "display_data"
                },
                {
                    "data": {
                        "text/html": [
                            "<pre style=\"white-space:pre;overflow-x:auto;line-height:normal;font-family:Menlo,'DejaVu Sans Mono',consolas,'Courier New',monospace\">    - <span style=\"font-weight: bold\">group_rasters_by_time</span>: This op groups rasters in time according to 'criterion'.               \n",
                            "</pre>\n"
                        ],
                        "text/plain": [
                            "    - \u001b[1mgroup_rasters_by_time\u001b[0m: This op groups rasters in time according to 'criterion'.               \n"
                        ]
                    },
                    "metadata": {},
                    "output_type": "display_data"
                },
                {
                    "data": {
                        "text/html": [
                            "<pre style=\"white-space:pre;overflow-x:auto;line-height:normal;font-family:Menlo,'DejaVu Sans Mono',consolas,'Courier New',monospace\">    - <span style=\"font-weight: bold\">merge</span>: Merges rasters in a sequence to a single raster.                                       \n",
                            "</pre>\n"
                        ],
                        "text/plain": [
                            "    - \u001b[1mmerge\u001b[0m: Merges rasters in a sequence to a single raster.                                       \n"
                        ]
                    },
                    "metadata": {},
                    "output_type": "display_data"
                }
            ],
            "source": [
                "client = get_default_vibe_client()\n",
                "\n",
                "WORKFLOW_NAME = \"data_ingestion/alos/alos_forest_extent_download_merge\"\n",
                "client.document_workflow(WORKFLOW_NAME)"
            ]
        },
        {
            "cell_type": "markdown",
            "metadata": {},
            "source": [
                "### Define input Geometry and Time Range\n",
                "\n",
                "Next, we are going to define the geometry of interest and the time range that will be considered to download the ALOS products. The workflow will download all the tiles that intersect with the input."
            ]
        },
        {
            "cell_type": "code",
            "execution_count": 3,
            "metadata": {},
            "outputs": [],
            "source": [
                "from shapely import geometry as shpg\n",
                "from datetime import datetime\n",
                "\n",
                "# GeoJSON data\n",
                "geo_json = {\n",
                "    \"type\": \"Feature\",\n",
                "    \"geometry\": {\n",
                "        \"type\": \"Polygon\",\n",
                "        \"coordinates\": [\n",
                "            [\n",
                "                [-86.773827, 14.575498],\n",
                "                [-86.770459, 14.579300],\n",
                "                [-86.764283, 14.575102],\n",
                "                [-86.769591, 14.567595],\n",
                "                [-86.773827, 14.575498],\n",
                "            ]\n",
                "        ],\n",
                "    },\n",
                "    \"properties\": {},\n",
                "}\n",
                "\n",
                "geom = shpg.shape(geo_json[\"geometry\"])\n",
                "time_range = (datetime(2020, 1, 1), datetime(2020, 1, 2))"
            ]
        },
        {
            "cell_type": "markdown",
            "metadata": {},
            "source": [
                "### Run FarmVibes.AI Workflow\n",
                "\n",
                "In this step, the client requests the workflow execution on the FarmVines Cluster. Note that we provide the following inputs to the client.run call:\n",
                "\n",
                "1. Workflow name. Users can list the existing workflows by calling the command `client.list_workflows()`. They also can refer to the existing [workflow list](https://microsoft.github.io/farmvibes-ai/docfiles/markdown/WORKFLOW_LIST.html).\n",
                "2. Workflow execution name: The name we give for this particular workflow execution. \n",
                "3. Geometry of interest.\n",
                "4. Time range.\n",
                "5. Parameters list. Check the [workflow](https://microsoft.github.io/farmvibes-ai/docfiles/markdown/WORKFLOWS.html) documentation page to see how parameters are provided. We used the `pc_key` parameter, which corresponds to the Planetary Computer API key, that is useful to download planetary computer imagery.\n",
                "\n",
                "Please refer to the [SECRETS documentation](https://microsoft.github.io/farmvibes-ai/docfiles/markdown/SECRETS.html) to learn how a secret can be added to the FarmVibes.AI cluster."
            ]
        },
        {
            "cell_type": "code",
            "execution_count": 4,
            "metadata": {},
            "outputs": [
                {
                    "data": {
                        "text/html": [
                            "<pre style=\"white-space:pre;overflow-x:auto;line-height:normal;font-family:Menlo,'DejaVu Sans Mono',consolas,'Courier New',monospace\"></pre>\n"
                        ],
                        "text/plain": []
                    },
                    "metadata": {},
                    "output_type": "display_data"
                },
                {
                    "data": {
                        "application/vnd.jupyter.widget-view+json": {
                            "model_id": "188eac6094214bf7aa3adc3e2f204972",
                            "version_major": 2,
                            "version_minor": 0
                        },
                        "text/plain": [
                            "Output()"
                        ]
                    },
                    "metadata": {},
                    "output_type": "display_data"
                },
                {
                    "data": {
                        "text/html": [
                            "<pre style=\"white-space:pre;overflow-x:auto;line-height:normal;font-family:Menlo,'DejaVu Sans Mono',consolas,'Courier New',monospace\"></pre>\n"
                        ],
                        "text/plain": []
                    },
                    "metadata": {},
                    "output_type": "display_data"
                }
            ],
            "source": [
                "run = client.run(\n",
                "    WORKFLOW_NAME,\n",
                "    \"Download ALOS Forest Map\",\n",
                "    geometry=geom,\n",
                "    time_range=time_range,\n",
                "    parameters={\"pc_key\": \"@SECRET(eywa-secrets, pc-sub-key)\"},\n",
                ")\n",
                "run.monitor()"
            ]
        },
        {
            "cell_type": "markdown",
            "metadata": {},
            "source": [
                "### Read the output data\n",
                "\n",
                "In the next cell, we adopt the user-provided geometry to read the output raster and create some buffer around it."
            ]
        },
        {
            "cell_type": "code",
            "execution_count": 5,
            "metadata": {},
            "outputs": [],
            "source": [
                "# Add shared notebook library to path\n",
                "import sys\n",
                "from vibe_core.data import CategoricalRaster, Raster\n",
                "from shapely.geometry import box\n",
                "from typing import cast\n",
                "\n",
                "sys.path.append(\"../\")\n",
                "from shared_nb_lib.raster import read_raster\n",
                "from shared_nb_lib.plot import plot_categorical_map\n",
                "\n",
                "# Define your geometry\n",
                "bounding_box = box(*geom.buffer(0.01).bounds)\n",
                "\n",
                "# Get the bounds of the geometry\n",
                "minx, miny, maxx, maxy = bounding_box.bounds\n",
                "\n",
                "merged_raster = cast(Raster, run.output[\"merged_raster\"][0])\n",
                "categories = cast(CategoricalRaster, run.output[\"categorical_raster\"][0]).categories\n",
                "\n",
                "out_image = read_raster(merged_raster, bounding_box)[0]"
            ]
        },
        {
            "cell_type": "markdown",
            "metadata": {},
            "source": [
                "### Plot the result map\n",
                "\n",
                "Finally, we plot the raster image with the existing categories and the user-provided geometry (red area within the plot)."
            ]
        },
        {
            "cell_type": "code",
            "execution_count": 6,
            "metadata": {},
            "outputs": [
                {
                    "data": {
                        "image/png": "[encoded data removed]",
                        "text/plain": [
                            "<Figure size 640x480 with 2 Axes>"
                        ]
                    },
                    "metadata": {},
                    "output_type": "display_data"
                }
            ],
            "source": [
                "color_dict = {\n",
                "    0: \"black\",\n",
                "    1: \"darkgreen\",\n",
                "    2: \"lightgreen\",\n",
                "    3: \"gray\",\n",
                "    4: \"blue\",\n",
                "}\n",
                "\n",
                "plot_categorical_map(\n",
                "    out_image[0],\n",
                "    color_dict,\n",
                "    categories,\n",
                "    geom.exterior.xy,\n",
                "    extent=[minx, maxx, miny, maxy],\n",
                "    title=\"ALOS Forest Map\",\n",
                ")"
            ]
        }
    ],
    "metadata": {
        "description": "This notebook downloads the ALOS (Advanced Land Observing Satellite) forest extent maps",
        "disk_space": "",
        "kernelspec": {
            "display_name": "Python 3 (ipykernel)",
            "language": "python",
            "name": "python3"
        },
        "language_info": {
            "codemirror_mode": {
                "name": "ipython",
                "version": 3
            },
            "file_extension": ".py",
            "mimetype": "text/x-python",
            "name": "python",
            "nbconvert_exporter": "python",
            "pygments_lexer": "ipython3",
            "version": "3.8.15"
        },
        "name": "Download ALOS forest extent maps",
        "running_time": "",
        "tags": [
            "Remote Sensing",
            "Deforestation",
            "Sustainability"
        ]
    },
    "nbformat": 4,
    "nbformat_minor": 2
}