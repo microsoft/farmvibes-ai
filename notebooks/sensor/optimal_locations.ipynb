{
    "cells": [
        {
            "cell_type": "markdown",
            "metadata": {},
            "source": [
                "# FarmVibes.AI optimal locations identification\n",
                "This notebook demonstrates identification of optimal locations by learning clusters in sentinel indices (EVI or NDMI or NDWI or combination of indices etc.,). The optimal locations identified can be used to collect soil properties by installing sensors  or performing other manual operations at the locations identified. The selection of sentinel indices as input to perform clustering operation depends on requirement, some examples on selection of indices provided in below sections. The soil properties collected at these locations can be used to generate the nutrients heatmap for the farm land etc. The example of generating nutrients heatmap for \"C\", \"N\", \"P\" and \"pH\" demonstrated using the soil properties collected through sensor installed at locations identified in notebook [heatmaps/nutrients_using_neighbors.ipynb](../heatmaps/nutrients_using_neighbors.ipynb).\n",
                "\n",
                "This workflow ingests user data into the cluster. The reference to the data should be accessible via the internet and, for this demo, we assume it is saved in a remote location such as Azure blob storage.\n",
                "\n",
                "### Micromamba environment setup\n",
                "We provide a micromamba environment with the package requirements to run this notebook. If you do not have micromamba installed, please follow the instructions from [micromamba installation guide](https://mamba.readthedocs.io/en/latest/installation/micromamba-installation.html).\n",
                "\n",
                "The micromamba environment can be created and activated using the commands below:\n",
                "```bash\n",
                "$ micromamba env create -f ./optimal_sample_collection.yaml\n",
                "$ micromamba activate optimal_sample_collection\n",
                "```"
            ]
        },
        {
            "cell_type": "markdown",
            "metadata": {},
            "source": [
                "### Useful libraries\n",
                "\n",
                "Below are the main libraries used for this example and other useful links:\n",
                "- [NumPy](https://github.com/numpy/numpy) is a python package that provides powerful N-dimensional array object, broadcasting functions and useful linear algebra, Fourier transform, and random number capabilities.\n",
                "- [pandas](https://github.com/scikit-learn/scikit-learn) is a Python package that provides fast, flexible, and expressive data structures designed to make working with \"relational\" or \"labeled\" data both easy and intuitive.\n",
                "- [rasterio](https://github.com/rasterio/rasterio) is a library for reading and writing geospatial raster data. It is used on torchgeo and rioxarray. It is a good option when reading/writing GeoTIFFs.\n",
                "- [Scikit-Learn](https://github.com/scikit-learn/scikit-learn) is a Python package for machine learning built on top of SciPy. It Simple and efficient tools for predictive data analysis.\n",
                "- [Shapely](https://github.com/shapely/shapely) is a library for manipulating geometric shapes."
            ]
        },
        {
            "cell_type": "markdown",
            "metadata": {},
            "source": [
                "### Imports & API Client"
            ]
        },
        {
            "cell_type": "code",
            "execution_count": 1,
            "metadata": {},
            "outputs": [],
            "source": [
                "from datetime import datetime\n",
                "from vibe_core.client import get_default_vibe_client\n",
                "import geopandas as gpd\n",
                "from matplotlib import pyplot as plt\n",
                "from notebook_lib import utils"
            ]
        },
        {
            "cell_type": "markdown",
            "metadata": {},
            "source": [
                "## Workflow Inputs\n",
                "The main workflow inputs are as follows:\n",
                "- [farm_boundary](https://geojson.org/): Boundary of the field in geojson format. It is used to clip the satellite imagery to an area of interest and run the workflow. A sample field boundary is provided in the file `./sensor_farm_boundary.geojson`.\n",
                "\n",
                "- imagery: Satellite imagery with multispectral bands to create raster indices. In this demo we are using Sentinel-2 imagery, which can be ingested by running a FarmVibes.AI workflow or a user provided url.\n",
                "\n",
                "*Note - The provided sample data (sensor_farm_boundary.geojson, sensor_samples.geojson) is intended to help the user understand how to run the workflow and contains mock data.*"
            ]
        },
        {
            "cell_type": "code",
            "execution_count": 2,
            "metadata": {},
            "outputs": [],
            "source": [
                "FARM_BOUNDARY = \"./sensor_farm_boundary.geojson\""
            ]
        },
        {
            "cell_type": "markdown",
            "metadata": {},
            "source": [
                "## Satellite imagery\n",
                "Below we outline two methods for getting a raster that contains the satellite imagery used to generate the heatmap. Run the appropriate section below to ingest the data according to your preference.\n",
                "\n",
                "### 1. Use the FarmVibes.AI workfow\n",
                "FarmVibes.AI has several workflows that will ingest and preprocess data from many sources. Below we demonstrate how to obtain Sentinel-2 imagery for a desired location (our field boundary) and time range (some time around when the field samples were collected)."
            ]
        },
        {
            "cell_type": "code",
            "execution_count": 3,
            "metadata": {},
            "outputs": [],
            "source": [
                "START_DATE=datetime(day=30, month=6, year=2022)\n",
                "END_DATE=datetime(day=2, month=7, year=2022)"
            ]
        },
        {
            "cell_type": "code",
            "execution_count": 4,
            "metadata": {},
            "outputs": [
                {
                    "data": {
                        "text/html": [
                            "<pre style=\"white-space:pre;overflow-x:auto;line-height:normal;font-family:Menlo,'DejaVu Sans Mono',consolas,'Courier New',monospace\"></pre>\n"
                        ],
                        "text/plain": []
                    },
                    "metadata": {},
                    "output_type": "display_data"
                },
                {
                    "data": {
                        "text/html": [
                            "<pre style=\"white-space:pre;overflow-x:auto;line-height:normal;font-family:Menlo,'DejaVu Sans Mono',consolas,'Courier New',monospace\"></pre>\n"
                        ],
                        "text/plain": []
                    },
                    "metadata": {},
                    "output_type": "display_data"
                }
            ],
            "source": [
                "# sr_id: EPSG code for the coordinate system (CRS) used in the GeoJSON file\n",
                "# containing the field boundary\n",
                "# EPSG:4326 is the WGS-84 CRS (lat-lon) usually used in GeoJSON files\n",
                "# Change this if your samples are provided in a different (projected) CRS\n",
                "imagery = utils.download_sentinel_raster(\n",
                "    farm_boundary=FARM_BOUNDARY,\n",
                "    time_range=(START_DATE, END_DATE),\n",
                "    sr_id=4326\n",
                ")"
            ]
        },
        {
            "cell_type": "markdown",
            "metadata": {},
            "source": [
                "### 2. Ingest user-provided TIFF\n",
                "Run this if you prefer ingesting your own raster into the cluster that already exist in azure storage account. The raster ingesting should have required bands to compute index in next section. \n",
                "\n",
                "For example, if you're ingesting the Sentinel Raster then bands should be mapped as below. It's the format supported by [Spyndex library](https://github.com/awesome-spectral-indices/awesome-spectral-indices#expressions)\n",
                "\n",
                "{'B01': 0, 'B02': 1, 'B03': 2, 'B04': 3, 'B05': 4, 'B06': 5, 'B07': 6, 'B08': 7, 'B8A': 8, 'B09': 9, 'B11': 10, 'B12': 11}\n",
                "\n",
                "If you are ingesting custom multi spectral raster image that has three bands representing red, blue and nir then bands should be mapped as below.\n",
                "\n",
                "{\"R\": 0, \"B\": 1, \"N\": 2}\n",
                "\n",
                "Note: To map the bands for Sentinel, Landsat etc., look at respective columns in [Spyndex library documentation](https://github.com/awesome-spectral-indices/awesome-spectral-indices#expressions), if column not found then map the bands based on column \"Standard\"\n"
            ]
        },
        {
            "cell_type": "code",
            "execution_count": null,
            "metadata": {},
            "outputs": [],
            "source": [
                "# Url the cluster will use to access the file, e.g., a signed blob URL\n",
                "IMAGERY_URL = \"<SAS URL>\""
            ]
        },
        {
            "cell_type": "code",
            "execution_count": null,
            "metadata": {},
            "outputs": [],
            "source": [
                "# Ingest the data into the cluster. A `Raster` is returned\n",
                "imagery = utils.get_raster_from_external(imagery_url=IMAGERY_URL, farm_boundary=FARM_BOUNDARY)\n",
                "# Set the bands so that we know which band is what when computing indices\n",
                "# These are the band names for an L2A Sentinel-2 raster\n",
                "imagery.bands = {'B01': 0, 'B02': 1, 'B03': 2, 'B04': 3, 'B05': 4, 'B06': 5, 'B07': 6, 'B08': 7, 'B8A': 8, 'B09': 9, 'B11': 10, 'B12': 11}"
            ]
        },
        {
            "cell_type": "markdown",
            "metadata": {},
            "source": [
                "### Identify optimal locations"
            ]
        },
        {
            "cell_type": "code",
            "execution_count": 7,
            "metadata": {},
            "outputs": [
                {
                    "data": {
                        "text/html": [
                            "<pre style=\"white-space:pre;overflow-x:auto;line-height:normal;font-family:Menlo,'DejaVu Sans Mono',consolas,'Courier New',monospace\"></pre>\n"
                        ],
                        "text/plain": []
                    },
                    "metadata": {},
                    "output_type": "display_data"
                },
                {
                    "data": {
                        "text/html": [
                            "<pre style=\"white-space:pre;overflow-x:auto;line-height:normal;font-family:Menlo,'DejaVu Sans Mono',consolas,'Courier New',monospace\"><span style=\"color: #008000; text-decoration-color: #008000; font-weight: bold\">Workflow:</span> <span style=\"color: #005fff; text-decoration-color: #005fff; font-weight: bold; text-decoration: underline\">farm_ai/sensor/optimal_locations</span>\n",
                            "</pre>\n"
                        ],
                        "text/plain": [
                            "\u001b[1;32mWorkflow:\u001b[0m \u001b[1;4;38;5;27mfarm_ai/sensor/optimal_locations\u001b[0m\n"
                        ]
                    },
                    "metadata": {},
                    "output_type": "display_data"
                },
                {
                    "data": {
                        "text/html": [
                            "<pre style=\"white-space:pre;overflow-x:auto;line-height:normal;font-family:Menlo,'DejaVu Sans Mono',consolas,'Courier New',monospace\">\n",
                            "<span style=\"color: #008000; text-decoration-color: #008000; font-weight: bold\">Description:</span>\n",
                            "</pre>\n"
                        ],
                        "text/plain": [
                            "\n",
                            "\u001b[1;32mDescription:\u001b[0m\n"
                        ]
                    },
                    "metadata": {},
                    "output_type": "display_data"
                },
                {
                    "data": {
                        "text/html": [
                            "<pre style=\"white-space:pre;overflow-x:auto;line-height:normal;font-family:Menlo,'DejaVu Sans Mono',consolas,'Courier New',monospace\">    Identify optimal locations by performing clustering operation using Gaussian Mixture model on   \n",
                            "    computed raster indices. The clustering operation separate computed raster indices values into n\n",
                            "    groups of equal variance, each group assigned a location and that location is considered as a   \n",
                            "    optimal locations. The sample locations generated provide information of latitude and longitude.\n",
                            "    The optimal location can be utilized to install sensors and collect                             \n",
                            "    soil information. The index parameter used as input to run the computed index workflow          \n",
                            "    internally using the input raster submitted. The selection of index parameter varies            \n",
                            "    based on requirement. The workflow supports all the indices supported by spyndex library        \n",
                            "    (https://github.com/awesome-spectral-indices/awesome-spectral-indices#vegetation).              \n",
                            "    Below provided various indices that are used to identify optimal locations and generated a      \n",
                            "    nutrients heatmap.                                                                              \n",
                            "    Enhanced Vegetation Index (EVI) - EVI is designed to minimize the influence of soil brightness  \n",
                            "    and atmospheric conditions on vegetation assessment. It is calculated                           \n",
                            "    using the red, blue, and near-infrared (NIR) bands. EVI is particularly useful for monitoring   \n",
                            "    vegetation in regions with high canopy cover and in areas where atmospheric                     \n",
                            "    interference is significant. This indices also used in notebook                                 \n",
                            "    (notebooks/heatmaps/nutrients_using_neighbors.ipynb) that derive nutrient information for       \n",
                            "    Carbon, Nitrogen,                                                                               \n",
                            "    and Phosphorus.                                                                                 \n",
                            "    Photochemical Reflectance Index (PRI) - It is a vegetation index used to assess the light-use   \n",
                            "    efficiency of plants in terms of photosynthesis and their response to                           \n",
                            "    changes in light conditions, particularly variations in the blue and red parts of the           \n",
                            "    electromagnetic spectrum. This index also used in notebook                                      \n",
                            "    (notebooks/heatmaps/nutrients_using_neighbors.ipynb) that derive nutrient information for pH.   \n",
                            "    The number of sample locations generated depend on input parameters submitted. Tune n_clusters  \n",
                            "    and sieve_size parameters to generate more or less location data points.                        \n",
                            "    For a 100 acre farm,                                                                            \n",
                            "    - 20 sample locations are generated using n_clusters=5 and sieve_size=10.                       \n",
                            "    - 30 sample locations are generated using n_clusters=5 and sieve_size=20.                       \n",
                            "    - 80 sample locations are generated using n_clusters=5 and sieve_size=5.                        \n",
                            "    - 130 sample locations are generated using n_clusters=8 and sieve_size=5.                       \n",
                            "</pre>\n"
                        ],
                        "text/plain": [
                            "    Identify optimal locations by performing clustering operation using Gaussian Mixture model on   \n",
                            "    computed raster indices. The clustering operation separate computed raster indices values into n\n",
                            "    groups of equal variance, each group assigned a location and that location is considered as a   \n",
                            "    optimal locations. The sample locations generated provide information of latitude and longitude.\n",
                            "    The optimal location can be utilized to install sensors and collect                             \n",
                            "    soil information. The index parameter used as input to run the computed index workflow          \n",
                            "    internally using the input raster submitted. The selection of index parameter varies            \n",
                            "    based on requirement. The workflow supports all the indices supported by spyndex library        \n",
                            "    (https://github.com/awesome-spectral-indices/awesome-spectral-indices#vegetation).              \n",
                            "    Below provided various indices that are used to identify optimal locations and generated a      \n",
                            "    nutrients heatmap.                                                                              \n",
                            "    Enhanced Vegetation Index (EVI) - EVI is designed to minimize the influence of soil brightness  \n",
                            "    and atmospheric conditions on vegetation assessment. It is calculated                           \n",
                            "    using the red, blue, and near-infrared (NIR) bands. EVI is particularly useful for monitoring   \n",
                            "    vegetation in regions with high canopy cover and in areas where atmospheric                     \n",
                            "    interference is significant. This indices also used in notebook                                 \n",
                            "    (notebooks/heatmaps/nutrients_using_neighbors.ipynb) that derive nutrient information for       \n",
                            "    Carbon, Nitrogen,                                                                               \n",
                            "    and Phosphorus.                                                                                 \n",
                            "    Photochemical Reflectance Index (PRI) - It is a vegetation index used to assess the light-use   \n",
                            "    efficiency of plants in terms of photosynthesis and their response to                           \n",
                            "    changes in light conditions, particularly variations in the blue and red parts of the           \n",
                            "    electromagnetic spectrum. This index also used in notebook                                      \n",
                            "    (notebooks/heatmaps/nutrients_using_neighbors.ipynb) that derive nutrient information for pH.   \n",
                            "    The number of sample locations generated depend on input parameters submitted. Tune n_clusters  \n",
                            "    and sieve_size parameters to generate more or less location data points.                        \n",
                            "    For a 100 acre farm,                                                                            \n",
                            "    - 20 sample locations are generated using n_clusters=5 and sieve_size=10.                       \n",
                            "    - 30 sample locations are generated using n_clusters=5 and sieve_size=20.                       \n",
                            "    - 80 sample locations are generated using n_clusters=5 and sieve_size=5.                        \n",
                            "    - 130 sample locations are generated using n_clusters=8 and sieve_size=5.                       \n"
                        ]
                    },
                    "metadata": {},
                    "output_type": "display_data"
                },
                {
                    "data": {
                        "text/html": [
                            "<pre style=\"white-space:pre;overflow-x:auto;line-height:normal;font-family:Menlo,'DejaVu Sans Mono',consolas,'Courier New',monospace\">\n",
                            "<span style=\"color: #008000; text-decoration-color: #008000; font-weight: bold\">Sources:</span>\n",
                            "</pre>\n"
                        ],
                        "text/plain": [
                            "\n",
                            "\u001b[1;32mSources:\u001b[0m\n"
                        ]
                    },
                    "metadata": {},
                    "output_type": "display_data"
                },
                {
                    "data": {
                        "text/html": [
                            "<pre style=\"white-space:pre;overflow-x:auto;line-height:normal;font-family:Menlo,'DejaVu Sans Mono',consolas,'Courier New',monospace\">    - <span style=\"font-weight: bold\">user_input</span> (<span style=\"color: #000080; text-decoration-color: #000080\">vibe_core.data.core_types.DataVibe</span>): DataVibe with time range information.        \n",
                            "</pre>\n"
                        ],
                        "text/plain": [
                            "    - \u001b[1muser_input\u001b[0m (\u001b[34mvibe_core.data.core_types.DataVibe\u001b[0m): DataVibe with time range information.        \n"
                        ]
                    },
                    "metadata": {},
                    "output_type": "display_data"
                },
                {
                    "data": {
                        "text/html": [
                            "<pre style=\"white-space:pre;overflow-x:auto;line-height:normal;font-family:Menlo,'DejaVu Sans Mono',consolas,'Courier New',monospace\">    - <span style=\"font-weight: bold\">input_raster</span> (<span style=\"color: #000080; text-decoration-color: #000080\">vibe_core.data.rasters.Raster</span>): List of computed raster indices generated using \n",
                            "    the sentinel 2 satellite imagery.                                                               \n",
                            "</pre>\n"
                        ],
                        "text/plain": [
                            "    - \u001b[1minput_raster\u001b[0m (\u001b[34mvibe_core.data.rasters.Raster\u001b[0m): List of computed raster indices generated using \n",
                            "    the sentinel 2 satellite imagery.                                                               \n"
                        ]
                    },
                    "metadata": {},
                    "output_type": "display_data"
                },
                {
                    "data": {
                        "text/html": [
                            "<pre style=\"white-space:pre;overflow-x:auto;line-height:normal;font-family:Menlo,'DejaVu Sans Mono',consolas,'Courier New',monospace\">\n",
                            "<span style=\"color: #008000; text-decoration-color: #008000; font-weight: bold\">Sinks:</span>\n",
                            "</pre>\n"
                        ],
                        "text/plain": [
                            "\n",
                            "\u001b[1;32mSinks:\u001b[0m\n"
                        ]
                    },
                    "metadata": {},
                    "output_type": "display_data"
                },
                {
                    "data": {
                        "text/html": [
                            "<pre style=\"white-space:pre;overflow-x:auto;line-height:normal;font-family:Menlo,'DejaVu Sans Mono',consolas,'Courier New',monospace\">    - <span style=\"font-weight: bold\">result</span> (<span style=\"color: #000080; text-decoration-color: #000080\">vibe_core.data.core_types.DataVibe</span>): Zip file containing sample locations in a shape  \n",
                            "    file (.shp) format.                                                                             \n",
                            "</pre>\n"
                        ],
                        "text/plain": [
                            "    - \u001b[1mresult\u001b[0m (\u001b[34mvibe_core.data.core_types.DataVibe\u001b[0m): Zip file containing sample locations in a shape  \n",
                            "    file (.shp) format.                                                                             \n"
                        ]
                    },
                    "metadata": {},
                    "output_type": "display_data"
                },
                {
                    "data": {
                        "text/html": [
                            "<pre style=\"white-space:pre;overflow-x:auto;line-height:normal;font-family:Menlo,'DejaVu Sans Mono',consolas,'Courier New',monospace\">\n",
                            "<span style=\"color: #008000; text-decoration-color: #008000; font-weight: bold\">Parameters:</span>\n",
                            "</pre>\n"
                        ],
                        "text/plain": [
                            "\n",
                            "\u001b[1;32mParameters:\u001b[0m\n"
                        ]
                    },
                    "metadata": {},
                    "output_type": "display_data"
                },
                {
                    "data": {
                        "text/html": [
                            "<pre style=\"white-space:pre;overflow-x:auto;line-height:normal;font-family:Menlo,'DejaVu Sans Mono',consolas,'Courier New',monospace\">    - <span style=\"font-weight: bold\">n_clusters</span> (<span style=\"color: #000080; text-decoration-color: #000080\">default: 1</span>): number of clusters used to generate sample locations.                \n",
                            "</pre>\n"
                        ],
                        "text/plain": [
                            "    - \u001b[1mn_clusters\u001b[0m (\u001b[34mdefault: 1\u001b[0m): number of clusters used to generate sample locations.                \n"
                        ]
                    },
                    "metadata": {},
                    "output_type": "display_data"
                },
                {
                    "data": {
                        "text/html": [
                            "<pre style=\"white-space:pre;overflow-x:auto;line-height:normal;font-family:Menlo,'DejaVu Sans Mono',consolas,'Courier New',monospace\">    - <span style=\"font-weight: bold\">sieve_size</span> (<span style=\"color: #000080; text-decoration-color: #000080\">default: 1</span>): Group the nearest neighbor pixel values.                             \n",
                            "</pre>\n"
                        ],
                        "text/plain": [
                            "    - \u001b[1msieve_size\u001b[0m (\u001b[34mdefault: 1\u001b[0m): Group the nearest neighbor pixel values.                             \n"
                        ]
                    },
                    "metadata": {},
                    "output_type": "display_data"
                },
                {
                    "data": {
                        "text/html": [
                            "<pre style=\"white-space:pre;overflow-x:auto;line-height:normal;font-family:Menlo,'DejaVu Sans Mono',consolas,'Courier New',monospace\">    - <span style=\"font-weight: bold\">index</span> (<span style=\"color: #000080; text-decoration-color: #000080\">default: ndvi</span>): Index used to generate sample locations.                               \n",
                            "</pre>\n"
                        ],
                        "text/plain": [
                            "    - \u001b[1mindex\u001b[0m (\u001b[34mdefault: ndvi\u001b[0m): Index used to generate sample locations.                               \n"
                        ]
                    },
                    "metadata": {},
                    "output_type": "display_data"
                },
                {
                    "data": {
                        "text/html": [
                            "<pre style=\"white-space:pre;overflow-x:auto;line-height:normal;font-family:Menlo,'DejaVu Sans Mono',consolas,'Courier New',monospace\">\n",
                            "<span style=\"color: #008000; text-decoration-color: #008000; font-weight: bold\">Tasks:</span>\n",
                            "</pre>\n"
                        ],
                        "text/plain": [
                            "\n",
                            "\u001b[1;32mTasks:\u001b[0m\n"
                        ]
                    },
                    "metadata": {},
                    "output_type": "display_data"
                },
                {
                    "data": {
                        "text/html": [
                            "<pre style=\"white-space:pre;overflow-x:auto;line-height:normal;font-family:Menlo,'DejaVu Sans Mono',consolas,'Courier New',monospace\">    - <span style=\"font-weight: bold\">compute_index</span>: Computes an index from the bands of an input raster.                           \n",
                            "</pre>\n"
                        ],
                        "text/plain": [
                            "    - \u001b[1mcompute_index\u001b[0m: Computes an index from the bands of an input raster.                           \n"
                        ]
                    },
                    "metadata": {},
                    "output_type": "display_data"
                },
                {
                    "data": {
                        "text/html": [
                            "<pre style=\"white-space:pre;overflow-x:auto;line-height:normal;font-family:Menlo,'DejaVu Sans Mono',consolas,'Courier New',monospace\">    - <span style=\"font-weight: bold\">find_samples</span>: Find minimum soil sample locations by grouping indices values that are derived  \n",
                            "    from satellite or spaceEye imagery bands.                                                       \n",
                            "</pre>\n"
                        ],
                        "text/plain": [
                            "    - \u001b[1mfind_samples\u001b[0m: Find minimum soil sample locations by grouping indices values that are derived  \n",
                            "    from satellite or spaceEye imagery bands.                                                       \n"
                        ]
                    },
                    "metadata": {},
                    "output_type": "display_data"
                }
            ],
            "source": [
                "client = get_default_vibe_client()\n",
                "client.document_workflow(\"farm_ai/sensor/optimal_locations\")"
            ]
        },
        {
            "cell_type": "markdown",
            "metadata": {},
            "source": [
                "### Identifying n locations\n",
                "Identifying n locations is important, it reduce the cost of the maintenance on choosing the optimal location. Creating the n locations varies based on number of clusters (n_clusters) to be identified in the input data and grouping the nearest neighbors (sieve_size).\n",
                "\n",
                "Based on research conducted, identified below parameter combination provide n locations for different indices. These n locations identified for a 100 acre farm. Combinations may also vary based on soil properties, hence try altering parameter values based on your needs.\n",
                "\n",
                "<table>\n",
                "<tr><td>Index</td><td>Parameters</td><td>~ n samples</td></tr>\n",
                "<tr><td>evi</td><td>n_clusters=5, sieve_size=25</td><td>20</td></tr>\n",
                "<tr><td>evi</td><td>n_clusters=5, sieve_size=20</td><td>30</td></tr>\n",
                "<tr><td>evi</td><td>n_clusters=5, sieve_size=5</td><td>80</td></tr>\n",
                "<tr><td>evi</td><td>n_clusters=8, sieve_size=5</td><td>130</td></tr>\n",
                "</table>\n"
            ]
        },
        {
            "cell_type": "code",
            "execution_count": 6,
            "metadata": {},
            "outputs": [
                {
                    "data": {
                        "text/html": [
                            "<pre style=\"white-space:pre;overflow-x:auto;line-height:normal;font-family:Menlo,'DejaVu Sans Mono',consolas,'Courier New',monospace\"></pre>\n"
                        ],
                        "text/plain": []
                    },
                    "metadata": {},
                    "output_type": "display_data"
                },
                {
                    "data": {
                        "text/html": [
                            "<pre style=\"white-space:pre;overflow-x:auto;line-height:normal;font-family:Menlo,'DejaVu Sans Mono',consolas,'Courier New',monospace\"></pre>\n"
                        ],
                        "text/plain": []
                    },
                    "metadata": {},
                    "output_type": "display_data"
                },
                {
                    "data": {
                        "image/png": "[encoded data removed]",
                        "text/plain": [
                            "<Figure size 800x700 with 1 Axes>"
                        ]
                    },
                    "metadata": {},
                    "output_type": "display_data"
                }
            ],
            "source": [
                "parameters = {\"n_clusters\": 5, \"sieve_size\": 20, \"index\":\"evi\"}\n",
                "cluster_boundaries, samples_locations = utils.get_sample_locations(\n",
                "                                                indices_raster=imagery,\n",
                "                                                farm_boundary=FARM_BOUNDARY,\n",
                "                                                sr_id=4326,\n",
                "                                                time_range=(START_DATE, END_DATE),\n",
                "                                                parameters=parameters)"
            ]
        },
        {
            "cell_type": "markdown",
            "metadata": {},
            "source": [
                "### Review optimal locations\n",
                "Before going to next step, check the number of optimal locations received solve the purpose of requirement, if not re-run the notebook by changing the input parameters."
            ]
        }
    ],
    "metadata": {
        "description": "Helps to find optimal sensor placement location using satellite imagery. The optimal locations identified can be used to collect soil properties by installing sensors or performing other manual operations",
        "disk_space": "",
        "kernelspec": {
            "display_name": "dev-vibes3",
            "language": "python",
            "name": "python3"
        },
        "language_info": {
            "codemirror_mode": {
                "name": "ipython",
                "version": 3
            },
            "file_extension": ".py",
            "mimetype": "text/x-python",
            "name": "python",
            "nbconvert_exporter": "python",
            "pygments_lexer": "ipython3",
            "version": "3.8.15"
        },
        "name": "Optimal Sensor Placement",
        "orig_nbformat": 4,
        "running_time": "",
        "tags": [
            "Sustainability",
            "Index Computation",
            "Model Training",
            "Sentinel",
            "Working with Custom Workflows"
        ]
    },
    "nbformat": 4,
    "nbformat_minor": 2
}
