{
 "cells": [
  {
   "attachments": {},
   "cell_type": "markdown",
   "metadata": {},
   "source": [
    "# FarmVibes.AI - SpaceEye & NDVI Timelapse\n",
    "\n",
    "This notebook provides a self-contained workspace for generating and visualizing a timelapse of SpaceEye and NDVI data for a given time range and geometry. \n",
    "\n",
    "### Conda environment setup\n",
    "To install the required packages, see [this README file](../README.md).\n",
    "\n",
    "------------------------\n"
   ]
  },
  {
   "cell_type": "markdown",
   "metadata": {},
   "source": [
    "### Imports & Constants"
   ]
  },
  {
   "cell_type": "code",
   "execution_count": null,
   "metadata": {},
   "outputs": [],
   "source": [
    "import sys\n",
    "from datetime import datetime\n",
    "\n",
    "import matplotlib.animation as animation\n",
    "\n",
    "import matplotlib.pyplot as plt\n",
    "import numpy as np\n",
    "\n",
    "import shapely as shpg\n",
    "import yaml\n",
    "from IPython.core.display import Image\n",
    "\n",
    "from vibe_core.client import get_default_vibe_client\n",
    "\n",
    "sys.path.append(\"../\")\n",
    "from shared_nb_lib.plot import lw_plot\n",
    "from shared_nb_lib.raster import read_clip_index, read_raster, spaceeye_to_img"
   ]
  },
  {
   "attachments": {},
   "cell_type": "markdown",
   "metadata": {},
   "source": [
    "### Utility method"
   ]
  },
  {
   "cell_type": "code",
   "execution_count": null,
   "metadata": {},
   "outputs": [],
   "source": [
    "def get_missing_ratio(raster, geometry):\n",
    "    ar = read_raster(raster, geometry, filled=False)[0]\n",
    "    c = ar.count()\n",
    "    total = np.prod(ar.shape)\n",
    "    return 1.0 - (c / total)"
   ]
  },
  {
   "attachments": {},
   "cell_type": "markdown",
   "metadata": {},
   "source": [
    "----------------\n",
    "\n",
    "### Generate data with FarmVibes.AI platform\n",
    "\n",
    "Let's define the region and the time range to consider for this task:\n",
    "- **Region:** in this example, we define the geometry by the latitude and longitude coordinates of a bounding box;\n",
    "- **Time Range:** we define the range as a tuple with two datetimes (start and end dates);"
   ]
  },
  {
   "cell_type": "code",
   "execution_count": null,
   "metadata": {},
   "outputs": [],
   "source": [
    "bbox = (74.39184745, 18.16562525, 74.54009755, 18.26854175)\n",
    "geometry = shpg.geometry.box(*bbox, ccw=True)\n",
    "\n",
    "time_range = (datetime(2021, 1, 1), datetime(2022, 1, 1))"
   ]
  },
  {
   "attachments": {},
   "cell_type": "markdown",
   "metadata": {},
   "source": [
    "We will instantiate the FarmVibes.AI remote client and run the workflow:"
   ]
  },
  {
   "cell_type": "code",
   "execution_count": null,
   "metadata": {},
   "outputs": [],
   "source": [
    "# Instantiate the client\n",
    "client = get_default_vibe_client()"
   ]
  },
  {
   "attachments": {},
   "cell_type": "markdown",
   "metadata": {},
   "source": [
    "In this example, we will run a custom workflow that is defined in the `spaceeye_index.yaml` file. It runs the SpaceEye data ingestion workflow (`data_ingestion/spaceeye/spaceeye_interpolation`) and computes the NDVI (`data_processing/index/index`) on top of each daily cloud-free raster. Both the SpaceEye and the NDVI rasters are exposed as sinks. For more information on defining a custom workflow, refer to [the WORKFLOW documentation file](../../documentation/WORKFLOWS.md)."
   ]
  },
  {
   "cell_type": "code",
   "execution_count": null,
   "metadata": {},
   "outputs": [],
   "source": [
    "RUN_NAME = \"SpaceEye and NDVI Timelapse 2021\"\n",
    "\n",
    "with open(\"spaceeye_index.yaml\") as f:\n",
    "    wf_dict = yaml.safe_load(f)\n",
    "\n",
    "wf_run = client.run(wf_dict, RUN_NAME, geometry=geometry, time_range=time_range)\n",
    "wf_run.monitor()"
   ]
  },
  {
   "attachments": {},
   "cell_type": "markdown",
   "metadata": {},
   "source": [
    "Once finished, we can access the generated outputs through `wf_run.output`, using the sinks defined in `spaceeye_index.yaml` as keys:"
   ]
  },
  {
   "cell_type": "code",
   "execution_count": null,
   "metadata": {},
   "outputs": [],
   "source": [
    "spaceeye_rasters = wf_run.output[\"spaceeye_raster\"]\n",
    "ndvi_rasters = wf_run.output[\"index\"]"
   ]
  },
  {
   "attachments": {},
   "cell_type": "markdown",
   "metadata": {},
   "source": [
    "----------------------\n",
    "\n",
    "### Visualizing the rasters\n",
    "\n",
    "We will start by plotting a few of the SpaceEye images output by FarmVibes.AI: "
   ]
  },
  {
   "cell_type": "code",
   "execution_count": null,
   "metadata": {},
   "outputs": [],
   "source": [
    "# Sort assets by date\n",
    "sorted_spaceeye_rasters = sorted(spaceeye_rasters, key=lambda x: x.time_range[0])\n",
    "\n",
    "# Plot a few of them through the time_range\n",
    "n_to_plot = 12\n",
    "indices = np.linspace(0, len(sorted_spaceeye_rasters)-1, n_to_plot, dtype=int)\n",
    "\n",
    "fig, ax = plt.subplots(4, 3, figsize=(15, 12))\n",
    "for ax_idx, idx in enumerate(indices):\n",
    "    raster = sorted_spaceeye_rasters[idx]\n",
    "    ar = spaceeye_to_img(read_raster(raster, geometry=geometry)[0])\n",
    "    ax[ax_idx//3, ax_idx%3].set_title(f\"{raster.time_range[0].strftime('%Y-%m-%d')}\")\n",
    "    ax[ax_idx//3, ax_idx%3].axis(\"off\")\n",
    "    ax[ax_idx//3, ax_idx%3].imshow(ar)\n",
    "lw_plot()"
   ]
  },
  {
   "attachments": {},
   "cell_type": "markdown",
   "metadata": {},
   "source": [
    "Let's do the same for the NDVI:"
   ]
  },
  {
   "cell_type": "code",
   "execution_count": null,
   "metadata": {},
   "outputs": [],
   "source": [
    "# Sort assets by date\n",
    "sorted_ndvi_rasters = sorted(ndvi_rasters, key=lambda x: x.time_range[0])\n",
    "\n",
    "# Plot a few of them through the time_range\n",
    "fig, ax = plt.subplots(4, 3, figsize=(15, 12))\n",
    "\n",
    "for ax_idx, idx in enumerate(indices):\n",
    "    raster = sorted_ndvi_rasters[idx]\n",
    "    ar = read_clip_index(raster, geometry)\n",
    "    ax[ax_idx//3, ax_idx%3].set_title(f\"{raster.time_range[0].strftime('%Y-%m-%d')}\")\n",
    "    ax[ax_idx//3, ax_idx%3].axis(\"off\")\n",
    "    ax[ax_idx//3, ax_idx%3].imshow(ar)"
   ]
  },
  {
   "attachments": {},
   "cell_type": "markdown",
   "metadata": {},
   "source": [
    "-------------------------------------\n",
    "\n",
    "## Timelapse\n",
    "\n",
    "To get a better sense of the progression of the region throughout the time range, let's build a timelapse from the generated images using `matplotlib.animation`. \n",
    "\n",
    "As we might have seen in the images above, some of them have missing data represented by black/white regions. We will filter those out before generating our timelapse."
   ]
  },
  {
   "cell_type": "code",
   "execution_count": null,
   "metadata": {},
   "outputs": [],
   "source": [
    "# Filtering out rasters with more than 10% of missing pixels\n",
    "missing_data_thr = .1\n",
    "\n",
    "missing_ratio = [get_missing_ratio(raster, geometry) for raster in sorted_spaceeye_rasters] \n",
    "filtered_se_rasters = [se_raster for se_raster, r in zip(sorted_spaceeye_rasters, missing_ratio) if r < missing_data_thr]\n",
    "filtered_ndvi_rasters = [ndvi_raster for ndvi_raster, r in zip(sorted_ndvi_rasters, missing_ratio) if r < missing_data_thr]\n",
    "\n",
    "print(f\"Filtered / Total rasters: {len(filtered_se_rasters)} / {len(sorted_spaceeye_rasters)}\")"
   ]
  },
  {
   "attachments": {},
   "cell_type": "markdown",
   "metadata": {},
   "source": [
    "### SpaceEye timelapse"
   ]
  },
  {
   "cell_type": "code",
   "execution_count": null,
   "metadata": {},
   "outputs": [],
   "source": [
    "# Set up the figure and axis\n",
    "fig, ax = plt.subplots()\n",
    "\n",
    "# Initialize the image plot\n",
    "ar = spaceeye_to_img(read_raster(filtered_se_rasters[0], geometry)[0])\n",
    "im = ax.imshow(ar)\n",
    "ax.set_title(f\"{filtered_se_rasters[0].time_range[0].strftime('%Y-%m-%d')}\")\n",
    "ax.axis(\"off\")\n",
    "\n",
    "# Function to update the plot for each frame\n",
    "def update(i):\n",
    "    raster = filtered_se_rasters[i]\n",
    "    ar = spaceeye_to_img(read_raster(raster, geometry)[0])\n",
    "    im.set_array(ar)\n",
    "    ax.set_title(f\"{raster.time_range[0].strftime('%Y-%m-%d')}\")\n",
    "    return im,\n",
    "\n",
    "# Set up the animation using the update function\n",
    "ani = animation.FuncAnimation(fig, update, frames=range(len(filtered_se_rasters)), blit=True, interval=33.33)\n",
    "\n",
    "# Save the animation as a GIF\n",
    "ani.save('timelapse_spaceeye.gif', writer='imagemagick')"
   ]
  },
  {
   "attachments": {},
   "cell_type": "markdown",
   "metadata": {},
   "source": [
    "Once the generation has finished, we can inspect the file or visualize the timelapse GIF with the following code:"
   ]
  },
  {
   "cell_type": "code",
   "execution_count": null,
   "metadata": {},
   "outputs": [],
   "source": [
    "# We opted not to provide the gifs in the notebook to avoid increasing the notebook size\n",
    "display(Image(filename='./timelapse_spaceeye.gif'))"
   ]
  },
  {
   "attachments": {},
   "cell_type": "markdown",
   "metadata": {},
   "source": [
    "### NDVI timelapse"
   ]
  },
  {
   "cell_type": "code",
   "execution_count": null,
   "metadata": {},
   "outputs": [],
   "source": [
    "# Set up the figure and axis\n",
    "fig, ax = plt.subplots()\n",
    "\n",
    "# Initialize the image plot\n",
    "ar = read_clip_index(filtered_ndvi_rasters[0], geometry)\n",
    "\n",
    "im = ax.imshow(ar)\n",
    "ax.set_title(f\"{filtered_ndvi_rasters[0].time_range[0].strftime('%Y-%m-%d')} --- mean NDVI {np.nanmean(ar):.3f}\")\n",
    "ax.axis(\"off\")\n",
    "\n",
    "# Function to update the plot for each frame\n",
    "def update(i):\n",
    "    raster = filtered_ndvi_rasters[i]\n",
    "    ar = read_clip_index(raster, geometry)\n",
    "    im.set_array(ar)\n",
    "    ax.set_title(f\"{raster.time_range[0].strftime('%Y-%m-%d')} --- mean NDVI {np.nanmean(ar):.3f}\")\n",
    "    return im,\n",
    "\n",
    "# Set up the animation using the update function\n",
    "ani = animation.FuncAnimation(fig, update, frames=range(len(filtered_ndvi_rasters)), blit=True, interval=33.33)\n",
    "\n",
    "# Save the animation as a GIF\n",
    "ani.save('timelapse_ndvi.gif', writer='imagemagick')"
   ]
  },
  {
   "cell_type": "code",
   "execution_count": null,
   "metadata": {},
   "outputs": [],
   "source": [
    "# We opted not to provide the gifs in the notebook to avoid increasing the notebook size\n",
    "display(Image(filename='./timelapse_ndvi.gif'))"
   ]
  }
 ],
 "metadata": {
  "description": "Generate a timelapse of SpaceEye and NDVI rasters.",
  "disk_space": "",
  "kernelspec": {
   "display_name": "farmvibes-ai",
   "language": "python",
   "name": "python3"
  },
  "language_info": {
   "codemirror_mode": {
    "name": "ipython",
    "version": 3
   },
   "file_extension": ".py",
   "mimetype": "text/x-python",
   "name": "python",
   "nbconvert_exporter": "python",
   "pygments_lexer": "ipython3",
   "version": "3.10.6"
  },
  "name": "Timelapse visualization",
  "running_time": "",
  "tags": [
   "SpaceEye",
   "Index Computation",
   "Remote Sensing",
   "Working with Custom Workflows"
  ],
  "vscode": {
   "interpreter": {
    "hash": "c33f7eccc2e9a334585066468810d983e0954bfd57ca3c5a434b1adc3986f2e0"
   }
  }
 },
 "nbformat": 4,
 "nbformat_minor": 2
}
